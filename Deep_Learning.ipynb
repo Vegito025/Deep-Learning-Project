{
  "nbformat": 4,
  "nbformat_minor": 0,
  "metadata": {
    "colab": {
      "name": "Deep Learning  ",
      "provenance": [],
      "collapsed_sections": [],
      "mount_file_id": "1n2abeAE73Swc113KeCWCzBgfkExUCYVx",
      "authorship_tag": "ABX9TyPZ23LzyujYIyW8dY77B7Z/",
      "include_colab_link": true
    },
    "kernelspec": {
      "name": "python3",
      "display_name": "Python 3"
    },
    "language_info": {
      "name": "python"
    },
    "accelerator": "GPU",
    "gpuClass": "standard"
  },
  "cells": [
    {
      "cell_type": "markdown",
      "metadata": {
        "id": "view-in-github",
        "colab_type": "text"
      },
      "source": [
        "<a href=\"https://colab.research.google.com/github/Vegito025/Deep-Learning-Project/blob/master/Deep_Learning.ipynb\" target=\"_parent\"><img src=\"https://colab.research.google.com/assets/colab-badge.svg\" alt=\"Open In Colab\"/></a>"
      ]
    },
    {
      "cell_type": "markdown",
      "source": [
        "# End-to-end Multi-class Dog Breed Classification\n",
        "\n",
        "This notebook builds an end-to-end multi-class image classifier using TensorFlow 2.0 and TensorFlow Hub.\n",
        "\n",
        "## 1. Problem\n",
        "\n",
        "Identifying the breed of a dog given an image of a dog.\n",
        "\n",
        "## 2. Data\n",
        "\n",
        "Thhe data we're using is from Kaggle's dog breed identification competition.\n",
        "\n",
        "## 3. Evaluation\n",
        "\n",
        "The evaluation is a file with prediction probabilities for each dog breed of each test image\n",
        "\n",
        "## 4. Features\n",
        "\n",
        "Some information about the data:\n",
        "* We're dealing with images (unstructured data) so it's probably best we use deep learning/transfer learning.\n",
        "* There are 120 breed of dogs (this means there are 120 different classes).\n",
        "* There are around 10,000+ images in the training set (these images have labels)\n",
        "* There are around 10,000+ images in the test set (these images have no labels, because we'll want to predict them)."
      ],
      "metadata": {
        "id": "ZvAI7wz9JbZE"
      }
    },
    {
      "cell_type": "code",
      "source": [
        "# Import TensorFlow into Colab\n",
        "import tensorflow as tf\n",
        "import tensorflow_hub as hub\n",
        "print(\"TF version:\", tf.__version__)\n",
        "print(\"TF Hub version:\", hub.__version__)\n",
        "\n",
        "# Check for GPU availability \n",
        "print(\"GPU\", \"available\" if tf.config.list_physical_devices(\"GPU\") else \"not available :(\")"
      ],
      "metadata": {
        "colab": {
          "base_uri": "https://localhost:8080/"
        },
        "id": "V4gpLTGtLonG",
        "outputId": "ac347cc7-1fc7-4aa2-8bb0-c254d1f64024"
      },
      "execution_count": 1,
      "outputs": [
        {
          "output_type": "stream",
          "name": "stdout",
          "text": [
            "TF version: 2.8.2\n",
            "TF Hub version: 0.12.0\n",
            "GPU available\n"
          ]
        }
      ]
    },
    {
      "cell_type": "markdown",
      "source": [
        " ## Getting our data ready (turning into Tensors)\n",
        "\n",
        "With all machine learning models, our data has to be in numerical format. So that's what wel'll be doing first. Turning our images into Tensors (numerical representation)\n",
        "\n",
        "Let's start by accessing our data and checking out the labels"
      ],
      "metadata": {
        "id": "lzTMeHJkMIS_"
      }
    },
    {
      "cell_type": "code",
      "source": [
        "import pandas as pd\n",
        "labels_csv = pd.read_csv(\"drive/My Drive/Deep Learning Project/dog-breed-identification/labels.csv\")\n",
        "labels_csv"
      ],
      "metadata": {
        "colab": {
          "base_uri": "https://localhost:8080/",
          "height": 424
        },
        "id": "yt8dknyaXZUe",
        "outputId": "5dd711fd-061f-4a86-a867-80d3fb379945"
      },
      "execution_count": 2,
      "outputs": [
        {
          "output_type": "execute_result",
          "data": {
            "text/plain": [
              "                                     id                     breed\n",
              "0      000bec180eb18c7604dcecc8fe0dba07               boston_bull\n",
              "1      001513dfcb2ffafc82cccf4d8bbaba97                     dingo\n",
              "2      001cdf01b096e06d78e9e5112d419397                  pekinese\n",
              "3      00214f311d5d2247d5dfe4fe24b2303d                  bluetick\n",
              "4      0021f9ceb3235effd7fcde7f7538ed62          golden_retriever\n",
              "...                                 ...                       ...\n",
              "10217  ffd25009d635cfd16e793503ac5edef0                    borzoi\n",
              "10218  ffd3f636f7f379c51ba3648a9ff8254f            dandie_dinmont\n",
              "10219  ffe2ca6c940cddfee68fa3cc6c63213f                  airedale\n",
              "10220  ffe5f6d8e2bff356e9482a80a6e29aac        miniature_pinscher\n",
              "10221  fff43b07992508bc822f33d8ffd902ae  chesapeake_bay_retriever\n",
              "\n",
              "[10222 rows x 2 columns]"
            ],
            "text/html": [
              "\n",
              "  <div id=\"df-f996426b-af91-4af2-acf2-d32a089174a4\">\n",
              "    <div class=\"colab-df-container\">\n",
              "      <div>\n",
              "<style scoped>\n",
              "    .dataframe tbody tr th:only-of-type {\n",
              "        vertical-align: middle;\n",
              "    }\n",
              "\n",
              "    .dataframe tbody tr th {\n",
              "        vertical-align: top;\n",
              "    }\n",
              "\n",
              "    .dataframe thead th {\n",
              "        text-align: right;\n",
              "    }\n",
              "</style>\n",
              "<table border=\"1\" class=\"dataframe\">\n",
              "  <thead>\n",
              "    <tr style=\"text-align: right;\">\n",
              "      <th></th>\n",
              "      <th>id</th>\n",
              "      <th>breed</th>\n",
              "    </tr>\n",
              "  </thead>\n",
              "  <tbody>\n",
              "    <tr>\n",
              "      <th>0</th>\n",
              "      <td>000bec180eb18c7604dcecc8fe0dba07</td>\n",
              "      <td>boston_bull</td>\n",
              "    </tr>\n",
              "    <tr>\n",
              "      <th>1</th>\n",
              "      <td>001513dfcb2ffafc82cccf4d8bbaba97</td>\n",
              "      <td>dingo</td>\n",
              "    </tr>\n",
              "    <tr>\n",
              "      <th>2</th>\n",
              "      <td>001cdf01b096e06d78e9e5112d419397</td>\n",
              "      <td>pekinese</td>\n",
              "    </tr>\n",
              "    <tr>\n",
              "      <th>3</th>\n",
              "      <td>00214f311d5d2247d5dfe4fe24b2303d</td>\n",
              "      <td>bluetick</td>\n",
              "    </tr>\n",
              "    <tr>\n",
              "      <th>4</th>\n",
              "      <td>0021f9ceb3235effd7fcde7f7538ed62</td>\n",
              "      <td>golden_retriever</td>\n",
              "    </tr>\n",
              "    <tr>\n",
              "      <th>...</th>\n",
              "      <td>...</td>\n",
              "      <td>...</td>\n",
              "    </tr>\n",
              "    <tr>\n",
              "      <th>10217</th>\n",
              "      <td>ffd25009d635cfd16e793503ac5edef0</td>\n",
              "      <td>borzoi</td>\n",
              "    </tr>\n",
              "    <tr>\n",
              "      <th>10218</th>\n",
              "      <td>ffd3f636f7f379c51ba3648a9ff8254f</td>\n",
              "      <td>dandie_dinmont</td>\n",
              "    </tr>\n",
              "    <tr>\n",
              "      <th>10219</th>\n",
              "      <td>ffe2ca6c940cddfee68fa3cc6c63213f</td>\n",
              "      <td>airedale</td>\n",
              "    </tr>\n",
              "    <tr>\n",
              "      <th>10220</th>\n",
              "      <td>ffe5f6d8e2bff356e9482a80a6e29aac</td>\n",
              "      <td>miniature_pinscher</td>\n",
              "    </tr>\n",
              "    <tr>\n",
              "      <th>10221</th>\n",
              "      <td>fff43b07992508bc822f33d8ffd902ae</td>\n",
              "      <td>chesapeake_bay_retriever</td>\n",
              "    </tr>\n",
              "  </tbody>\n",
              "</table>\n",
              "<p>10222 rows × 2 columns</p>\n",
              "</div>\n",
              "      <button class=\"colab-df-convert\" onclick=\"convertToInteractive('df-f996426b-af91-4af2-acf2-d32a089174a4')\"\n",
              "              title=\"Convert this dataframe to an interactive table.\"\n",
              "              style=\"display:none;\">\n",
              "        \n",
              "  <svg xmlns=\"http://www.w3.org/2000/svg\" height=\"24px\"viewBox=\"0 0 24 24\"\n",
              "       width=\"24px\">\n",
              "    <path d=\"M0 0h24v24H0V0z\" fill=\"none\"/>\n",
              "    <path d=\"M18.56 5.44l.94 2.06.94-2.06 2.06-.94-2.06-.94-.94-2.06-.94 2.06-2.06.94zm-11 1L8.5 8.5l.94-2.06 2.06-.94-2.06-.94L8.5 2.5l-.94 2.06-2.06.94zm10 10l.94 2.06.94-2.06 2.06-.94-2.06-.94-.94-2.06-.94 2.06-2.06.94z\"/><path d=\"M17.41 7.96l-1.37-1.37c-.4-.4-.92-.59-1.43-.59-.52 0-1.04.2-1.43.59L10.3 9.45l-7.72 7.72c-.78.78-.78 2.05 0 2.83L4 21.41c.39.39.9.59 1.41.59.51 0 1.02-.2 1.41-.59l7.78-7.78 2.81-2.81c.8-.78.8-2.07 0-2.86zM5.41 20L4 18.59l7.72-7.72 1.47 1.35L5.41 20z\"/>\n",
              "  </svg>\n",
              "      </button>\n",
              "      \n",
              "  <style>\n",
              "    .colab-df-container {\n",
              "      display:flex;\n",
              "      flex-wrap:wrap;\n",
              "      gap: 12px;\n",
              "    }\n",
              "\n",
              "    .colab-df-convert {\n",
              "      background-color: #E8F0FE;\n",
              "      border: none;\n",
              "      border-radius: 50%;\n",
              "      cursor: pointer;\n",
              "      display: none;\n",
              "      fill: #1967D2;\n",
              "      height: 32px;\n",
              "      padding: 0 0 0 0;\n",
              "      width: 32px;\n",
              "    }\n",
              "\n",
              "    .colab-df-convert:hover {\n",
              "      background-color: #E2EBFA;\n",
              "      box-shadow: 0px 1px 2px rgba(60, 64, 67, 0.3), 0px 1px 3px 1px rgba(60, 64, 67, 0.15);\n",
              "      fill: #174EA6;\n",
              "    }\n",
              "\n",
              "    [theme=dark] .colab-df-convert {\n",
              "      background-color: #3B4455;\n",
              "      fill: #D2E3FC;\n",
              "    }\n",
              "\n",
              "    [theme=dark] .colab-df-convert:hover {\n",
              "      background-color: #434B5C;\n",
              "      box-shadow: 0px 1px 3px 1px rgba(0, 0, 0, 0.15);\n",
              "      filter: drop-shadow(0px 1px 2px rgba(0, 0, 0, 0.3));\n",
              "      fill: #FFFFFF;\n",
              "    }\n",
              "  </style>\n",
              "\n",
              "      <script>\n",
              "        const buttonEl =\n",
              "          document.querySelector('#df-f996426b-af91-4af2-acf2-d32a089174a4 button.colab-df-convert');\n",
              "        buttonEl.style.display =\n",
              "          google.colab.kernel.accessAllowed ? 'block' : 'none';\n",
              "\n",
              "        async function convertToInteractive(key) {\n",
              "          const element = document.querySelector('#df-f996426b-af91-4af2-acf2-d32a089174a4');\n",
              "          const dataTable =\n",
              "            await google.colab.kernel.invokeFunction('convertToInteractive',\n",
              "                                                     [key], {});\n",
              "          if (!dataTable) return;\n",
              "\n",
              "          const docLinkHtml = 'Like what you see? Visit the ' +\n",
              "            '<a target=\"_blank\" href=https://colab.research.google.com/notebooks/data_table.ipynb>data table notebook</a>'\n",
              "            + ' to learn more about interactive tables.';\n",
              "          element.innerHTML = '';\n",
              "          dataTable['output_type'] = 'display_data';\n",
              "          await google.colab.output.renderOutput(dataTable, element);\n",
              "          const docLink = document.createElement('div');\n",
              "          docLink.innerHTML = docLinkHtml;\n",
              "          element.appendChild(docLink);\n",
              "        }\n",
              "      </script>\n",
              "    </div>\n",
              "  </div>\n",
              "  "
            ]
          },
          "metadata": {},
          "execution_count": 2
        }
      ]
    },
    {
      "cell_type": "code",
      "source": [
        "print(labels_csv.describe())"
      ],
      "metadata": {
        "colab": {
          "base_uri": "https://localhost:8080/"
        },
        "id": "NGWyTNtnX3xV",
        "outputId": "b4af1032-83b2-47d0-ee3b-bca50dda1ece"
      },
      "execution_count": 3,
      "outputs": [
        {
          "output_type": "stream",
          "name": "stdout",
          "text": [
            "                                      id               breed\n",
            "count                              10222               10222\n",
            "unique                             10222                 120\n",
            "top     000bec180eb18c7604dcecc8fe0dba07  scottish_deerhound\n",
            "freq                                   1                 126\n"
          ]
        }
      ]
    },
    {
      "cell_type": "code",
      "source": [
        "print(labels_csv.head())"
      ],
      "metadata": {
        "colab": {
          "base_uri": "https://localhost:8080/"
        },
        "id": "RAnT6LwIY-gf",
        "outputId": "e8ee9ecd-c70c-4814-dbca-422c3e807127"
      },
      "execution_count": 4,
      "outputs": [
        {
          "output_type": "stream",
          "name": "stdout",
          "text": [
            "                                 id             breed\n",
            "0  000bec180eb18c7604dcecc8fe0dba07       boston_bull\n",
            "1  001513dfcb2ffafc82cccf4d8bbaba97             dingo\n",
            "2  001cdf01b096e06d78e9e5112d419397          pekinese\n",
            "3  00214f311d5d2247d5dfe4fe24b2303d          bluetick\n",
            "4  0021f9ceb3235effd7fcde7f7538ed62  golden_retriever\n"
          ]
        }
      ]
    },
    {
      "cell_type": "code",
      "source": [
        "labels_csv[\"breed\"].value_counts().plot.bar(figsize=(20,10));"
      ],
      "metadata": {
        "colab": {
          "base_uri": "https://localhost:8080/",
          "height": 733
        },
        "id": "iY7aZnO2ZDSq",
        "outputId": "9bcd4d5c-f171-4716-c83e-b713cbafdd53"
      },
      "execution_count": 5,
      "outputs": [
        {
          "output_type": "display_data",
          "data": {
            "text/plain": [
              "<Figure size 1440x720 with 1 Axes>"
            ],
            "image/png": "[encoded data removed]"
          },
          "metadata": {
            "needs_background": "light"
          }
        }
      ]
    },
    {
      "cell_type": "code",
      "source": [
        "labels_csv[\"breed\"].value_counts().median()"
      ],
      "metadata": {
        "colab": {
          "base_uri": "https://localhost:8080/"
        },
        "id": "nJ1ExzHXa-0R",
        "outputId": "98dd5a48-0384-4b0d-a386-5f3e1543926b"
      },
      "execution_count": 6,
      "outputs": [
        {
          "output_type": "execute_result",
          "data": {
            "text/plain": [
              "82.0"
            ]
          },
          "metadata": {},
          "execution_count": 6
        }
      ]
    },
    {
      "cell_type": "code",
      "source": [
        "from IPython.display import Image\n",
        "Image(\"drive/MyDrive/Deep Learning Project/dog-breed-identification/train/001513dfcb2ffafc82cccf4d8bbaba97.jpg\")"
      ],
      "metadata": {
        "id": "8dEy9gVubZfC",
        "colab": {
          "base_uri": "https://localhost:8080/",
          "height": 392
        },
        "outputId": "81602808-7106-43bd-b9f6-abe29d38b351"
      },
      "execution_count": 7,
      "outputs": [
        {
          "output_type": "execute_result",
          "data": {
            "text/plain": [
              "<IPython.core.display.Image object>"
            ],
            "image/jpeg": "[encoded data removed]"
          },
          "metadata": {},
          "execution_count": 7
        }
      ]
    },
    {
      "cell_type": "markdown",
      "source": [
        "#### Getting images and their labels\n",
        "\n",
        "Let's get a list of all of our image file pathnames."
      ],
      "metadata": {
        "id": "Gt5DUJCoc0Ae"
      }
    },
    {
      "cell_type": "code",
      "source": [
        "# Create pathnames from image ID's\n",
        "filenames = [\"drive/MyDrive/Deep Learning Project/dog-breed-identification/train/\"+ fname + \".jpg\" for fname in labels_csv[\"id\"]]\n",
        "filenames"
      ],
      "metadata": {
        "id": "DpaQATi4cWLM",
        "colab": {
          "base_uri": "https://localhost:8080/"
        },
        "outputId": "1b3f2375-f6b1-436d-c72b-503f1f61c0bc"
      },
      "execution_count": 8,
      "outputs": [
        {
          "output_type": "execute_result",
          "data": {
            "text/plain": [
              "['drive/MyDrive/Deep Learning Project/dog-breed-identification/train/000bec180eb18c7604dcecc8fe0dba07.jpg',\n",
              " 'drive/MyDrive/Deep Learning Project/dog-breed-identification/train/001513dfcb2ffafc82cccf4d8bbaba97.jpg',\n",
              " 'drive/MyDrive/Deep Learning Project/dog-breed-identification/train/001cdf01b096e06d78e9e5112d419397.jpg',\n",
              " 'drive/MyDrive/Deep Learning Project/dog-breed-identification/train/00214f311d5d2247d5dfe4fe24b2303d.jpg',\n",
              " 'drive/MyDrive/Deep Learning Project/dog-breed-identification/train/0021f9ceb3235effd7fcde7f7538ed62.jpg',\n",
              " 'drive/MyDrive/Deep Learning Project/dog-breed-identification/train/002211c81b498ef88e1b40b9abf84e1d.jpg',\n",
              " 'drive/MyDrive/Deep Learning Project/dog-breed-identification/train/00290d3e1fdd27226ba27a8ce248ce85.jpg',\n",
              " 'drive/MyDrive/Deep Learning Project/dog-breed-identification/train/002a283a315af96eaea0e28e7163b21b.jpg',\n",
              " 'drive/MyDrive/Deep Learning Project/dog-breed-identification/train/003df8b8a8b05244b1d920bb6cf451f9.jpg',\n",
              " 'drive/MyDrive/Deep Learning Project/dog-breed-identification/train/0042188c895a2f14ef64a918ed9c7b64.jpg',\n",
              " 'drive/MyDrive/Deep Learning Project/dog-breed-identification/train/004396df1acd0f1247b740ca2b14616e.jpg',\n",
              " 'drive/MyDrive/Deep Learning Project/dog-breed-identification/train/0067dc3eab0b3c3ef0439477624d85d6.jpg',\n",
              " 'drive/MyDrive/Deep Learning Project/dog-breed-identification/train/00693b8bc2470375cc744a6391d397ec.jpg',\n",
              " 'drive/MyDrive/Deep Learning Project/dog-breed-identification/train/006cc3ddb9dc1bd827479569fcdc52dc.jpg',\n",
              " 'drive/MyDrive/Deep Learning Project/dog-breed-identification/train/0075dc49dab4024d12fafe67074d8a81.jpg',\n",
              " 'drive/MyDrive/Deep Learning Project/dog-breed-identification/train/00792e341f3c6eb33663e415d0715370.jpg',\n",
              " 'drive/MyDrive/Deep Learning Project/dog-breed-identification/train/007b5a16db9d9ff9d7ad39982703e429.jpg',\n",
              " 'drive/MyDrive/Deep Learning Project/dog-breed-identification/train/007b8a07882822475a4ce6581e70b1f8.jpg',\n",
              " 'drive/MyDrive/Deep Learning Project/dog-breed-identification/train/007ff9a78eba2aebb558afea3a51c469.jpg',\n",
              " 'drive/MyDrive/Deep Learning Project/dog-breed-identification/train/008887054b18ba3c7601792b6a453cc3.jpg',\n",
              " 'drive/MyDrive/Deep Learning Project/dog-breed-identification/train/008b1271ed1addaccf93783b39deab45.jpg',\n",
              " 'drive/MyDrive/Deep Learning Project/dog-breed-identification/train/008ba178d6dfc1a583617470d19c1673.jpg',\n",
              " 'drive/MyDrive/Deep Learning Project/dog-breed-identification/train/009509be3ca7cce0ff9e37c8b09b1125.jpg',\n",
              " 'drive/MyDrive/Deep Learning Project/dog-breed-identification/train/0097c6242c6f3071762d9f85c3ef1b2f.jpg',\n",
              " 'drive/MyDrive/Deep Learning Project/dog-breed-identification/train/00a338a92e4e7bf543340dc849230e75.jpg',\n",
              " 'drive/MyDrive/Deep Learning Project/dog-breed-identification/train/00a366d4b4a9bbb6c8a63126697b7656.jpg',\n",
              " 'drive/MyDrive/Deep Learning Project/dog-breed-identification/train/00a862390341c5be090dd72bd2bc19ef.jpg',\n",
              " 'drive/MyDrive/Deep Learning Project/dog-breed-identification/train/00b7d114bc5166a629a3cc03d9329120.jpg',\n",
              " 'drive/MyDrive/Deep Learning Project/dog-breed-identification/train/00ba244566e36e0af3d979320fd3017f.jpg',\n",
              " 'drive/MyDrive/Deep Learning Project/dog-breed-identification/train/00bee065dcec471f26394855c5c2f3de.jpg',\n",
              " 'drive/MyDrive/Deep Learning Project/dog-breed-identification/train/00ca18751837cd6a22813f8e221f7819.jpg',\n",
              " 'drive/MyDrive/Deep Learning Project/dog-breed-identification/train/00cc68a50b2d016a6b29af628ea4e04b.jpg',\n",
              " 'drive/MyDrive/Deep Learning Project/dog-breed-identification/train/00ddcec076073cc96f82c27bf4548fbc.jpg',\n",
              " 'drive/MyDrive/Deep Learning Project/dog-breed-identification/train/00e9ed3fab1d2032603d1a90e557976f.jpg',\n",
              " 'drive/MyDrive/Deep Learning Project/dog-breed-identification/train/00f34ac0a16ef43e6fd1de49a26081ce.jpg',\n",
              " 'drive/MyDrive/Deep Learning Project/dog-breed-identification/train/00fa641312604199831755f96109fde7.jpg',\n",
              " 'drive/MyDrive/Deep Learning Project/dog-breed-identification/train/00fda6ecca54efbac26e907be4b0b78b.jpg',\n",
              " 'drive/MyDrive/Deep Learning Project/dog-breed-identification/train/0100f55e4f0fe28f2c0465d3fc4b9897.jpg',\n",
              " 'drive/MyDrive/Deep Learning Project/dog-breed-identification/train/010d65bd29d246aea53d9849da142ccf.jpg',\n",
              " 'drive/MyDrive/Deep Learning Project/dog-breed-identification/train/010e87fdf252645a827e37470e65e842.jpg',\n",
              " 'drive/MyDrive/Deep Learning Project/dog-breed-identification/train/011761e3ae8ec5e188e8f0bcb59bb8b6.jpg',\n",
              " 'drive/MyDrive/Deep Learning Project/dog-breed-identification/train/011bd7fd7c036dbb243d0e37329c77b7.jpg',\n",
              " 'drive/MyDrive/Deep Learning Project/dog-breed-identification/train/011e06760794850c40f23d6426c40774.jpg',\n",
              " 'drive/MyDrive/Deep Learning Project/dog-breed-identification/train/0120343862761d052d6a7ade81625c94.jpg',\n",
              " 'drive/MyDrive/Deep Learning Project/dog-breed-identification/train/01268f0007876a692907bda89468184c.jpg',\n",
              " 'drive/MyDrive/Deep Learning Project/dog-breed-identification/train/012ff2d21dad14452ea16b4cda7eef4c.jpg',\n",
              " 'drive/MyDrive/Deep Learning Project/dog-breed-identification/train/013aed490e0e15a8989e12ae0d0ccfaa.jpg',\n",
              " 'drive/MyDrive/Deep Learning Project/dog-breed-identification/train/013c43f40f0fb13fa25ac0c2a70fd48f.jpg',\n",
              " 'drive/MyDrive/Deep Learning Project/dog-breed-identification/train/013f8fdf6d638c7bb042f5f17e8a9fdc.jpg',\n",
              " 'drive/MyDrive/Deep Learning Project/dog-breed-identification/train/0140b05bfc2fd43f2819fab3d8566109.jpg',\n",
              " 'drive/MyDrive/Deep Learning Project/dog-breed-identification/train/014c2b0cd8e3b517e649cecf8543b8fe.jpg',\n",
              " 'drive/MyDrive/Deep Learning Project/dog-breed-identification/train/0159b6457aac89f43d1c1931cdf7500b.jpg',\n",
              " 'drive/MyDrive/Deep Learning Project/dog-breed-identification/train/015b363b062f602e7ec04ce28e640d05.jpg',\n",
              " 'drive/MyDrive/Deep Learning Project/dog-breed-identification/train/015b4aa50dd9b4a0d26dc0c38f41b489.jpg',\n",
              " 'drive/MyDrive/Deep Learning Project/dog-breed-identification/train/015d86b2fcb36f0fdfbe94a66c0e3400.jpg',\n",
              " 'drive/MyDrive/Deep Learning Project/dog-breed-identification/train/0161847d5bfae154af084993fa26a1a7.jpg',\n",
              " 'drive/MyDrive/Deep Learning Project/dog-breed-identification/train/0162107acd8f2588c0944b791d61bb0c.jpg',\n",
              " 'drive/MyDrive/Deep Learning Project/dog-breed-identification/train/0162b3e0144fb1d1ab82fbff3ace9938.jpg',\n",
              " 'drive/MyDrive/Deep Learning Project/dog-breed-identification/train/01680178ca6664294efb493a46014a82.jpg',\n",
              " 'drive/MyDrive/Deep Learning Project/dog-breed-identification/train/0169294085e94d1250587b38e4fbb532.jpg',\n",
              " 'drive/MyDrive/Deep Learning Project/dog-breed-identification/train/016bcdb05e2d0e0878877df21b8c3cff.jpg',\n",
              " 'drive/MyDrive/Deep Learning Project/dog-breed-identification/train/0177a92a906192bfde8adbb8a237e524.jpg',\n",
              " 'drive/MyDrive/Deep Learning Project/dog-breed-identification/train/018aae5768833c34e3df30d63429251e.jpg',\n",
              " 'drive/MyDrive/Deep Learning Project/dog-breed-identification/train/0192d7174233ebdb3d720000413829ac.jpg',\n",
              " 'drive/MyDrive/Deep Learning Project/dog-breed-identification/train/019c92d1ff56deb9d75d809a92bc84d8.jpg',\n",
              " 'drive/MyDrive/Deep Learning Project/dog-breed-identification/train/019ff93e03802e661577b5869e099dcb.jpg',\n",
              " 'drive/MyDrive/Deep Learning Project/dog-breed-identification/train/01a3b064c56edbe3abf55051b16134d4.jpg',\n",
              " 'drive/MyDrive/Deep Learning Project/dog-breed-identification/train/01a41985ab8209e750588fa348d635be.jpg',\n",
              " 'drive/MyDrive/Deep Learning Project/dog-breed-identification/train/01b09bdac592b0eb9909dd105314ad3a.jpg',\n",
              " 'drive/MyDrive/Deep Learning Project/dog-breed-identification/train/01b35a06b00e4a832b935cf8d51303c1.jpg',\n",
              " 'drive/MyDrive/Deep Learning Project/dog-breed-identification/train/01b36cb1b80ab8c3a7d2b7128ad21bdc.jpg',\n",
              " 'drive/MyDrive/Deep Learning Project/dog-breed-identification/train/01b6c2bd3053535a58d8de763cf06aa0.jpg',\n",
              " 'drive/MyDrive/Deep Learning Project/dog-breed-identification/train/01b849a7e4fbc545f6b2806cb87ab371.jpg',\n",
              " 'drive/MyDrive/Deep Learning Project/dog-breed-identification/train/01c230ec18eed427cf5b1db1a833024d.jpg',\n",
              " 'drive/MyDrive/Deep Learning Project/dog-breed-identification/train/01d0f3692e576b3cde511285352aed4a.jpg',\n",
              " 'drive/MyDrive/Deep Learning Project/dog-breed-identification/train/01de1f7b7b4465a6d130a56746af66a6.jpg',\n",
              " 'drive/MyDrive/Deep Learning Project/dog-breed-identification/train/01dffcb02d6cba7d2b101fcc93daa6f1.jpg',\n",
              " 'drive/MyDrive/Deep Learning Project/dog-breed-identification/train/01e2245b46eb747260ff80f1c892daef.jpg',\n",
              " 'drive/MyDrive/Deep Learning Project/dog-breed-identification/train/01e4d3d1cb704ed819bce35d22e716a7.jpg',\n",
              " 'drive/MyDrive/Deep Learning Project/dog-breed-identification/train/01e787576c003930f96c966f9c3e1d44.jpg',\n",
              " 'drive/MyDrive/Deep Learning Project/dog-breed-identification/train/01ee3c7ff9bcaba9874183135877670e.jpg',\n",
              " 'drive/MyDrive/Deep Learning Project/dog-breed-identification/train/01f397f16fb2d7d76fdbce4e2207c1a3.jpg',\n",
              " 'drive/MyDrive/Deep Learning Project/dog-breed-identification/train/01f429667104c0c5a5f321700f15435c.jpg',\n",
              " 'drive/MyDrive/Deep Learning Project/dog-breed-identification/train/01f8540fb1084107a6eb3e528f82c1aa.jpg',\n",
              " 'drive/MyDrive/Deep Learning Project/dog-breed-identification/train/0206c12e8984e3c8a166cc272de25d6f.jpg',\n",
              " 'drive/MyDrive/Deep Learning Project/dog-breed-identification/train/0207803a6ce1bfad98e7f095c965e44a.jpg',\n",
              " 'drive/MyDrive/Deep Learning Project/dog-breed-identification/train/020ecfccf3c900b01ce831abbf20b485.jpg',\n",
              " 'drive/MyDrive/Deep Learning Project/dog-breed-identification/train/0214e2d616ec7eb7cb0d8c19a7f29e70.jpg',\n",
              " 'drive/MyDrive/Deep Learning Project/dog-breed-identification/train/021b5a49189665c0442c19b5b33e8cf1.jpg',\n",
              " 'drive/MyDrive/Deep Learning Project/dog-breed-identification/train/0229677aec75183a16de9d6f6658fae2.jpg',\n",
              " 'drive/MyDrive/Deep Learning Project/dog-breed-identification/train/022b34fd8734b39995a9f38a4f3e7b6b.jpg',\n",
              " 'drive/MyDrive/Deep Learning Project/dog-breed-identification/train/0234695e7a548e2ad1b2ac91d6486c1c.jpg',\n",
              " 'drive/MyDrive/Deep Learning Project/dog-breed-identification/train/023e4e28415506e0deddcbd8f8bdab29.jpg',\n",
              " 'drive/MyDrive/Deep Learning Project/dog-breed-identification/train/0246f44bb123ce3f91c939861eb97fb7.jpg',\n",
              " 'drive/MyDrive/Deep Learning Project/dog-breed-identification/train/024ecfa590271db8616bfaa59159d7b2.jpg',\n",
              " 'drive/MyDrive/Deep Learning Project/dog-breed-identification/train/024fc0be976885d5cfcf6770239a9001.jpg',\n",
              " 'drive/MyDrive/Deep Learning Project/dog-breed-identification/train/024fd994941146f8dfdb38a9b2b74efd.jpg',\n",
              " 'drive/MyDrive/Deep Learning Project/dog-breed-identification/train/02508e76981e1ba059d785704b4c480c.jpg',\n",
              " 'drive/MyDrive/Deep Learning Project/dog-breed-identification/train/0255a5bca3b9d91d4fdba8d7419b5e69.jpg',\n",
              " 'drive/MyDrive/Deep Learning Project/dog-breed-identification/train/025bab46ddcde249d5c52c660fea6d26.jpg',\n",
              " 'drive/MyDrive/Deep Learning Project/dog-breed-identification/train/025d903b457b865fd29424916e42fbc2.jpg',\n",
              " 'drive/MyDrive/Deep Learning Project/dog-breed-identification/train/0264c5fcaaba5e31082395476447b254.jpg',\n",
              " 'drive/MyDrive/Deep Learning Project/dog-breed-identification/train/0267c5f1acbab52ae4a7927e0398612b.jpg',\n",
              " 'drive/MyDrive/Deep Learning Project/dog-breed-identification/train/0270276158566af50ef48b1284c998d6.jpg',\n",
              " 'drive/MyDrive/Deep Learning Project/dog-breed-identification/train/02777bdfcf9f1a593af768e6616df4b3.jpg',\n",
              " 'drive/MyDrive/Deep Learning Project/dog-breed-identification/train/0287b3374c33346e2b41f73af3a36261.jpg',\n",
              " 'drive/MyDrive/Deep Learning Project/dog-breed-identification/train/029202b0cf0b5d6d48c6ce7b432409ef.jpg',\n",
              " 'drive/MyDrive/Deep Learning Project/dog-breed-identification/train/0294b42910cb8a8d8340e45d8aaf2953.jpg',\n",
              " 'drive/MyDrive/Deep Learning Project/dog-breed-identification/train/0296633efc21006e3ce2af7eaeff04f7.jpg',\n",
              " 'drive/MyDrive/Deep Learning Project/dog-breed-identification/train/029ed6af5dcadfd105db9271e12ede14.jpg',\n",
              " 'drive/MyDrive/Deep Learning Project/dog-breed-identification/train/02a3edc1d6aae095185131fe185478e0.jpg',\n",
              " 'drive/MyDrive/Deep Learning Project/dog-breed-identification/train/02a8ed20109bd62bd5894f276c08c8a2.jpg',\n",
              " 'drive/MyDrive/Deep Learning Project/dog-breed-identification/train/02ad779f2721db9364d3bb68f5580582.jpg',\n",
              " 'drive/MyDrive/Deep Learning Project/dog-breed-identification/train/02b1c50fb7315423a664f3ce68c94e30.jpg',\n",
              " 'drive/MyDrive/Deep Learning Project/dog-breed-identification/train/02c48781eff39a66ae6dd8626e35809e.jpg',\n",
              " 'drive/MyDrive/Deep Learning Project/dog-breed-identification/train/02c90d8109d9a48739b9887349d92b1f.jpg',\n",
              " 'drive/MyDrive/Deep Learning Project/dog-breed-identification/train/02cc0d7c8b7b513b4325bda30dce222d.jpg',\n",
              " 'drive/MyDrive/Deep Learning Project/dog-breed-identification/train/02d45a238621c3f2cbde5c1d173ead1e.jpg',\n",
              " 'drive/MyDrive/Deep Learning Project/dog-breed-identification/train/02d54f0dfb40038765e838459ae8c956.jpg',\n",
              " 'drive/MyDrive/Deep Learning Project/dog-breed-identification/train/02df8523833c432f90071f86dff69a8f.jpg',\n",
              " 'drive/MyDrive/Deep Learning Project/dog-breed-identification/train/02dfcd0a24a9c41070f4f94b4c9933ff.jpg',\n",
              " 'drive/MyDrive/Deep Learning Project/dog-breed-identification/train/02e7b5a86cec57f5935374946d4f5dc1.jpg',\n",
              " 'drive/MyDrive/Deep Learning Project/dog-breed-identification/train/02eef0f899b81ddf27a42641bc8db9ee.jpg',\n",
              " 'drive/MyDrive/Deep Learning Project/dog-breed-identification/train/02ef5f19db8cf4da62016a1067bdc548.jpg',\n",
              " 'drive/MyDrive/Deep Learning Project/dog-breed-identification/train/02f07e7e51662336a9d8c775a4eac5f4.jpg',\n",
              " 'drive/MyDrive/Deep Learning Project/dog-breed-identification/train/02f3d5fd1eea0a2e6f4742bc54b51ba9.jpg',\n",
              " 'drive/MyDrive/Deep Learning Project/dog-breed-identification/train/02f6152a9401568d695234d33bb6c37d.jpg',\n",
              " 'drive/MyDrive/Deep Learning Project/dog-breed-identification/train/02ff77af410e966b7b661f6f0789d947.jpg',\n",
              " 'drive/MyDrive/Deep Learning Project/dog-breed-identification/train/0310a425f26d797634aadeb66bd63ef1.jpg',\n",
              " 'drive/MyDrive/Deep Learning Project/dog-breed-identification/train/0311a6a51a414ba91f3ad8055170baa1.jpg',\n",
              " 'drive/MyDrive/Deep Learning Project/dog-breed-identification/train/0314048edbd08c8c50eb3c93281bd043.jpg',\n",
              " 'drive/MyDrive/Deep Learning Project/dog-breed-identification/train/031d3353588a81b42bcae74ff19571b0.jpg',\n",
              " 'drive/MyDrive/Deep Learning Project/dog-breed-identification/train/0325e6ba5b6afd3e0dd94c3a77b6de59.jpg',\n",
              " 'drive/MyDrive/Deep Learning Project/dog-breed-identification/train/032620ae0f847d957d94d1fd76cb17e8.jpg',\n",
              " 'drive/MyDrive/Deep Learning Project/dog-breed-identification/train/0326344e0d5181130c28d25edd5627e4.jpg',\n",
              " 'drive/MyDrive/Deep Learning Project/dog-breed-identification/train/0326d40cc2b35521f1f3e73cabcf2a23.jpg',\n",
              " 'drive/MyDrive/Deep Learning Project/dog-breed-identification/train/032c14b2df4193004913b01ab48f87c6.jpg',\n",
              " 'drive/MyDrive/Deep Learning Project/dog-breed-identification/train/0341e3d7a4624d6a7b061fdc25b69044.jpg',\n",
              " 'drive/MyDrive/Deep Learning Project/dog-breed-identification/train/0345638400c47bbd920474672562077e.jpg',\n",
              " 'drive/MyDrive/Deep Learning Project/dog-breed-identification/train/03564fbb4aba93dd80e5c7cd76f28d28.jpg',\n",
              " 'drive/MyDrive/Deep Learning Project/dog-breed-identification/train/035b459eb52acba2ae75bed041b368fe.jpg',\n",
              " 'drive/MyDrive/Deep Learning Project/dog-breed-identification/train/035f28d8ad34afaf7c8d276d6674bf8f.jpg',\n",
              " 'drive/MyDrive/Deep Learning Project/dog-breed-identification/train/035fe39454c2ddb2f6a37146cacf0ac0.jpg',\n",
              " 'drive/MyDrive/Deep Learning Project/dog-breed-identification/train/0360d42966d191a5db4c4bb2e8c66229.jpg',\n",
              " 'drive/MyDrive/Deep Learning Project/dog-breed-identification/train/0365fe4e3e13a885c6b02ebbbf2d9173.jpg',\n",
              " 'drive/MyDrive/Deep Learning Project/dog-breed-identification/train/0374e657c8b3b55579751adcaa7c8023.jpg',\n",
              " 'drive/MyDrive/Deep Learning Project/dog-breed-identification/train/0379145880ad3978f9b80f0dc2c03fba.jpg',\n",
              " 'drive/MyDrive/Deep Learning Project/dog-breed-identification/train/037ac6cbd9c96d70e68917aa059b6aab.jpg',\n",
              " 'drive/MyDrive/Deep Learning Project/dog-breed-identification/train/039bdddd8546f0fafdf984b810d1138b.jpg',\n",
              " 'drive/MyDrive/Deep Learning Project/dog-breed-identification/train/039e61713398f27d027480e4bd0056d1.jpg',\n",
              " 'drive/MyDrive/Deep Learning Project/dog-breed-identification/train/03ae71ff9e4c5ac97afdfa956ea5e191.jpg',\n",
              " 'drive/MyDrive/Deep Learning Project/dog-breed-identification/train/03b0e7ace52c10dc4878f60307cdebe3.jpg',\n",
              " 'drive/MyDrive/Deep Learning Project/dog-breed-identification/train/03b7320cf8054e57b499e01d1cde0644.jpg',\n",
              " 'drive/MyDrive/Deep Learning Project/dog-breed-identification/train/03b9ab173e5862580909fee10f0ea46d.jpg',\n",
              " 'drive/MyDrive/Deep Learning Project/dog-breed-identification/train/03bc1c631e57ba87c85b98efd0912c00.jpg',\n",
              " 'drive/MyDrive/Deep Learning Project/dog-breed-identification/train/03bda5c85206a273eb978c7b9483df5f.jpg',\n",
              " 'drive/MyDrive/Deep Learning Project/dog-breed-identification/train/03c1557464297ffffc8da977c4db7e68.jpg',\n",
              " 'drive/MyDrive/Deep Learning Project/dog-breed-identification/train/03c81a2e78dc915bc515fcb8aafd2f6f.jpg',\n",
              " 'drive/MyDrive/Deep Learning Project/dog-breed-identification/train/03ca2c79345f4c27232ed5b0dc2821c2.jpg',\n",
              " 'drive/MyDrive/Deep Learning Project/dog-breed-identification/train/03cae0a6700c5cc4900e576034361e7a.jpg',\n",
              " 'drive/MyDrive/Deep Learning Project/dog-breed-identification/train/03da788cc7e5c111575daf04e7e3910c.jpg',\n",
              " 'drive/MyDrive/Deep Learning Project/dog-breed-identification/train/03dc61595ad9dbf49e3998cf586ca8cb.jpg',\n",
              " 'drive/MyDrive/Deep Learning Project/dog-breed-identification/train/03dd99e068f1f2283011cc305f5aaa9f.jpg',\n",
              " 'drive/MyDrive/Deep Learning Project/dog-breed-identification/train/03ddfa6f292b49e14ed6be5c58246701.jpg',\n",
              " 'drive/MyDrive/Deep Learning Project/dog-breed-identification/train/03dfefdb2939388f7ca9578cb7c4a2b9.jpg',\n",
              " 'drive/MyDrive/Deep Learning Project/dog-breed-identification/train/03e1d2ee5fd90aef036c90a9e7f81177.jpg',\n",
              " 'drive/MyDrive/Deep Learning Project/dog-breed-identification/train/03eb844e1d5aa5addaab20298b1b70c3.jpg',\n",
              " 'drive/MyDrive/Deep Learning Project/dog-breed-identification/train/03edf850d74d43b2587991ecb673fb33.jpg',\n",
              " 'drive/MyDrive/Deep Learning Project/dog-breed-identification/train/03f2301867ca4d744773c4c06aa61d3c.jpg',\n",
              " 'drive/MyDrive/Deep Learning Project/dog-breed-identification/train/03f2f64aebc483ef8e5e17aba7311aa6.jpg',\n",
              " 'drive/MyDrive/Deep Learning Project/dog-breed-identification/train/03f5b638b8f1c83d3097786e40992ff9.jpg',\n",
              " 'drive/MyDrive/Deep Learning Project/dog-breed-identification/train/03f6435dc8a5e760d19e67831c6034fb.jpg',\n",
              " 'drive/MyDrive/Deep Learning Project/dog-breed-identification/train/040fef64640b89c53f161b6c5215b78b.jpg',\n",
              " 'drive/MyDrive/Deep Learning Project/dog-breed-identification/train/041a54577da744348d4da8094e882cd9.jpg',\n",
              " 'drive/MyDrive/Deep Learning Project/dog-breed-identification/train/041b3b8a40b587a486276ac15edd9eaf.jpg',\n",
              " 'drive/MyDrive/Deep Learning Project/dog-breed-identification/train/041d0d6a8d110b35a3795dd5c68f9a36.jpg',\n",
              " 'drive/MyDrive/Deep Learning Project/dog-breed-identification/train/04254919cc15c6867cccfd738a926999.jpg',\n",
              " 'drive/MyDrive/Deep Learning Project/dog-breed-identification/train/0428e1ae313156ec06dc42096cf1372c.jpg',\n",
              " 'drive/MyDrive/Deep Learning Project/dog-breed-identification/train/042e83e82315bada78f2681d030b0d28.jpg',\n",
              " 'drive/MyDrive/Deep Learning Project/dog-breed-identification/train/042ecd9a978c2ee48d17f7f781621ac9.jpg',\n",
              " 'drive/MyDrive/Deep Learning Project/dog-breed-identification/train/0434ddceef3eea9c757c8e9557a2d698.jpg',\n",
              " 'drive/MyDrive/Deep Learning Project/dog-breed-identification/train/0440acb104d7346ccc9bba0716603f6a.jpg',\n",
              " 'drive/MyDrive/Deep Learning Project/dog-breed-identification/train/0440e760e55c4d6bed536fbc0273801a.jpg',\n",
              " 'drive/MyDrive/Deep Learning Project/dog-breed-identification/train/044644ffbec4b6d402eb824532478811.jpg',\n",
              " 'drive/MyDrive/Deep Learning Project/dog-breed-identification/train/044d904b00ce11cec6e493226c39a4e2.jpg',\n",
              " 'drive/MyDrive/Deep Learning Project/dog-breed-identification/train/044efbf8ab3e7195b8ea3c92ef0d48df.jpg',\n",
              " 'drive/MyDrive/Deep Learning Project/dog-breed-identification/train/044f7e60953230fa45e4367073d96693.jpg',\n",
              " 'drive/MyDrive/Deep Learning Project/dog-breed-identification/train/0450c3899b7ca7cac31406a52c7bc74e.jpg',\n",
              " 'drive/MyDrive/Deep Learning Project/dog-breed-identification/train/0457342c36e7e7d103fa4b286a1d62f8.jpg',\n",
              " 'drive/MyDrive/Deep Learning Project/dog-breed-identification/train/045d421a681a7da04ff668992a8b4c3e.jpg',\n",
              " 'drive/MyDrive/Deep Learning Project/dog-breed-identification/train/045ea2f41120606e2c5ae1315cebfb46.jpg',\n",
              " 'drive/MyDrive/Deep Learning Project/dog-breed-identification/train/046b28d8ac6f7beb3f63159ecaf4cbb6.jpg',\n",
              " 'drive/MyDrive/Deep Learning Project/dog-breed-identification/train/046d8f04a5a42872774110c6a2db1224.jpg',\n",
              " 'drive/MyDrive/Deep Learning Project/dog-breed-identification/train/047d9a7dc7205c76e5487d6fc5f4a666.jpg',\n",
              " 'drive/MyDrive/Deep Learning Project/dog-breed-identification/train/0484a6cc686a07e1edacd0fb44b1d965.jpg',\n",
              " 'drive/MyDrive/Deep Learning Project/dog-breed-identification/train/0486732311e9d60e8712f1dc33c4ebe0.jpg',\n",
              " 'drive/MyDrive/Deep Learning Project/dog-breed-identification/train/0490b67cb414d527d6c21052b1e3b5dd.jpg',\n",
              " 'drive/MyDrive/Deep Learning Project/dog-breed-identification/train/0496d4170e295688e8d6929b239dd4fb.jpg',\n",
              " 'drive/MyDrive/Deep Learning Project/dog-breed-identification/train/049a406bfac63012d757167c084ced1b.jpg',\n",
              " 'drive/MyDrive/Deep Learning Project/dog-breed-identification/train/04a191172e090876d3f180fc318038f0.jpg',\n",
              " 'drive/MyDrive/Deep Learning Project/dog-breed-identification/train/04a3f5dc6d985601f354ab4434645d83.jpg',\n",
              " 'drive/MyDrive/Deep Learning Project/dog-breed-identification/train/04b5834c3a969c6308ce157c547bb313.jpg',\n",
              " 'drive/MyDrive/Deep Learning Project/dog-breed-identification/train/04be608c9c005d9aa0224fe08554e4be.jpg',\n",
              " 'drive/MyDrive/Deep Learning Project/dog-breed-identification/train/04c3bdfec0c7f082c7e697c26be9e020.jpg',\n",
              " 'drive/MyDrive/Deep Learning Project/dog-breed-identification/train/04cce0cd53c6f01d242a49e43de513a1.jpg',\n",
              " 'drive/MyDrive/Deep Learning Project/dog-breed-identification/train/04d2dc1f2804c748b1aa71954bb45d38.jpg',\n",
              " 'drive/MyDrive/Deep Learning Project/dog-breed-identification/train/04d3a777baa532f7558a860393c4537f.jpg',\n",
              " 'drive/MyDrive/Deep Learning Project/dog-breed-identification/train/04d4918090b0c2a7b965ff58f13b2ecf.jpg',\n",
              " 'drive/MyDrive/Deep Learning Project/dog-breed-identification/train/04d50b0dce8b8ee9544d9602df85f722.jpg',\n",
              " 'drive/MyDrive/Deep Learning Project/dog-breed-identification/train/04d5d382a8a02d68859850dc282d3ac4.jpg',\n",
              " 'drive/MyDrive/Deep Learning Project/dog-breed-identification/train/04d6fe2d5ad29be79083e5c9cf3d9b0d.jpg',\n",
              " 'drive/MyDrive/Deep Learning Project/dog-breed-identification/train/04dea47b883acca9bd57c7ea2930524f.jpg',\n",
              " 'drive/MyDrive/Deep Learning Project/dog-breed-identification/train/04e370c8510638ca969a716822444085.jpg',\n",
              " 'drive/MyDrive/Deep Learning Project/dog-breed-identification/train/04e3bb77c15c18fc1ac101d86d612f46.jpg',\n",
              " 'drive/MyDrive/Deep Learning Project/dog-breed-identification/train/04ea8788cfa17d01c87ea4cdaa0a330d.jpg',\n",
              " 'drive/MyDrive/Deep Learning Project/dog-breed-identification/train/04f59d1b6887cf10e6fd897514623cf3.jpg',\n",
              " 'drive/MyDrive/Deep Learning Project/dog-breed-identification/train/04f69d645182d799dbb54862c19c0f38.jpg',\n",
              " 'drive/MyDrive/Deep Learning Project/dog-breed-identification/train/04f9e2da4b6f5adb9b9d62eba66ba991.jpg',\n",
              " 'drive/MyDrive/Deep Learning Project/dog-breed-identification/train/04fab70baaf7cd53f8bf78225dbf5409.jpg',\n",
              " 'drive/MyDrive/Deep Learning Project/dog-breed-identification/train/04fb4d719e9fe2b6ffe32d9ae7be8a22.jpg',\n",
              " 'drive/MyDrive/Deep Learning Project/dog-breed-identification/train/050073020e80e4935b53df8d786c8612.jpg',\n",
              " 'drive/MyDrive/Deep Learning Project/dog-breed-identification/train/050c59e2063923106443e9fd81683088.jpg',\n",
              " 'drive/MyDrive/Deep Learning Project/dog-breed-identification/train/0512c1a59449a9c8c83c95722028ac90.jpg',\n",
              " 'drive/MyDrive/Deep Learning Project/dog-breed-identification/train/05134ea3341a1f4f460168e68ec5765d.jpg',\n",
              " 'drive/MyDrive/Deep Learning Project/dog-breed-identification/train/0518691772e78ac6805bf006993665a4.jpg',\n",
              " 'drive/MyDrive/Deep Learning Project/dog-breed-identification/train/052675b01ae0a4b62e090923d131f4ff.jpg',\n",
              " 'drive/MyDrive/Deep Learning Project/dog-breed-identification/train/053106ed091eac5e129225315ef6cfcb.jpg',\n",
              " 'drive/MyDrive/Deep Learning Project/dog-breed-identification/train/0543510e763cbf8fc771a097ffda9984.jpg',\n",
              " 'drive/MyDrive/Deep Learning Project/dog-breed-identification/train/054f069e01a809b23a9da31dd8f4841e.jpg',\n",
              " 'drive/MyDrive/Deep Learning Project/dog-breed-identification/train/055429c6fb404af27ac52a08216e6cda.jpg',\n",
              " 'drive/MyDrive/Deep Learning Project/dog-breed-identification/train/055cfac66e5d67756ab05d02baeeb04c.jpg',\n",
              " 'drive/MyDrive/Deep Learning Project/dog-breed-identification/train/0566a60d7504a6fad4161d0ef2765a34.jpg',\n",
              " 'drive/MyDrive/Deep Learning Project/dog-breed-identification/train/0569f1d79637070f70ca4a62ec510792.jpg',\n",
              " 'drive/MyDrive/Deep Learning Project/dog-breed-identification/train/056b535b441278e83839984f1b1da0a6.jpg',\n",
              " 'drive/MyDrive/Deep Learning Project/dog-breed-identification/train/056c314f2a7d119447af259a07eb31df.jpg',\n",
              " 'drive/MyDrive/Deep Learning Project/dog-breed-identification/train/05719b998e57a11b863a322ecc7652a5.jpg',\n",
              " 'drive/MyDrive/Deep Learning Project/dog-breed-identification/train/0581b47e4c3890fb74a5485aa4d008f0.jpg',\n",
              " 'drive/MyDrive/Deep Learning Project/dog-breed-identification/train/058d4bfce39c9f1157ca4c1b019bbf1a.jpg',\n",
              " 'drive/MyDrive/Deep Learning Project/dog-breed-identification/train/058ea5b467d08ed978658dc1ad85fb7d.jpg',\n",
              " 'drive/MyDrive/Deep Learning Project/dog-breed-identification/train/05934390044791b8fd2dd2ba9c0b4b36.jpg',\n",
              " 'drive/MyDrive/Deep Learning Project/dog-breed-identification/train/0593e37870ee77b0d34508e118bf6670.jpg',\n",
              " 'drive/MyDrive/Deep Learning Project/dog-breed-identification/train/059513b85ae976a6f591f71bbaae49bf.jpg',\n",
              " 'drive/MyDrive/Deep Learning Project/dog-breed-identification/train/059a86d50634c78d5a18f918cb0b3f0d.jpg',\n",
              " 'drive/MyDrive/Deep Learning Project/dog-breed-identification/train/05a05cf4c8d6a4f3f780a9112a11999b.jpg',\n",
              " 'drive/MyDrive/Deep Learning Project/dog-breed-identification/train/05a5e6f6b575688dc304ae72635db7b6.jpg',\n",
              " 'drive/MyDrive/Deep Learning Project/dog-breed-identification/train/05a747c5853defa2420b976a9c0918a2.jpg',\n",
              " 'drive/MyDrive/Deep Learning Project/dog-breed-identification/train/05b5e17b96409ca6db51edaf28bd3bdc.jpg',\n",
              " 'drive/MyDrive/Deep Learning Project/dog-breed-identification/train/05bac66dfae763fb86ab6360bd3c6f5f.jpg',\n",
              " 'drive/MyDrive/Deep Learning Project/dog-breed-identification/train/05beb3230462b740e5c56230eb27a7a4.jpg',\n",
              " 'drive/MyDrive/Deep Learning Project/dog-breed-identification/train/05c128c8e3ef0c2739f181f9c5677f56.jpg',\n",
              " 'drive/MyDrive/Deep Learning Project/dog-breed-identification/train/05cab78114abb08afcda78ee70222edd.jpg',\n",
              " 'drive/MyDrive/Deep Learning Project/dog-breed-identification/train/05d6e6de49a6999e56de23c4608af441.jpg',\n",
              " 'drive/MyDrive/Deep Learning Project/dog-breed-identification/train/05e25c8ec67962c2ef4dd7b0f6aa3918.jpg',\n",
              " 'drive/MyDrive/Deep Learning Project/dog-breed-identification/train/05e3dfffd0b0dca56e6b1d4686e1a6c2.jpg',\n",
              " 'drive/MyDrive/Deep Learning Project/dog-breed-identification/train/05e93a5604440b065143c81be16cd395.jpg',\n",
              " 'drive/MyDrive/Deep Learning Project/dog-breed-identification/train/05f59d40acf74affda3c8940ba192f42.jpg',\n",
              " 'drive/MyDrive/Deep Learning Project/dog-breed-identification/train/05fbe54802ffb6d6256abb93381f5cf4.jpg',\n",
              " 'drive/MyDrive/Deep Learning Project/dog-breed-identification/train/060112a1a77217039de21f7d0963929d.jpg',\n",
              " 'drive/MyDrive/Deep Learning Project/dog-breed-identification/train/060b163b5ad74c889c47b9f421825cdb.jpg',\n",
              " 'drive/MyDrive/Deep Learning Project/dog-breed-identification/train/061592707868d5ced7ee050cb383072d.jpg',\n",
              " 'drive/MyDrive/Deep Learning Project/dog-breed-identification/train/061a378e68e8734682ea9c04a572e2ab.jpg',\n",
              " 'drive/MyDrive/Deep Learning Project/dog-breed-identification/train/061e9891cd5e77345e3cff761c12db4d.jpg',\n",
              " 'drive/MyDrive/Deep Learning Project/dog-breed-identification/train/062131c6c38a1e485091c8c3329d9638.jpg',\n",
              " 'drive/MyDrive/Deep Learning Project/dog-breed-identification/train/06223770cd0968a5fa81b2898e65e34a.jpg',\n",
              " 'drive/MyDrive/Deep Learning Project/dog-breed-identification/train/06412667e714332186d0cf86375e98fb.jpg',\n",
              " 'drive/MyDrive/Deep Learning Project/dog-breed-identification/train/06448bf4366760660b6a7611d93d7533.jpg',\n",
              " 'drive/MyDrive/Deep Learning Project/dog-breed-identification/train/064dff92e5654a8679f8971a027a4040.jpg',\n",
              " 'drive/MyDrive/Deep Learning Project/dog-breed-identification/train/065221667b1ed903e364b9063ee2195b.jpg',\n",
              " 'drive/MyDrive/Deep Learning Project/dog-breed-identification/train/06538c8ad646eb2ebbbbdda1c8174899.jpg',\n",
              " 'drive/MyDrive/Deep Learning Project/dog-breed-identification/train/0653d31ae648e2a6628ee3f440729361.jpg',\n",
              " 'drive/MyDrive/Deep Learning Project/dog-breed-identification/train/065452ccfffdc6b6f60183bd6c88ba89.jpg',\n",
              " 'drive/MyDrive/Deep Learning Project/dog-breed-identification/train/06557d54077c5265ecdcd7273c9c38ca.jpg',\n",
              " 'drive/MyDrive/Deep Learning Project/dog-breed-identification/train/0672592809da7574a87ddcd0ba2f315d.jpg',\n",
              " 'drive/MyDrive/Deep Learning Project/dog-breed-identification/train/0672befac9ea0c8fe82c37b5a634d87c.jpg',\n",
              " 'drive/MyDrive/Deep Learning Project/dog-breed-identification/train/068314c65cbe67fa4f57283f4f3a801c.jpg',\n",
              " 'drive/MyDrive/Deep Learning Project/dog-breed-identification/train/0685bcc6cdaa954771379d95d339baf6.jpg',\n",
              " 'drive/MyDrive/Deep Learning Project/dog-breed-identification/train/06ab2182c2a958a5f0de2035f39a0fa7.jpg',\n",
              " 'drive/MyDrive/Deep Learning Project/dog-breed-identification/train/06ba5a21442ba19190bfe7bfa9def11c.jpg',\n",
              " 'drive/MyDrive/Deep Learning Project/dog-breed-identification/train/06bd6a364e68b886c085b9b8b8d2b818.jpg',\n",
              " 'drive/MyDrive/Deep Learning Project/dog-breed-identification/train/06c47d61293f2bb51a94040bb4b20799.jpg',\n",
              " 'drive/MyDrive/Deep Learning Project/dog-breed-identification/train/06c4dbc5b0ea3674bbc752c4ce76819a.jpg',\n",
              " 'drive/MyDrive/Deep Learning Project/dog-breed-identification/train/06cceae049531cdb98fe67d912aa58a8.jpg',\n",
              " 'drive/MyDrive/Deep Learning Project/dog-breed-identification/train/06cd8e3fbfe72c34461814239e1deab8.jpg',\n",
              " 'drive/MyDrive/Deep Learning Project/dog-breed-identification/train/06ce71ab05143b1fe45ba8eeba2e97e4.jpg',\n",
              " 'drive/MyDrive/Deep Learning Project/dog-breed-identification/train/06d2d84b936225e6c853a0453cb9c878.jpg',\n",
              " 'drive/MyDrive/Deep Learning Project/dog-breed-identification/train/06d80d6a7aba8bc48606a285bbad0697.jpg',\n",
              " 'drive/MyDrive/Deep Learning Project/dog-breed-identification/train/06e548623971fbdf8c80b0614f811f50.jpg',\n",
              " 'drive/MyDrive/Deep Learning Project/dog-breed-identification/train/06faa041b335551e3ccf3c239d006425.jpg',\n",
              " 'drive/MyDrive/Deep Learning Project/dog-breed-identification/train/06fe22a92fa8dc8f90e7a0f118acad6f.jpg',\n",
              " 'drive/MyDrive/Deep Learning Project/dog-breed-identification/train/0700d58c82bafe9c4edc81f902178e76.jpg',\n",
              " 'drive/MyDrive/Deep Learning Project/dog-breed-identification/train/07096719a671e1737b829bd1a88f1dbf.jpg',\n",
              " 'drive/MyDrive/Deep Learning Project/dog-breed-identification/train/0709abee3095717f43db409dd7ce769b.jpg',\n",
              " 'drive/MyDrive/Deep Learning Project/dog-breed-identification/train/070e8ff540cc8113939ae5dba4a24f80.jpg',\n",
              " 'drive/MyDrive/Deep Learning Project/dog-breed-identification/train/071652f5f5d0bf00983c075e96ad725f.jpg',\n",
              " 'drive/MyDrive/Deep Learning Project/dog-breed-identification/train/0718d39d59d9e3b134446440d69b2058.jpg',\n",
              " 'drive/MyDrive/Deep Learning Project/dog-breed-identification/train/07192213791150248bfb5bbe6b0b0373.jpg',\n",
              " 'drive/MyDrive/Deep Learning Project/dog-breed-identification/train/0724948de3506f43cda65804efe79b9b.jpg',\n",
              " 'drive/MyDrive/Deep Learning Project/dog-breed-identification/train/072aa9d6100187288ef00316c8bcdd66.jpg',\n",
              " 'drive/MyDrive/Deep Learning Project/dog-breed-identification/train/0734a945cc1ab35a9d2348db42075a99.jpg',\n",
              " 'drive/MyDrive/Deep Learning Project/dog-breed-identification/train/073b9a44c4761fa0792943b61b9c812c.jpg',\n",
              " 'drive/MyDrive/Deep Learning Project/dog-breed-identification/train/073bb2f975ee39406e692e33364762a3.jpg',\n",
              " 'drive/MyDrive/Deep Learning Project/dog-breed-identification/train/073f0821a0842917e6e97ab322bd63f2.jpg',\n",
              " 'drive/MyDrive/Deep Learning Project/dog-breed-identification/train/0743bfe9525b7a6310a297b11b7e154a.jpg',\n",
              " 'drive/MyDrive/Deep Learning Project/dog-breed-identification/train/07466e87275ed10056a9d2cbb4c733d8.jpg',\n",
              " 'drive/MyDrive/Deep Learning Project/dog-breed-identification/train/0755a940eac9a9b8cf0328b4be062096.jpg',\n",
              " 'drive/MyDrive/Deep Learning Project/dog-breed-identification/train/075a28044780636f48d8571f1d32f73d.jpg',\n",
              " 'drive/MyDrive/Deep Learning Project/dog-breed-identification/train/0769e276e8b9b992a3fcd6a10deee6a7.jpg',\n",
              " 'drive/MyDrive/Deep Learning Project/dog-breed-identification/train/076d31a2f676671e4427cc485b9d2918.jpg',\n",
              " 'drive/MyDrive/Deep Learning Project/dog-breed-identification/train/0773acd6874a703b966367d4d27cac71.jpg',\n",
              " 'drive/MyDrive/Deep Learning Project/dog-breed-identification/train/07751d1687e0233ff638889d8b365709.jpg',\n",
              " 'drive/MyDrive/Deep Learning Project/dog-breed-identification/train/0779e164a5bed1119e36e622107c6a77.jpg',\n",
              " 'drive/MyDrive/Deep Learning Project/dog-breed-identification/train/079509ceab0968ce07cffa0df479f1b0.jpg',\n",
              " 'drive/MyDrive/Deep Learning Project/dog-breed-identification/train/079a7ad36b46704c28d88c4aa183c28e.jpg',\n",
              " 'drive/MyDrive/Deep Learning Project/dog-breed-identification/train/079e17a742380d333950962f2c83ffd2.jpg',\n",
              " 'drive/MyDrive/Deep Learning Project/dog-breed-identification/train/079f6255a19fdbaa75fb2a902bca894c.jpg',\n",
              " 'drive/MyDrive/Deep Learning Project/dog-breed-identification/train/07a0214fa84969b5256bf7d20f1b3a9b.jpg',\n",
              " 'drive/MyDrive/Deep Learning Project/dog-breed-identification/train/07a215abb3ff16fd19a5b832c8f3408b.jpg',\n",
              " 'drive/MyDrive/Deep Learning Project/dog-breed-identification/train/07a4fcb31d0c6259f5ec21a1f193bc39.jpg',\n",
              " 'drive/MyDrive/Deep Learning Project/dog-breed-identification/train/07b46335006fbbe0328aeb8213b874ce.jpg',\n",
              " 'drive/MyDrive/Deep Learning Project/dog-breed-identification/train/07b5288a0bb8b9cf1a42d281a9451e51.jpg',\n",
              " 'drive/MyDrive/Deep Learning Project/dog-breed-identification/train/07bbf36ce2c7407751219804b3d187ec.jpg',\n",
              " 'drive/MyDrive/Deep Learning Project/dog-breed-identification/train/07c7389196b5dde668d740089f9ebc22.jpg',\n",
              " 'drive/MyDrive/Deep Learning Project/dog-breed-identification/train/07d1dd1576b5e95f448c1213b6812c40.jpg',\n",
              " 'drive/MyDrive/Deep Learning Project/dog-breed-identification/train/07d6e906eb95f24c53eb92ecc2d47783.jpg',\n",
              " 'drive/MyDrive/Deep Learning Project/dog-breed-identification/train/07d7cfbdbd3682cae50902b53c798028.jpg',\n",
              " 'drive/MyDrive/Deep Learning Project/dog-breed-identification/train/07ddc3c2188164b1e72ae6615a24419a.jpg',\n",
              " 'drive/MyDrive/Deep Learning Project/dog-breed-identification/train/07e103146c1f4513647ddb9614210320.jpg',\n",
              " 'drive/MyDrive/Deep Learning Project/dog-breed-identification/train/07e12e8064b6b17a94608ba5fd78a72e.jpg',\n",
              " 'drive/MyDrive/Deep Learning Project/dog-breed-identification/train/07ebe25829d387cef30160285d50e232.jpg',\n",
              " 'drive/MyDrive/Deep Learning Project/dog-breed-identification/train/07eeb2ef42c6b260684e8cb8e8c4ba70.jpg',\n",
              " 'drive/MyDrive/Deep Learning Project/dog-breed-identification/train/07f1b6214597af2f04a27c375a602a0c.jpg',\n",
              " 'drive/MyDrive/Deep Learning Project/dog-breed-identification/train/07f95d08b40f1402abdab79b1f834e4c.jpg',\n",
              " 'drive/MyDrive/Deep Learning Project/dog-breed-identification/train/080073330bb8954505340cf18159fbb8.jpg',\n",
              " 'drive/MyDrive/Deep Learning Project/dog-breed-identification/train/08098e0a4074f62169ab53f7efe40da2.jpg',\n",
              " 'drive/MyDrive/Deep Learning Project/dog-breed-identification/train/080ebefee69f27243b185c113052963e.jpg',\n",
              " 'drive/MyDrive/Deep Learning Project/dog-breed-identification/train/080ec59213ed7425b7f8c169955bb9d0.jpg',\n",
              " 'drive/MyDrive/Deep Learning Project/dog-breed-identification/train/0811e959c0fa3b1c7af6be4f645a9464.jpg',\n",
              " 'drive/MyDrive/Deep Learning Project/dog-breed-identification/train/08149eb72785553570f74a6effea8d7e.jpg',\n",
              " 'drive/MyDrive/Deep Learning Project/dog-breed-identification/train/0815082cf02417e80f4df9dfba17aa13.jpg',\n",
              " 'drive/MyDrive/Deep Learning Project/dog-breed-identification/train/081ee1793b0e0027f8cccf9dc4513d53.jpg',\n",
              " 'drive/MyDrive/Deep Learning Project/dog-breed-identification/train/081f6b553afb94d1f192f08cc3ac5762.jpg',\n",
              " 'drive/MyDrive/Deep Learning Project/dog-breed-identification/train/0822709f6f6ea0be1928f52b8eecbc2f.jpg',\n",
              " 'drive/MyDrive/Deep Learning Project/dog-breed-identification/train/0825e8471e3c9a14dc341bdd8630f05e.jpg',\n",
              " 'drive/MyDrive/Deep Learning Project/dog-breed-identification/train/083820e6dda52da4c0f200ac36f582dc.jpg',\n",
              " 'drive/MyDrive/Deep Learning Project/dog-breed-identification/train/084c4f43ecc2630587de6c3e543525c3.jpg',\n",
              " 'drive/MyDrive/Deep Learning Project/dog-breed-identification/train/084f941981c326f26ea77158fb449c57.jpg',\n",
              " 'drive/MyDrive/Deep Learning Project/dog-breed-identification/train/08571d6bb5ecf6c9b7a145dc24043088.jpg',\n",
              " 'drive/MyDrive/Deep Learning Project/dog-breed-identification/train/0857307dddb1b41288887ef2338af6df.jpg',\n",
              " 'drive/MyDrive/Deep Learning Project/dog-breed-identification/train/085b26edb3ee9688d41c4293aafe0162.jpg',\n",
              " 'drive/MyDrive/Deep Learning Project/dog-breed-identification/train/085faff5f472098801b371f077b2dc8b.jpg',\n",
              " 'drive/MyDrive/Deep Learning Project/dog-breed-identification/train/0861355ea326a82de3aab420d4276e5b.jpg',\n",
              " 'drive/MyDrive/Deep Learning Project/dog-breed-identification/train/08644ddaf5a3ca7f08fcab7561ec4eea.jpg',\n",
              " 'drive/MyDrive/Deep Learning Project/dog-breed-identification/train/086e8ca78ec3303a8f06df003ecb6612.jpg',\n",
              " 'drive/MyDrive/Deep Learning Project/dog-breed-identification/train/08774c223487c1c880b447aae6a7e0b2.jpg',\n",
              " 'drive/MyDrive/Deep Learning Project/dog-breed-identification/train/08782eb5ac167ca5f8feaccb519e9b4e.jpg',\n",
              " 'drive/MyDrive/Deep Learning Project/dog-breed-identification/train/087b211f15ad8095ba90c0be54c1c30d.jpg',\n",
              " 'drive/MyDrive/Deep Learning Project/dog-breed-identification/train/087cd02ca089fc0f30841a6a89e3a619.jpg',\n",
              " 'drive/MyDrive/Deep Learning Project/dog-breed-identification/train/08829c00da02dea80eb491122989492f.jpg',\n",
              " 'drive/MyDrive/Deep Learning Project/dog-breed-identification/train/0883e6cc994d9ba90592f400d502d838.jpg',\n",
              " 'drive/MyDrive/Deep Learning Project/dog-breed-identification/train/088be435c5245f79c448812169a30cb5.jpg',\n",
              " 'drive/MyDrive/Deep Learning Project/dog-breed-identification/train/088cdda83ef0920d130398f7724b391f.jpg',\n",
              " 'drive/MyDrive/Deep Learning Project/dog-breed-identification/train/0891ce3700686a8df5b4bd711be44ea9.jpg',\n",
              " 'drive/MyDrive/Deep Learning Project/dog-breed-identification/train/08946697b3e50e602d6bea765c8fb9f5.jpg',\n",
              " 'drive/MyDrive/Deep Learning Project/dog-breed-identification/train/0895dd35b3afa2a4f8a0b6f3ad98134a.jpg',\n",
              " 'drive/MyDrive/Deep Learning Project/dog-breed-identification/train/089bce55f74e34940b3782e11c1bd2b5.jpg',\n",
              " 'drive/MyDrive/Deep Learning Project/dog-breed-identification/train/089fd270df9e42e3f741452a4e437dc5.jpg',\n",
              " 'drive/MyDrive/Deep Learning Project/dog-breed-identification/train/08af52c888b0f5735c3ced810771601d.jpg',\n",
              " 'drive/MyDrive/Deep Learning Project/dog-breed-identification/train/08b49c79fafad70a23c770b1fcaa89ba.jpg',\n",
              " 'drive/MyDrive/Deep Learning Project/dog-breed-identification/train/08e4013c0ddc710c57d1d188bf7c0cfe.jpg',\n",
              " 'drive/MyDrive/Deep Learning Project/dog-breed-identification/train/08e5e75d29184a82a9dada752c9c4afb.jpg',\n",
              " 'drive/MyDrive/Deep Learning Project/dog-breed-identification/train/08e99ed86b0ce429fef52a8ca33e1551.jpg',\n",
              " 'drive/MyDrive/Deep Learning Project/dog-breed-identification/train/08ea34bfdc88f5b1e0eef0b76d832c8e.jpg',\n",
              " 'drive/MyDrive/Deep Learning Project/dog-breed-identification/train/08ea655aa168d87806340c336d07f1c9.jpg',\n",
              " 'drive/MyDrive/Deep Learning Project/dog-breed-identification/train/08ed3bf636ad906f5ddea9ebda22ff98.jpg',\n",
              " 'drive/MyDrive/Deep Learning Project/dog-breed-identification/train/09037f0995111a413fd8e976f3680f09.jpg',\n",
              " 'drive/MyDrive/Deep Learning Project/dog-breed-identification/train/091306dd0d110a677fe0de1ad066f160.jpg',\n",
              " 'drive/MyDrive/Deep Learning Project/dog-breed-identification/train/092220a7a8081144a7485efb6c087fe2.jpg',\n",
              " 'drive/MyDrive/Deep Learning Project/dog-breed-identification/train/09288e5c39391b780412561163b10bf5.jpg',\n",
              " 'drive/MyDrive/Deep Learning Project/dog-breed-identification/train/092c2cdbf133b201d7d56969bfbcc8f6.jpg',\n",
              " 'drive/MyDrive/Deep Learning Project/dog-breed-identification/train/093a146e173a3fd9ea650b87f08d6222.jpg',\n",
              " 'drive/MyDrive/Deep Learning Project/dog-breed-identification/train/093fc67079701f48bd1d2e52a684ed9e.jpg',\n",
              " 'drive/MyDrive/Deep Learning Project/dog-breed-identification/train/09438173067ccee8d4a1a45f2f8a8eb6.jpg',\n",
              " 'drive/MyDrive/Deep Learning Project/dog-breed-identification/train/0943d1d4677ab876b52468096baaa2ce.jpg',\n",
              " 'drive/MyDrive/Deep Learning Project/dog-breed-identification/train/0944fbca92fad9a38af10b3d1943cb54.jpg',\n",
              " 'drive/MyDrive/Deep Learning Project/dog-breed-identification/train/09477e5059ebb15cad5f37fb3b9b1889.jpg',\n",
              " 'drive/MyDrive/Deep Learning Project/dog-breed-identification/train/094b97e52d00895fbf6769724e1b0e7d.jpg',\n",
              " 'drive/MyDrive/Deep Learning Project/dog-breed-identification/train/0959e919604a931fc1ae379b7a75911a.jpg',\n",
              " 'drive/MyDrive/Deep Learning Project/dog-breed-identification/train/095d868f796f86c8258750365a04f2cd.jpg',\n",
              " 'drive/MyDrive/Deep Learning Project/dog-breed-identification/train/0964a2558fc9aa293a6a934d49f64968.jpg',\n",
              " 'drive/MyDrive/Deep Learning Project/dog-breed-identification/train/0964e161b379740955fa95d8d4c8697e.jpg',\n",
              " 'drive/MyDrive/Deep Learning Project/dog-breed-identification/train/0974b614b86b829821067bd0b1808b8c.jpg',\n",
              " 'drive/MyDrive/Deep Learning Project/dog-breed-identification/train/097ef8eca8fc340249b0bbc2b745972c.jpg',\n",
              " 'drive/MyDrive/Deep Learning Project/dog-breed-identification/train/098333d51970304787c7061f3e683c5b.jpg',\n",
              " 'drive/MyDrive/Deep Learning Project/dog-breed-identification/train/09839ef1c5a5a5b3acb61c4093cab07f.jpg',\n",
              " 'drive/MyDrive/Deep Learning Project/dog-breed-identification/train/098c50d7ba4f07d9aba8c6162aa70b50.jpg',\n",
              " 'drive/MyDrive/Deep Learning Project/dog-breed-identification/train/098c722479a8288c57b545781d5c54bd.jpg',\n",
              " 'drive/MyDrive/Deep Learning Project/dog-breed-identification/train/098dc5e173d21c229e6ee565d7666b10.jpg',\n",
              " 'drive/MyDrive/Deep Learning Project/dog-breed-identification/train/0990fe6be15d9d556eac8712db3c8094.jpg',\n",
              " 'drive/MyDrive/Deep Learning Project/dog-breed-identification/train/09927a82d649607a7704ac6043cdfa9a.jpg',\n",
              " 'drive/MyDrive/Deep Learning Project/dog-breed-identification/train/0995f642fe4baab3cb3534725dfedb75.jpg',\n",
              " 'drive/MyDrive/Deep Learning Project/dog-breed-identification/train/0998eda08cdb14648e444c15f06658af.jpg',\n",
              " 'drive/MyDrive/Deep Learning Project/dog-breed-identification/train/099b068027c41251d29f75a311cc5e5c.jpg',\n",
              " 'drive/MyDrive/Deep Learning Project/dog-breed-identification/train/099db37801090ed56bbc95c13d3799b9.jpg',\n",
              " 'drive/MyDrive/Deep Learning Project/dog-breed-identification/train/09a1ea62ffa4b9389c03162bb0b0b572.jpg',\n",
              " 'drive/MyDrive/Deep Learning Project/dog-breed-identification/train/09a6fd935dd1a4dee29b97885cfa9318.jpg',\n",
              " 'drive/MyDrive/Deep Learning Project/dog-breed-identification/train/09aec2a169942b17d88b4b5f1bba5886.jpg',\n",
              " 'drive/MyDrive/Deep Learning Project/dog-breed-identification/train/09beb7445a14486752bd25f69e952ebc.jpg',\n",
              " 'drive/MyDrive/Deep Learning Project/dog-breed-identification/train/09c62a1ff26b3e83a2d476c2add054b1.jpg',\n",
              " 'drive/MyDrive/Deep Learning Project/dog-breed-identification/train/09c986f317783fb5ae091b334e79ac5a.jpg',\n",
              " 'drive/MyDrive/Deep Learning Project/dog-breed-identification/train/09d462e2ad4d8c51d1a8430577891d8a.jpg',\n",
              " 'drive/MyDrive/Deep Learning Project/dog-breed-identification/train/09d497888fd1e6745f67a78269139620.jpg',\n",
              " 'drive/MyDrive/Deep Learning Project/dog-breed-identification/train/09d5ac8026b8a7f7d1acae244765fe24.jpg',\n",
              " 'drive/MyDrive/Deep Learning Project/dog-breed-identification/train/09d7cc03f9e9730bda53b4a590351838.jpg',\n",
              " 'drive/MyDrive/Deep Learning Project/dog-breed-identification/train/09ea184490e5da33eb3d851ee6361941.jpg',\n",
              " 'drive/MyDrive/Deep Learning Project/dog-breed-identification/train/09fc0a4acd13c78c02cdb251f193231d.jpg',\n",
              " 'drive/MyDrive/Deep Learning Project/dog-breed-identification/train/0a001d75def0b4352ebde8d07c0850ae.jpg',\n",
              " 'drive/MyDrive/Deep Learning Project/dog-breed-identification/train/0a077ea0c8fa54d95f75e690b2c8196b.jpg',\n",
              " 'drive/MyDrive/Deep Learning Project/dog-breed-identification/train/0a0c223352985ec154fd604d7ddceabd.jpg',\n",
              " 'drive/MyDrive/Deep Learning Project/dog-breed-identification/train/0a135c5ee55edf4bd9631d4e15264788.jpg',\n",
              " 'drive/MyDrive/Deep Learning Project/dog-breed-identification/train/0a13f9596e03a9f87c96aaff6e057048.jpg',\n",
              " 'drive/MyDrive/Deep Learning Project/dog-breed-identification/train/0a1b0b7df2918d543347050ad8b16051.jpg',\n",
              " 'drive/MyDrive/Deep Learning Project/dog-breed-identification/train/0a1f8334a9f583cac009dc033c681e47.jpg',\n",
              " 'drive/MyDrive/Deep Learning Project/dog-breed-identification/train/0a27d304c96918d440e79e6e9e245c3f.jpg',\n",
              " 'drive/MyDrive/Deep Learning Project/dog-breed-identification/train/0a3f1898556115d6d0931294876cd1d9.jpg',\n",
              " 'drive/MyDrive/Deep Learning Project/dog-breed-identification/train/0a409042dd36b2c8293c67d4d4ea9ef9.jpg',\n",
              " 'drive/MyDrive/Deep Learning Project/dog-breed-identification/train/0a4116a80e753f7b0adf4149f551a3a7.jpg',\n",
              " 'drive/MyDrive/Deep Learning Project/dog-breed-identification/train/0a438069d5a8a8a079ac131d74c3a366.jpg',\n",
              " 'drive/MyDrive/Deep Learning Project/dog-breed-identification/train/0a4f1e17d720cdff35814651402b7cf4.jpg',\n",
              " 'drive/MyDrive/Deep Learning Project/dog-breed-identification/train/0a541df84dd3febb076e2c33a23cd230.jpg',\n",
              " 'drive/MyDrive/Deep Learning Project/dog-breed-identification/train/0a5958a7f6836cbe349a4cedfe7178a6.jpg',\n",
              " 'drive/MyDrive/Deep Learning Project/dog-breed-identification/train/0a5f744c5077ad8f8d580081ba599ff5.jpg',\n",
              " 'drive/MyDrive/Deep Learning Project/dog-breed-identification/train/0a65ba3ab9b29c66e15cec76f34eca6f.jpg',\n",
              " 'drive/MyDrive/Deep Learning Project/dog-breed-identification/train/0a6706f7864eb8871913f0e4ba07a61e.jpg',\n",
              " 'drive/MyDrive/Deep Learning Project/dog-breed-identification/train/0a688b0783f472c84bbfe1c56efea1c6.jpg',\n",
              " 'drive/MyDrive/Deep Learning Project/dog-breed-identification/train/0a6c192b96e55e2ca37318919b1ffae6.jpg',\n",
              " 'drive/MyDrive/Deep Learning Project/dog-breed-identification/train/0a70f64352edfef4c82c22015f0e3a20.jpg',\n",
              " 'drive/MyDrive/Deep Learning Project/dog-breed-identification/train/0a77b9015c37f39c92b5399dc29da97c.jpg',\n",
              " 'drive/MyDrive/Deep Learning Project/dog-breed-identification/train/0a77d498ff491945347bb895d8ae4008.jpg',\n",
              " 'drive/MyDrive/Deep Learning Project/dog-breed-identification/train/0a783538d5f3aaf017b435ddf14cc5c2.jpg',\n",
              " 'drive/MyDrive/Deep Learning Project/dog-breed-identification/train/0a7899ed6a15f4af8f28e01c9c44dcfe.jpg',\n",
              " 'drive/MyDrive/Deep Learning Project/dog-breed-identification/train/0a7f8d31c960071d0d4cfba36c0159c7.jpg',\n",
              " 'drive/MyDrive/Deep Learning Project/dog-breed-identification/train/0a86c8b48bddb0155645f3a27f48292f.jpg',\n",
              " 'drive/MyDrive/Deep Learning Project/dog-breed-identification/train/0a896d2b3af617df543787b571e439d8.jpg',\n",
              " 'drive/MyDrive/Deep Learning Project/dog-breed-identification/train/0a8b6985bbe58a58909b5ef0a7d5a1aa.jpg',\n",
              " 'drive/MyDrive/Deep Learning Project/dog-breed-identification/train/0a9322a30aff755dac328022266e3740.jpg',\n",
              " 'drive/MyDrive/Deep Learning Project/dog-breed-identification/train/0a96f376d746b191fcc6e4812a603f7f.jpg',\n",
              " 'drive/MyDrive/Deep Learning Project/dog-breed-identification/train/0a9832b18d360f50f5b3b2ab4c540ddc.jpg',\n",
              " 'drive/MyDrive/Deep Learning Project/dog-breed-identification/train/0a9f8c6ceadfff61072a565311777655.jpg',\n",
              " 'drive/MyDrive/Deep Learning Project/dog-breed-identification/train/0a9f8f6543d0b33fe9474035dd5323ef.jpg',\n",
              " 'drive/MyDrive/Deep Learning Project/dog-breed-identification/train/0aa31d6ecdb95ac7d3b7fa42b86bd91b.jpg',\n",
              " 'drive/MyDrive/Deep Learning Project/dog-breed-identification/train/0ab12906ac3a87b531c574a15e79c58a.jpg',\n",
              " 'drive/MyDrive/Deep Learning Project/dog-breed-identification/train/0ab8d4c80ae4e6bbeacd66fb7e52b851.jpg',\n",
              " 'drive/MyDrive/Deep Learning Project/dog-breed-identification/train/0ab9cdefc666573f8019356ffefe0c69.jpg',\n",
              " 'drive/MyDrive/Deep Learning Project/dog-breed-identification/train/0abdda879bb143b19e3c480279541915.jpg',\n",
              " 'drive/MyDrive/Deep Learning Project/dog-breed-identification/train/0ac12e1849fd51b2158d16b8f5e75551.jpg',\n",
              " 'drive/MyDrive/Deep Learning Project/dog-breed-identification/train/0ac12f840df2b15d46622e244501a88c.jpg',\n",
              " 'drive/MyDrive/Deep Learning Project/dog-breed-identification/train/0acfee91dd38e53a20dd1488a17e9af9.jpg',\n",
              " 'drive/MyDrive/Deep Learning Project/dog-breed-identification/train/0ad3d66ba7b2d5d6d608da088abca7c0.jpg',\n",
              " 'drive/MyDrive/Deep Learning Project/dog-breed-identification/train/0adfec2804a1efe41f54758cd87cec01.jpg',\n",
              " 'drive/MyDrive/Deep Learning Project/dog-breed-identification/train/0afb0d170c66aed12805f838041411ce.jpg',\n",
              " 'drive/MyDrive/Deep Learning Project/dog-breed-identification/train/0afc7d87053cb44a529c78c0fac99886.jpg',\n",
              " 'drive/MyDrive/Deep Learning Project/dog-breed-identification/train/0b102a6aa442aed98f137616e924e18e.jpg',\n",
              " 'drive/MyDrive/Deep Learning Project/dog-breed-identification/train/0b178813be36410eda8742abe2153ced.jpg',\n",
              " 'drive/MyDrive/Deep Learning Project/dog-breed-identification/train/0b1b49b8cf679eb3e2fb13ca6deba9b5.jpg',\n",
              " 'drive/MyDrive/Deep Learning Project/dog-breed-identification/train/0b1cdb2a36dd432fcc7567959cb23798.jpg',\n",
              " 'drive/MyDrive/Deep Learning Project/dog-breed-identification/train/0b1e71a499a26eaacc06991bca982523.jpg',\n",
              " 'drive/MyDrive/Deep Learning Project/dog-breed-identification/train/0b2d69f59303805f17055bd59615a297.jpg',\n",
              " 'drive/MyDrive/Deep Learning Project/dog-breed-identification/train/0b2e635ebad8aba82656c8fceb05018c.jpg',\n",
              " 'drive/MyDrive/Deep Learning Project/dog-breed-identification/train/0b30d48dd2818cdea768d884623e8c2a.jpg',\n",
              " 'drive/MyDrive/Deep Learning Project/dog-breed-identification/train/0b345d4f2434903c374ad8b8513a289b.jpg',\n",
              " 'drive/MyDrive/Deep Learning Project/dog-breed-identification/train/0b346cec75418439f13eabdc7e96f33a.jpg',\n",
              " 'drive/MyDrive/Deep Learning Project/dog-breed-identification/train/0b3d3120a62c2bc280f589d473041d06.jpg',\n",
              " 'drive/MyDrive/Deep Learning Project/dog-breed-identification/train/0b465156a0844773fd47ce40d0dcc7db.jpg',\n",
              " 'drive/MyDrive/Deep Learning Project/dog-breed-identification/train/0b5604e1cdfcb595ceb36424126a3e09.jpg',\n",
              " 'drive/MyDrive/Deep Learning Project/dog-breed-identification/train/0b57520c27ed32bc21e35c38cb5dd268.jpg',\n",
              " 'drive/MyDrive/Deep Learning Project/dog-breed-identification/train/0b6239db9b1649fe2f513357c82931aa.jpg',\n",
              " 'drive/MyDrive/Deep Learning Project/dog-breed-identification/train/0b673cd41260b9fb998b0a8ad164b6d6.jpg',\n",
              " 'drive/MyDrive/Deep Learning Project/dog-breed-identification/train/0b6837976df682360dc9ef25b81bc893.jpg',\n",
              " 'drive/MyDrive/Deep Learning Project/dog-breed-identification/train/0b6c5bc46b7a0e29cddfa45b0b786d09.jpg',\n",
              " 'drive/MyDrive/Deep Learning Project/dog-breed-identification/train/0b6da522f27c115716285a4f7187969e.jpg',\n",
              " 'drive/MyDrive/Deep Learning Project/dog-breed-identification/train/0b72856996ad5826afff7195ff678589.jpg',\n",
              " 'drive/MyDrive/Deep Learning Project/dog-breed-identification/train/0b86485ef980b0b4999e7ede1f90999e.jpg',\n",
              " 'drive/MyDrive/Deep Learning Project/dog-breed-identification/train/0b97116ed04c8f0f7eb4a2b4b2620476.jpg',\n",
              " 'drive/MyDrive/Deep Learning Project/dog-breed-identification/train/0b9be33db71b9237002df13d40b7282a.jpg',\n",
              " 'drive/MyDrive/Deep Learning Project/dog-breed-identification/train/0b9d58d8d2626f80bbc5cc3ccf7e8bad.jpg',\n",
              " 'drive/MyDrive/Deep Learning Project/dog-breed-identification/train/0b9fc8956444d4f5296ace3a4928541b.jpg',\n",
              " 'drive/MyDrive/Deep Learning Project/dog-breed-identification/train/0ba0f44a7f83539a71e4d74f549c8be6.jpg',\n",
              " 'drive/MyDrive/Deep Learning Project/dog-breed-identification/train/0ba12512fa4766cc4f8c288cb3b9b95f.jpg',\n",
              " 'drive/MyDrive/Deep Learning Project/dog-breed-identification/train/0bac7ab4e3b6c7a5331067827cda04e6.jpg',\n",
              " 'drive/MyDrive/Deep Learning Project/dog-breed-identification/train/0bad79c06832a1bdeaedbbb50a28450a.jpg',\n",
              " 'drive/MyDrive/Deep Learning Project/dog-breed-identification/train/0bbb9ce1f03a205fead338f0be3040bc.jpg',\n",
              " 'drive/MyDrive/Deep Learning Project/dog-breed-identification/train/0bbe00ace11a4dd944b8bcf8ca9772c1.jpg',\n",
              " 'drive/MyDrive/Deep Learning Project/dog-breed-identification/train/0be68a5e7b40e9689c3ef2a9764bfcf6.jpg',\n",
              " 'drive/MyDrive/Deep Learning Project/dog-breed-identification/train/0be845d1fe8a0ad6da6ffa454ab33e8a.jpg',\n",
              " 'drive/MyDrive/Deep Learning Project/dog-breed-identification/train/0beb24726c7210a5021f22d6c511cd71.jpg',\n",
              " 'drive/MyDrive/Deep Learning Project/dog-breed-identification/train/0bedbecd92390ef9f4f7c8b06a629340.jpg',\n",
              " 'drive/MyDrive/Deep Learning Project/dog-breed-identification/train/0bf36935030d2b842b86526bdb367ff1.jpg',\n",
              " 'drive/MyDrive/Deep Learning Project/dog-breed-identification/train/0bf89dcb09d8c76be568f17811664560.jpg',\n",
              " 'drive/MyDrive/Deep Learning Project/dog-breed-identification/train/0c0955cddf9488d30e6e8d4ee7c18856.jpg',\n",
              " 'drive/MyDrive/Deep Learning Project/dog-breed-identification/train/0c0bca6e79cc323669da06bab0013b12.jpg',\n",
              " 'drive/MyDrive/Deep Learning Project/dog-breed-identification/train/0c0fb87fb13f0f6c8d21ff6c15e3361e.jpg',\n",
              " 'drive/MyDrive/Deep Learning Project/dog-breed-identification/train/0c19867277e6c96ad8f487b4fe343ff9.jpg',\n",
              " 'drive/MyDrive/Deep Learning Project/dog-breed-identification/train/0c1a1b2adfd0aa2fef3eb974b9b95734.jpg',\n",
              " 'drive/MyDrive/Deep Learning Project/dog-breed-identification/train/0c1d98a09381f4dfffc510fab188f189.jpg',\n",
              " 'drive/MyDrive/Deep Learning Project/dog-breed-identification/train/0c207c7af2d1ef71dc61434f04d00cdf.jpg',\n",
              " 'drive/MyDrive/Deep Learning Project/dog-breed-identification/train/0c24a6dac8f0dc55edeb80a7b683af5e.jpg',\n",
              " 'drive/MyDrive/Deep Learning Project/dog-breed-identification/train/0c286c574ef09562c123dafe5ce6ac23.jpg',\n",
              " 'drive/MyDrive/Deep Learning Project/dog-breed-identification/train/0c2fdeb77e6e650e69ecca013c7e8e67.jpg',\n",
              " 'drive/MyDrive/Deep Learning Project/dog-breed-identification/train/0c329020d6ca0ae5af30f6857ac7e86c.jpg',\n",
              " 'drive/MyDrive/Deep Learning Project/dog-breed-identification/train/0c36c19e7c4e932b8e0c01aa845b2fce.jpg',\n",
              " 'drive/MyDrive/Deep Learning Project/dog-breed-identification/train/0c378307f600ba007a7eaa50fba6d0b8.jpg',\n",
              " 'drive/MyDrive/Deep Learning Project/dog-breed-identification/train/0c3b282ecbed1ca9eb17de4cb1b6e326.jpg',\n",
              " 'drive/MyDrive/Deep Learning Project/dog-breed-identification/train/0c4ac597d196aaf07f3af039b8fd6925.jpg',\n",
              " 'drive/MyDrive/Deep Learning Project/dog-breed-identification/train/0c64a816fcd8aa13dbd4e874307bad51.jpg',\n",
              " 'drive/MyDrive/Deep Learning Project/dog-breed-identification/train/0c68a578981993b919e89c611f04a97f.jpg',\n",
              " 'drive/MyDrive/Deep Learning Project/dog-breed-identification/train/0c71084d955bfca989d865cbcf8cf8ae.jpg',\n",
              " 'drive/MyDrive/Deep Learning Project/dog-breed-identification/train/0c71338af3f3a8c068ec28b5f6b8f8ae.jpg',\n",
              " 'drive/MyDrive/Deep Learning Project/dog-breed-identification/train/0c8fe33bd89646b678f6b2891df8a1c6.jpg',\n",
              " 'drive/MyDrive/Deep Learning Project/dog-breed-identification/train/0c9bac77cd53f1c6756c7581e9b0bd00.jpg',\n",
              " 'drive/MyDrive/Deep Learning Project/dog-breed-identification/train/0c9fc0f58a6724ca680c76785a452bba.jpg',\n",
              " 'drive/MyDrive/Deep Learning Project/dog-breed-identification/train/0ca382d7309e346ac802a202d0fa8c67.jpg',\n",
              " 'drive/MyDrive/Deep Learning Project/dog-breed-identification/train/0ca9280205bd68d201e1d708db3f209d.jpg',\n",
              " 'drive/MyDrive/Deep Learning Project/dog-breed-identification/train/0cb1bf12ae0fd5f681ae579c2a28ccd8.jpg',\n",
              " 'drive/MyDrive/Deep Learning Project/dog-breed-identification/train/0cb5839c82f7c1286e55f260d4e608c4.jpg',\n",
              " 'drive/MyDrive/Deep Learning Project/dog-breed-identification/train/0cbca2fcad7910a3c98d734e17cfde65.jpg',\n",
              " 'drive/MyDrive/Deep Learning Project/dog-breed-identification/train/0cbdda18846cd014dcb0e18fa67f3f98.jpg',\n",
              " 'drive/MyDrive/Deep Learning Project/dog-breed-identification/train/0cdd66f35d9b7d8b0a98a4d506396c0d.jpg',\n",
              " 'drive/MyDrive/Deep Learning Project/dog-breed-identification/train/0ce7dd8b119184e91088336ec6973d53.jpg',\n",
              " 'drive/MyDrive/Deep Learning Project/dog-breed-identification/train/0cf285cc3f1625bd80288cd6b7ddb7e0.jpg',\n",
              " 'drive/MyDrive/Deep Learning Project/dog-breed-identification/train/0cf4dabd83d91e22f6ce845fe81fa21d.jpg',\n",
              " 'drive/MyDrive/Deep Learning Project/dog-breed-identification/train/0d0d0f7c689020c35b83a91e7717624b.jpg',\n",
              " 'drive/MyDrive/Deep Learning Project/dog-breed-identification/train/0d103ca7cf575757374f8f6ae87d8868.jpg',\n",
              " 'drive/MyDrive/Deep Learning Project/dog-breed-identification/train/0d1d7bacd20ef921e9b3fce6d9b9f9f0.jpg',\n",
              " 'drive/MyDrive/Deep Learning Project/dog-breed-identification/train/0d2129d0eda43dd8514ea309c29ddbb0.jpg',\n",
              " 'drive/MyDrive/Deep Learning Project/dog-breed-identification/train/0d2dc4f72cc5d6d26055989b217a2450.jpg',\n",
              " 'drive/MyDrive/Deep Learning Project/dog-breed-identification/train/0d2f9e12a2611d911d91a339074c8154.jpg',\n",
              " 'drive/MyDrive/Deep Learning Project/dog-breed-identification/train/0d303784e6740e5de249e1f2078a7b4b.jpg',\n",
              " 'drive/MyDrive/Deep Learning Project/dog-breed-identification/train/0d30e235aebdde78be6e2a59becb582d.jpg',\n",
              " 'drive/MyDrive/Deep Learning Project/dog-breed-identification/train/0d37ea8a209eb60e9c03eaedf3fd5384.jpg',\n",
              " 'drive/MyDrive/Deep Learning Project/dog-breed-identification/train/0d3b46bdc45c8bc24ed89cff69f06ab3.jpg',\n",
              " 'drive/MyDrive/Deep Learning Project/dog-breed-identification/train/0d4e09456d9ebfdb076e34326586f18e.jpg',\n",
              " 'drive/MyDrive/Deep Learning Project/dog-breed-identification/train/0d579f92d60935a54aa6dba6e6213257.jpg',\n",
              " 'drive/MyDrive/Deep Learning Project/dog-breed-identification/train/0d5a88f0ab2db8d34b533c69768135e8.jpg',\n",
              " 'drive/MyDrive/Deep Learning Project/dog-breed-identification/train/0d68c98ac13f84032cb863abf0498a02.jpg',\n",
              " 'drive/MyDrive/Deep Learning Project/dog-breed-identification/train/0d693ab130c18e15f923f59eb102def9.jpg',\n",
              " 'drive/MyDrive/Deep Learning Project/dog-breed-identification/train/0d695ef1bfe438be0cedcb8ef146afad.jpg',\n",
              " 'drive/MyDrive/Deep Learning Project/dog-breed-identification/train/0d6bab298a320221f08c49c701d3e06f.jpg',\n",
              " 'drive/MyDrive/Deep Learning Project/dog-breed-identification/train/0d6c6238a4cc499bb57fa0c10a15f8ad.jpg',\n",
              " 'drive/MyDrive/Deep Learning Project/dog-breed-identification/train/0d74e47d162e023bb1ae5aae40276fd6.jpg',\n",
              " 'drive/MyDrive/Deep Learning Project/dog-breed-identification/train/0d82788cd302dba65793ea68f55cc649.jpg',\n",
              " 'drive/MyDrive/Deep Learning Project/dog-breed-identification/train/0d83fbe9ab3684226edd81a13411bdf8.jpg',\n",
              " 'drive/MyDrive/Deep Learning Project/dog-breed-identification/train/0d8858e722c5f9834ddbdcecbf3cd4d6.jpg',\n",
              " 'drive/MyDrive/Deep Learning Project/dog-breed-identification/train/0d8d386390ba269dd4e475c20b91e8f9.jpg',\n",
              " 'drive/MyDrive/Deep Learning Project/dog-breed-identification/train/0d96ca29ff2e557e93c3de0ba017ff61.jpg',\n",
              " 'drive/MyDrive/Deep Learning Project/dog-breed-identification/train/0daad4c8568dd89f295f6c3837b772df.jpg',\n",
              " 'drive/MyDrive/Deep Learning Project/dog-breed-identification/train/0db44ddb42bf1f97de987abe2bf01839.jpg',\n",
              " 'drive/MyDrive/Deep Learning Project/dog-breed-identification/train/0dbf0bd0fdc7b594de02e573b1a04a56.jpg',\n",
              " 'drive/MyDrive/Deep Learning Project/dog-breed-identification/train/0dc3196b4213a2733d7f4bdcd41699d3.jpg',\n",
              " 'drive/MyDrive/Deep Learning Project/dog-breed-identification/train/0dc45e3e57bbcfccc550479d57b39951.jpg',\n",
              " 'drive/MyDrive/Deep Learning Project/dog-breed-identification/train/0dc7954749dc0224639be29aba3f1708.jpg',\n",
              " 'drive/MyDrive/Deep Learning Project/dog-breed-identification/train/0dcb8150908bbb7b7fff1b9d41a358ba.jpg',\n",
              " 'drive/MyDrive/Deep Learning Project/dog-breed-identification/train/0dd1914e122292dfbb25e35537b511f6.jpg',\n",
              " 'drive/MyDrive/Deep Learning Project/dog-breed-identification/train/0dd7b725203b91c30ca4f796d168e6ba.jpg',\n",
              " 'drive/MyDrive/Deep Learning Project/dog-breed-identification/train/0ddbc4702eff570783cd03645571e7f7.jpg',\n",
              " 'drive/MyDrive/Deep Learning Project/dog-breed-identification/train/0dde7ba887ee083616993d5892db139f.jpg',\n",
              " 'drive/MyDrive/Deep Learning Project/dog-breed-identification/train/0ddf7ab49836b36081621a655f3a5c21.jpg',\n",
              " 'drive/MyDrive/Deep Learning Project/dog-breed-identification/train/0df07a23ab97135ce7d390f2d12e388d.jpg',\n",
              " 'drive/MyDrive/Deep Learning Project/dog-breed-identification/train/0df3cd4042fa7c2a6e008a3a849a23d1.jpg',\n",
              " 'drive/MyDrive/Deep Learning Project/dog-breed-identification/train/0df400016a7e7ab4abff824bf2743f02.jpg',\n",
              " 'drive/MyDrive/Deep Learning Project/dog-breed-identification/train/0df4124761f7303a0080d50377f2ec7b.jpg',\n",
              " 'drive/MyDrive/Deep Learning Project/dog-breed-identification/train/0dff1edc6643df0d8ea6e0c5ca63b133.jpg',\n",
              " 'drive/MyDrive/Deep Learning Project/dog-breed-identification/train/0e0e44349e6955bea9fea91de26a6980.jpg',\n",
              " 'drive/MyDrive/Deep Learning Project/dog-breed-identification/train/0e167bb5c5d4736190d220d081d1de23.jpg',\n",
              " 'drive/MyDrive/Deep Learning Project/dog-breed-identification/train/0e1ac042292a573ecd0ec71b3b646997.jpg',\n",
              " 'drive/MyDrive/Deep Learning Project/dog-breed-identification/train/0e1fcfa1796f8c54b9fa4b56a3a1fc4e.jpg',\n",
              " 'drive/MyDrive/Deep Learning Project/dog-breed-identification/train/0e24a584e10db2c8f827ab00772e29cf.jpg',\n",
              " 'drive/MyDrive/Deep Learning Project/dog-breed-identification/train/0e33a6b9235d5cbb8712daf0abbd0007.jpg',\n",
              " 'drive/MyDrive/Deep Learning Project/dog-breed-identification/train/0e3cdff3560de43a8aa1d9820c211fae.jpg',\n",
              " 'drive/MyDrive/Deep Learning Project/dog-breed-identification/train/0e403e86dc961d59fec94dfb62968a53.jpg',\n",
              " 'drive/MyDrive/Deep Learning Project/dog-breed-identification/train/0e47c35f24067b19557e15fcfd48778c.jpg',\n",
              " 'drive/MyDrive/Deep Learning Project/dog-breed-identification/train/0e532335572b91360975154c90381689.jpg',\n",
              " 'drive/MyDrive/Deep Learning Project/dog-breed-identification/train/0e549376cfed70cf2a5b84e7a42d85ef.jpg',\n",
              " 'drive/MyDrive/Deep Learning Project/dog-breed-identification/train/0e63b24bfd67158963830f64b5126aef.jpg',\n",
              " 'drive/MyDrive/Deep Learning Project/dog-breed-identification/train/0e6e4b104e3cdf4c1963d74a27390f8e.jpg',\n",
              " 'drive/MyDrive/Deep Learning Project/dog-breed-identification/train/0e6f7b1083d38cfef96ccdf3171608d3.jpg',\n",
              " 'drive/MyDrive/Deep Learning Project/dog-breed-identification/train/0e708dfe2a8c60849a4b625eda57d118.jpg',\n",
              " 'drive/MyDrive/Deep Learning Project/dog-breed-identification/train/0e756365807ec27c6dfd944ba5b442b3.jpg',\n",
              " 'drive/MyDrive/Deep Learning Project/dog-breed-identification/train/0e7691c13a9267b621ffb866a83d08aa.jpg',\n",
              " 'drive/MyDrive/Deep Learning Project/dog-breed-identification/train/0e7712450813da57f7df73fc45a183b4.jpg',\n",
              " 'drive/MyDrive/Deep Learning Project/dog-breed-identification/train/0e7856dbcebb2268b839888c7972e8fb.jpg',\n",
              " 'drive/MyDrive/Deep Learning Project/dog-breed-identification/train/0e79be614f12deb4f7cae18614b7391b.jpg',\n",
              " 'drive/MyDrive/Deep Learning Project/dog-breed-identification/train/0e8d2f2fcb0efac6b731c191beb66559.jpg',\n",
              " 'drive/MyDrive/Deep Learning Project/dog-breed-identification/train/0e934073a6b9505c0ded4e34437ca538.jpg',\n",
              " 'drive/MyDrive/Deep Learning Project/dog-breed-identification/train/0e94678bb5498dc6df640553bf3a1b2f.jpg',\n",
              " 'drive/MyDrive/Deep Learning Project/dog-breed-identification/train/0e96d18ac522425bd231c3d8a32159da.jpg',\n",
              " 'drive/MyDrive/Deep Learning Project/dog-breed-identification/train/0ea00d73664139c52ee1eaabc77ea478.jpg',\n",
              " 'drive/MyDrive/Deep Learning Project/dog-breed-identification/train/0ea5759640f2e1c2d1a06adaf8a54ca7.jpg',\n",
              " 'drive/MyDrive/Deep Learning Project/dog-breed-identification/train/0ea78b024dc3955332d3ddb08b8e50f0.jpg',\n",
              " 'drive/MyDrive/Deep Learning Project/dog-breed-identification/train/0eac90a6621ecbf97adfec04596b77a3.jpg',\n",
              " 'drive/MyDrive/Deep Learning Project/dog-breed-identification/train/0eaea4c6fe055607ed8322db0306285f.jpg',\n",
              " 'drive/MyDrive/Deep Learning Project/dog-breed-identification/train/0eafdcc7628b2c74983819f40c763c2f.jpg',\n",
              " 'drive/MyDrive/Deep Learning Project/dog-breed-identification/train/0eb00c6fc429ecc2cf8745a6334594ad.jpg',\n",
              " 'drive/MyDrive/Deep Learning Project/dog-breed-identification/train/0eb297c3d5f6cc93371f02f4ed35879c.jpg',\n",
              " 'drive/MyDrive/Deep Learning Project/dog-breed-identification/train/0eb6e0f872b393654bea530bfc2cac1d.jpg',\n",
              " 'drive/MyDrive/Deep Learning Project/dog-breed-identification/train/0ebfd68f64bd750fca790f0b40d69481.jpg',\n",
              " 'drive/MyDrive/Deep Learning Project/dog-breed-identification/train/0ec6e2d3078a83ccc3f7fd5a4ac01e3e.jpg',\n",
              " 'drive/MyDrive/Deep Learning Project/dog-breed-identification/train/0ec8020bc2c4bc1646a81737be8580e0.jpg',\n",
              " 'drive/MyDrive/Deep Learning Project/dog-breed-identification/train/0ec9be8b32f2b9eff2b817a7f722b118.jpg',\n",
              " 'drive/MyDrive/Deep Learning Project/dog-breed-identification/train/0eeb17d40281f3bd639de24ca662c5d2.jpg',\n",
              " 'drive/MyDrive/Deep Learning Project/dog-breed-identification/train/0ef07f4a6706a04af9ff354e263a28b3.jpg',\n",
              " 'drive/MyDrive/Deep Learning Project/dog-breed-identification/train/0ef688efcc98bc287976c3d4d8145ae8.jpg',\n",
              " 'drive/MyDrive/Deep Learning Project/dog-breed-identification/train/0ef80d6c4d739faaae8d3cc08c696c54.jpg',\n",
              " 'drive/MyDrive/Deep Learning Project/dog-breed-identification/train/0f015731185a2308c1a85eed4e8ad728.jpg',\n",
              " 'drive/MyDrive/Deep Learning Project/dog-breed-identification/train/0f03e05c333f7e5538d4c90f9c837796.jpg',\n",
              " 'drive/MyDrive/Deep Learning Project/dog-breed-identification/train/0f04466edd10d6c1d27e123399cf4433.jpg',\n",
              " 'drive/MyDrive/Deep Learning Project/dog-breed-identification/train/0f0effd9b5d25fdab84c2a8ae17d6deb.jpg',\n",
              " 'drive/MyDrive/Deep Learning Project/dog-breed-identification/train/0f0f297dca75b5c780316a0f4169a950.jpg',\n",
              " 'drive/MyDrive/Deep Learning Project/dog-breed-identification/train/0f1c3858495a49949934d2a635e190cf.jpg',\n",
              " 'drive/MyDrive/Deep Learning Project/dog-breed-identification/train/0f23ce5c1129ad70c079d262448d9fac.jpg',\n",
              " 'drive/MyDrive/Deep Learning Project/dog-breed-identification/train/0f26d3f7ff65d0713f36cd8cfe6c7a5f.jpg',\n",
              " 'drive/MyDrive/Deep Learning Project/dog-breed-identification/train/0f2a90c737499a7d8bf26bb5348874da.jpg',\n",
              " 'drive/MyDrive/Deep Learning Project/dog-breed-identification/train/0f2c56b4d40a8e86b8c91545e625b79a.jpg',\n",
              " 'drive/MyDrive/Deep Learning Project/dog-breed-identification/train/0f2fbcae9ec83165d1ce5f5783fcb903.jpg',\n",
              " 'drive/MyDrive/Deep Learning Project/dog-breed-identification/train/0f3416f29133c2df1b00be4448dc4473.jpg',\n",
              " 'drive/MyDrive/Deep Learning Project/dog-breed-identification/train/0f378abee01a23bc9e651753300a9a36.jpg',\n",
              " 'drive/MyDrive/Deep Learning Project/dog-breed-identification/train/0f46feccc1e3e8729fb680a72debb29c.jpg',\n",
              " 'drive/MyDrive/Deep Learning Project/dog-breed-identification/train/0f5dd4999e44100d74f68c789f3edc54.jpg',\n",
              " 'drive/MyDrive/Deep Learning Project/dog-breed-identification/train/0f6d2d6c124fb61ba7c59ef8dbd42c99.jpg',\n",
              " 'drive/MyDrive/Deep Learning Project/dog-breed-identification/train/0f73c1cc99dd8b9c580c4260debf1f93.jpg',\n",
              " 'drive/MyDrive/Deep Learning Project/dog-breed-identification/train/0f74df5d1c925541eb1b3031a82a5cb8.jpg',\n",
              " 'drive/MyDrive/Deep Learning Project/dog-breed-identification/train/0f7c32eb17dce55860772c983f557e3c.jpg',\n",
              " 'drive/MyDrive/Deep Learning Project/dog-breed-identification/train/0f7c817dd5f8b8d6b57e3b7f3e2f4f56.jpg',\n",
              " 'drive/MyDrive/Deep Learning Project/dog-breed-identification/train/0f7db98cbd6f6537c0ac3dfad349b182.jpg',\n",
              " 'drive/MyDrive/Deep Learning Project/dog-breed-identification/train/0f8e8464cfa3bacc074d6e0289d6657f.jpg',\n",
              " 'drive/MyDrive/Deep Learning Project/dog-breed-identification/train/0f91ba06bfea7401f59c6d796717029d.jpg',\n",
              " 'drive/MyDrive/Deep Learning Project/dog-breed-identification/train/0f91c68e2088b8d45950cdde991f37d1.jpg',\n",
              " 'drive/MyDrive/Deep Learning Project/dog-breed-identification/train/0f976e55b3634296183b2b1c051d5bda.jpg',\n",
              " 'drive/MyDrive/Deep Learning Project/dog-breed-identification/train/0f9a30195723e9951f65ac1246e5deac.jpg',\n",
              " 'drive/MyDrive/Deep Learning Project/dog-breed-identification/train/0f9d92617b85252200cf99ef0f84d59d.jpg',\n",
              " 'drive/MyDrive/Deep Learning Project/dog-breed-identification/train/0fa302727af44e7ad8033825cea98d7c.jpg',\n",
              " 'drive/MyDrive/Deep Learning Project/dog-breed-identification/train/0fa361cea0655e945970cd4762355ac0.jpg',\n",
              " 'drive/MyDrive/Deep Learning Project/dog-breed-identification/train/0fa7d7d2e948948c67919565a380ad45.jpg',\n",
              " 'drive/MyDrive/Deep Learning Project/dog-breed-identification/train/0fb1454104deee316f52244bb2037b37.jpg',\n",
              " 'drive/MyDrive/Deep Learning Project/dog-breed-identification/train/0fbacbbdb4ad588598757b6d4bd111f1.jpg',\n",
              " 'drive/MyDrive/Deep Learning Project/dog-breed-identification/train/0fbfe941d913c3976a13cc4925e67389.jpg',\n",
              " 'drive/MyDrive/Deep Learning Project/dog-breed-identification/train/0fc12a365adfcbb603e298b10149632a.jpg',\n",
              " 'drive/MyDrive/Deep Learning Project/dog-breed-identification/train/0fc1bd3c4d89b3f89dc91605032fa8f9.jpg',\n",
              " 'drive/MyDrive/Deep Learning Project/dog-breed-identification/train/0fc4930f411a11df34283f349d891654.jpg',\n",
              " 'drive/MyDrive/Deep Learning Project/dog-breed-identification/train/0fc6556b7504fc473d8bdaa0a555a4de.jpg',\n",
              " 'drive/MyDrive/Deep Learning Project/dog-breed-identification/train/0fcaccf71de140cfbc77c793e6a485bd.jpg',\n",
              " 'drive/MyDrive/Deep Learning Project/dog-breed-identification/train/0fd8e587dd02713551fc1fb0c8841c49.jpg',\n",
              " 'drive/MyDrive/Deep Learning Project/dog-breed-identification/train/0fded83899cc06dc30c1bda6302b5bd6.jpg',\n",
              " 'drive/MyDrive/Deep Learning Project/dog-breed-identification/train/0fdfc060cdbaf30f356ffb4946df4580.jpg',\n",
              " 'drive/MyDrive/Deep Learning Project/dog-breed-identification/train/0fe613c90931a021ad3716dcb9a5f270.jpg',\n",
              " 'drive/MyDrive/Deep Learning Project/dog-breed-identification/train/0fee7eb61d52b589414845803d73f2f9.jpg',\n",
              " 'drive/MyDrive/Deep Learning Project/dog-breed-identification/train/0ff07d44f992eec7f0b5452875255c80.jpg',\n",
              " 'drive/MyDrive/Deep Learning Project/dog-breed-identification/train/1006967db8c3d015cb0d272c4ae623a5.jpg',\n",
              " 'drive/MyDrive/Deep Learning Project/dog-breed-identification/train/100965db7a00c9752519e342ce9baf99.jpg',\n",
              " 'drive/MyDrive/Deep Learning Project/dog-breed-identification/train/100f347ec78a42a9e7c2418e4beb3f6a.jpg',\n",
              " 'drive/MyDrive/Deep Learning Project/dog-breed-identification/train/1012fef5c11e2875d2268c93253108ff.jpg',\n",
              " 'drive/MyDrive/Deep Learning Project/dog-breed-identification/train/1015e4eba660def32e7e52b89fe3a9c6.jpg',\n",
              " 'drive/MyDrive/Deep Learning Project/dog-breed-identification/train/101c7d1a68a7282bbc5a1a226d81cd74.jpg',\n",
              " 'drive/MyDrive/Deep Learning Project/dog-breed-identification/train/1026e954ac304be5f049e79ee6a045c0.jpg',\n",
              " 'drive/MyDrive/Deep Learning Project/dog-breed-identification/train/102b81ed975bfa49e496526720e9b671.jpg',\n",
              " 'drive/MyDrive/Deep Learning Project/dog-breed-identification/train/102fe645c59f482cbc771c01cfff3ff9.jpg',\n",
              " 'drive/MyDrive/Deep Learning Project/dog-breed-identification/train/103e4b4c0ebb0e8dabe6d47970fb546b.jpg',\n",
              " 'drive/MyDrive/Deep Learning Project/dog-breed-identification/train/1041e0480ed0b88c41169fb2b119fcf7.jpg',\n",
              " 'drive/MyDrive/Deep Learning Project/dog-breed-identification/train/1043003fb33c5fa1d094cde3c0dd1fd5.jpg',\n",
              " 'drive/MyDrive/Deep Learning Project/dog-breed-identification/train/104a6182cff3f37406fb77b7f0c40402.jpg',\n",
              " 'drive/MyDrive/Deep Learning Project/dog-breed-identification/train/104f3118ce7eba3e48138ccaa201f25a.jpg',\n",
              " 'drive/MyDrive/Deep Learning Project/dog-breed-identification/train/1066d43c5f952120ec355bb56459228a.jpg',\n",
              " 'drive/MyDrive/Deep Learning Project/dog-breed-identification/train/1069587e556525ecf7b3c6def3c096d7.jpg',\n",
              " 'drive/MyDrive/Deep Learning Project/dog-breed-identification/train/106a740e7e34d80e35b0f40a3d96fc1b.jpg',\n",
              " 'drive/MyDrive/Deep Learning Project/dog-breed-identification/train/106d7e0df869e7ba9f6d16c5f77ddfb8.jpg',\n",
              " 'drive/MyDrive/Deep Learning Project/dog-breed-identification/train/10706a4ccdd719191686b98d4dc48ed0.jpg',\n",
              " 'drive/MyDrive/Deep Learning Project/dog-breed-identification/train/10730dfd280bb4b2723dc677378f2ff1.jpg',\n",
              " 'drive/MyDrive/Deep Learning Project/dog-breed-identification/train/1081c1b755f05b219275afd0989c6748.jpg',\n",
              " 'drive/MyDrive/Deep Learning Project/dog-breed-identification/train/1083fffa8c174aa1a46627f53e1e50f8.jpg',\n",
              " 'drive/MyDrive/Deep Learning Project/dog-breed-identification/train/1089c1e5058ffff12e1cca2e85205ed8.jpg',\n",
              " 'drive/MyDrive/Deep Learning Project/dog-breed-identification/train/1095f3f511b5d85db6e614fc6cf58250.jpg',\n",
              " 'drive/MyDrive/Deep Learning Project/dog-breed-identification/train/109bfcf2de8f0b7eb5f7768a51ebd565.jpg',\n",
              " 'drive/MyDrive/Deep Learning Project/dog-breed-identification/train/10a59be0ffb5e269849d409d05b1e94c.jpg',\n",
              " 'drive/MyDrive/Deep Learning Project/dog-breed-identification/train/10b7de79c1ce32cb8928616b00c3686e.jpg',\n",
              " 'drive/MyDrive/Deep Learning Project/dog-breed-identification/train/10c132cf556fc31a60c0f07e0d416a6c.jpg',\n",
              " 'drive/MyDrive/Deep Learning Project/dog-breed-identification/train/10c2616bf8e750b282cea404d01a3429.jpg',\n",
              " 'drive/MyDrive/Deep Learning Project/dog-breed-identification/train/10c9288e30af850676d34c18fb7c1632.jpg',\n",
              " 'drive/MyDrive/Deep Learning Project/dog-breed-identification/train/10c9ac7d54eaf2a4ed12883125afa4e2.jpg',\n",
              " 'drive/MyDrive/Deep Learning Project/dog-breed-identification/train/10ce268c0affd428a49ada5a79fe9ca8.jpg',\n",
              " 'drive/MyDrive/Deep Learning Project/dog-breed-identification/train/10d766340a5c0038f2b0529a63ecf2ba.jpg',\n",
              " 'drive/MyDrive/Deep Learning Project/dog-breed-identification/train/10e2fcf8d3292866bc93d1048cec7962.jpg',\n",
              " 'drive/MyDrive/Deep Learning Project/dog-breed-identification/train/10ebf7599dd41ded00fd74bdfeada500.jpg',\n",
              " 'drive/MyDrive/Deep Learning Project/dog-breed-identification/train/10edc6f98c2423e4e195e09a86b0d292.jpg',\n",
              " 'drive/MyDrive/Deep Learning Project/dog-breed-identification/train/10f1d53bb20d5acc7c8772018399c238.jpg',\n",
              " 'drive/MyDrive/Deep Learning Project/dog-breed-identification/train/10f7757fdc673e159e47ea20834ba551.jpg',\n",
              " 'drive/MyDrive/Deep Learning Project/dog-breed-identification/train/10f790eb0fe5653c1980ddd983ec79c4.jpg',\n",
              " 'drive/MyDrive/Deep Learning Project/dog-breed-identification/train/1108e48ce3e2d7d7fb527ae6e40ab486.jpg',\n",
              " 'drive/MyDrive/Deep Learning Project/dog-breed-identification/train/1116f9aa5db9ee09090115d09f327093.jpg',\n",
              " 'drive/MyDrive/Deep Learning Project/dog-breed-identification/train/112b85d8e95da86fdf51031caea20d5e.jpg',\n",
              " 'drive/MyDrive/Deep Learning Project/dog-breed-identification/train/1132baf0ad2beef88c9d78c8ee21778c.jpg',\n",
              " 'drive/MyDrive/Deep Learning Project/dog-breed-identification/train/113c17f9199d16d1a9a1b16e3740ef78.jpg',\n",
              " 'drive/MyDrive/Deep Learning Project/dog-breed-identification/train/113ef2bb9e14d89f927314f73d573313.jpg',\n",
              " 'drive/MyDrive/Deep Learning Project/dog-breed-identification/train/1143bb719660680ac0174ce68dc16773.jpg',\n",
              " 'drive/MyDrive/Deep Learning Project/dog-breed-identification/train/114524d11fe49af5be43897233a4f65e.jpg',\n",
              " 'drive/MyDrive/Deep Learning Project/dog-breed-identification/train/11476f28c0143a77c536b597a177abc9.jpg',\n",
              " 'drive/MyDrive/Deep Learning Project/dog-breed-identification/train/114a27c91c2ecc5818688abd63461c94.jpg',\n",
              " 'drive/MyDrive/Deep Learning Project/dog-breed-identification/train/1158819241bb6eee2c1ff790a885ecf3.jpg',\n",
              " 'drive/MyDrive/Deep Learning Project/dog-breed-identification/train/115ad26b0cef153d2afaf6985503c9c3.jpg',\n",
              " 'drive/MyDrive/Deep Learning Project/dog-breed-identification/train/1165dd8264b3998810065ab9e3cecb3b.jpg',\n",
              " 'drive/MyDrive/Deep Learning Project/dog-breed-identification/train/117085659f91228627caf21a574f2bbf.jpg',\n",
              " 'drive/MyDrive/Deep Learning Project/dog-breed-identification/train/11722136645ee54db58a0df76eae2179.jpg',\n",
              " 'drive/MyDrive/Deep Learning Project/dog-breed-identification/train/11730ea41395edaaa3a80d757c7dd1c2.jpg',\n",
              " 'drive/MyDrive/Deep Learning Project/dog-breed-identification/train/1177d2702335c889d4c1456e45e3d2ef.jpg',\n",
              " 'drive/MyDrive/Deep Learning Project/dog-breed-identification/train/118060ca946af5cfd1b3bbe030f9003c.jpg',\n",
              " 'drive/MyDrive/Deep Learning Project/dog-breed-identification/train/118089e60763cbdba239cac747a54a6e.jpg',\n",
              " 'drive/MyDrive/Deep Learning Project/dog-breed-identification/train/118902ec1a74243e96f818e9c5a8ea50.jpg',\n",
              " 'drive/MyDrive/Deep Learning Project/dog-breed-identification/train/1195f58740671fa1d73c91f39031e417.jpg',\n",
              " 'drive/MyDrive/Deep Learning Project/dog-breed-identification/train/119c85c592c1a60030abe35a6b49fa57.jpg',\n",
              " 'drive/MyDrive/Deep Learning Project/dog-breed-identification/train/11a508588bc3dec81bd4ce4913f963cd.jpg',\n",
              " 'drive/MyDrive/Deep Learning Project/dog-breed-identification/train/11a7275abdc2e78ff72c59e59189d1eb.jpg',\n",
              " 'drive/MyDrive/Deep Learning Project/dog-breed-identification/train/11b60d8d86f14a601ca290909a17cbc6.jpg',\n",
              " 'drive/MyDrive/Deep Learning Project/dog-breed-identification/train/11bbd6229f14cc68bd0f157a9ef1d47d.jpg',\n",
              " 'drive/MyDrive/Deep Learning Project/dog-breed-identification/train/11c0aaa58a419a61513b5c1f27b67f16.jpg',\n",
              " 'drive/MyDrive/Deep Learning Project/dog-breed-identification/train/11c3b389906a9302def1e873c9f9b6c9.jpg',\n",
              " 'drive/MyDrive/Deep Learning Project/dog-breed-identification/train/11d669406a273858a123d1d1c87354c9.jpg',\n",
              " 'drive/MyDrive/Deep Learning Project/dog-breed-identification/train/11da2a7ad0326cbf4b46da32b1b82bc6.jpg',\n",
              " 'drive/MyDrive/Deep Learning Project/dog-breed-identification/train/11de51e128d743d0d40dd8ce3b4fdb92.jpg',\n",
              " 'drive/MyDrive/Deep Learning Project/dog-breed-identification/train/11e29ec9659995ebdc80f8d812dedaa8.jpg',\n",
              " 'drive/MyDrive/Deep Learning Project/dog-breed-identification/train/11e572c36d23d362ff987d7f8828dd45.jpg',\n",
              " 'drive/MyDrive/Deep Learning Project/dog-breed-identification/train/11f1e40f11ca1babbcc547c5c98a1a3c.jpg',\n",
              " 'drive/MyDrive/Deep Learning Project/dog-breed-identification/train/11f968569f31c60b73a6d50b907f800f.jpg',\n",
              " 'drive/MyDrive/Deep Learning Project/dog-breed-identification/train/12078d0ea135483e4bc48e2f13678588.jpg',\n",
              " 'drive/MyDrive/Deep Learning Project/dog-breed-identification/train/120c338a78b113785c31e4ebf11d229e.jpg',\n",
              " 'drive/MyDrive/Deep Learning Project/dog-breed-identification/train/120e665f7fa566a429d27ad920fc34da.jpg',\n",
              " 'drive/MyDrive/Deep Learning Project/dog-breed-identification/train/122abc906f3215996cbcccf63c8fc89c.jpg',\n",
              " 'drive/MyDrive/Deep Learning Project/dog-breed-identification/train/1234dd4303d5181574ca007f53ed03db.jpg',\n",
              " 'drive/MyDrive/Deep Learning Project/dog-breed-identification/train/123c19c8d168e7704273cb7174351821.jpg',\n",
              " 'drive/MyDrive/Deep Learning Project/dog-breed-identification/train/123ffeb6b374097856bffdd11b693668.jpg',\n",
              " 'drive/MyDrive/Deep Learning Project/dog-breed-identification/train/12405b2e93417d81f5308769c4e184c7.jpg',\n",
              " 'drive/MyDrive/Deep Learning Project/dog-breed-identification/train/1241cd8dc2ee02844a420b6d0afbc97e.jpg',\n",
              " 'drive/MyDrive/Deep Learning Project/dog-breed-identification/train/1242d1521d58b7cc6dd03d95a02c8bcb.jpg',\n",
              " 'drive/MyDrive/Deep Learning Project/dog-breed-identification/train/1242da788ce85d4311e1cc9922a0a809.jpg',\n",
              " 'drive/MyDrive/Deep Learning Project/dog-breed-identification/train/1257cafca085d403a583378d525953d5.jpg',\n",
              " 'drive/MyDrive/Deep Learning Project/dog-breed-identification/train/12590e7d21b4e221217c7fc8fa67a800.jpg',\n",
              " 'drive/MyDrive/Deep Learning Project/dog-breed-identification/train/1268223049f00d74f20d4f2af3126234.jpg',\n",
              " 'drive/MyDrive/Deep Learning Project/dog-breed-identification/train/1278143f78dc063c1e29970bf3eb32a2.jpg',\n",
              " 'drive/MyDrive/Deep Learning Project/dog-breed-identification/train/12815630b892efa2744926fe59382491.jpg',\n",
              " 'drive/MyDrive/Deep Learning Project/dog-breed-identification/train/129cff4506469af7863a6e30c9947a66.jpg',\n",
              " 'drive/MyDrive/Deep Learning Project/dog-breed-identification/train/12a2e809d7f15298050f3798c018c395.jpg',\n",
              " 'drive/MyDrive/Deep Learning Project/dog-breed-identification/train/12a96a9c366b60dcc62fec29006780a3.jpg',\n",
              " 'drive/MyDrive/Deep Learning Project/dog-breed-identification/train/12a9f1c02202a020fe9e51fc46dc780f.jpg',\n",
              " 'drive/MyDrive/Deep Learning Project/dog-breed-identification/train/12b5c6e825ea11850e23f233a54981f3.jpg',\n",
              " 'drive/MyDrive/Deep Learning Project/dog-breed-identification/train/12b72be0bcd7a96172fee4f7cd5b01fd.jpg',\n",
              " 'drive/MyDrive/Deep Learning Project/dog-breed-identification/train/12b839068a6c29541797fa9bd20f350c.jpg',\n",
              " 'drive/MyDrive/Deep Learning Project/dog-breed-identification/train/12b880c67ff773988a16cee76be47c54.jpg',\n",
              " 'drive/MyDrive/Deep Learning Project/dog-breed-identification/train/12bd4b1926c160fcd73ae48215e2b12d.jpg',\n",
              " 'drive/MyDrive/Deep Learning Project/dog-breed-identification/train/12c222ec2e7808183056af545a4bc046.jpg',\n",
              " 'drive/MyDrive/Deep Learning Project/dog-breed-identification/train/12c65c69fa9e112448f7d26ed34abb57.jpg',\n",
              " 'drive/MyDrive/Deep Learning Project/dog-breed-identification/train/12c9f56e73ac9f4a08afb142f89051ae.jpg',\n",
              " 'drive/MyDrive/Deep Learning Project/dog-breed-identification/train/12d1b8763a1b74c7e40c65b005f91ea9.jpg',\n",
              " 'drive/MyDrive/Deep Learning Project/dog-breed-identification/train/12db63491c6590c8ef38dc1824aa4b81.jpg',\n",
              " 'drive/MyDrive/Deep Learning Project/dog-breed-identification/train/12de62fb1fa5a48d596428dd5a90184a.jpg',\n",
              " 'drive/MyDrive/Deep Learning Project/dog-breed-identification/train/12dfab0ecfdd9475b561febf2533513a.jpg',\n",
              " 'drive/MyDrive/Deep Learning Project/dog-breed-identification/train/12e15979a85e881613f8f2cf49de08be.jpg',\n",
              " 'drive/MyDrive/Deep Learning Project/dog-breed-identification/train/12eb341a614941c33777c708d43a042f.jpg',\n",
              " 'drive/MyDrive/Deep Learning Project/dog-breed-identification/train/12f4a7e00a5a4fc215f6e0c3fda079c3.jpg',\n",
              " 'drive/MyDrive/Deep Learning Project/dog-breed-identification/train/12fbfefaae57137c745f16b0cf11b84d.jpg',\n",
              " 'drive/MyDrive/Deep Learning Project/dog-breed-identification/train/12fe7ed6bd250509b131d245551b06f6.jpg',\n",
              " 'drive/MyDrive/Deep Learning Project/dog-breed-identification/train/1301d1dd2763e028cf70d0da4c1bab7b.jpg',\n",
              " 'drive/MyDrive/Deep Learning Project/dog-breed-identification/train/1304760775c1aff0f21c311bd48f9580.jpg',\n",
              " 'drive/MyDrive/Deep Learning Project/dog-breed-identification/train/1312009d41a9488bf5dc0af0289b0657.jpg',\n",
              " 'drive/MyDrive/Deep Learning Project/dog-breed-identification/train/1312d2ca6f4bfd594624f7161be73ee7.jpg',\n",
              " 'drive/MyDrive/Deep Learning Project/dog-breed-identification/train/131c49315a5bc73880b305a844bf531a.jpg',\n",
              " 'drive/MyDrive/Deep Learning Project/dog-breed-identification/train/131ccf48aba2dc53174c170b2429e55b.jpg',\n",
              " 'drive/MyDrive/Deep Learning Project/dog-breed-identification/train/131d708a270a3ebca285978bf53df62e.jpg',\n",
              " 'drive/MyDrive/Deep Learning Project/dog-breed-identification/train/1321d074e879267699d42fdca77b4004.jpg',\n",
              " 'drive/MyDrive/Deep Learning Project/dog-breed-identification/train/132538caad57960ca3c9162e2f4a8498.jpg',\n",
              " 'drive/MyDrive/Deep Learning Project/dog-breed-identification/train/13267e83358116ad51bebdb1be3d0a8e.jpg',\n",
              " 'drive/MyDrive/Deep Learning Project/dog-breed-identification/train/1351c4f7cec88e8ba56ada4c772d84f5.jpg',\n",
              " 'drive/MyDrive/Deep Learning Project/dog-breed-identification/train/1352efb02c29ba1b9be918170afff486.jpg',\n",
              " 'drive/MyDrive/Deep Learning Project/dog-breed-identification/train/135587061f51e7dabb820bbbd619977a.jpg',\n",
              " 'drive/MyDrive/Deep Learning Project/dog-breed-identification/train/1369c16ecf370cee5e4a306eebe5656e.jpg',\n",
              " 'drive/MyDrive/Deep Learning Project/dog-breed-identification/train/136b8208ffd0262ea1aa6f8c17265ff7.jpg',\n",
              " 'drive/MyDrive/Deep Learning Project/dog-breed-identification/train/136e0fc1f67b72037c0e60faff6061f2.jpg',\n",
              " 'drive/MyDrive/Deep Learning Project/dog-breed-identification/train/137f07bc5f15fa8e39f85a8333e68780.jpg',\n",
              " 'drive/MyDrive/Deep Learning Project/dog-breed-identification/train/1381239a87d5a97caab8d0cf72a06e75.jpg',\n",
              " 'drive/MyDrive/Deep Learning Project/dog-breed-identification/train/1381df385b4c5da43539ab48633bd9b5.jpg',\n",
              " 'drive/MyDrive/Deep Learning Project/dog-breed-identification/train/1383bc8b2db4943fafe13b7f289f4a03.jpg',\n",
              " 'drive/MyDrive/Deep Learning Project/dog-breed-identification/train/13863e32053e9735b55ba975ecd58cfd.jpg',\n",
              " 'drive/MyDrive/Deep Learning Project/dog-breed-identification/train/1392df2ceab56cdf380813987c7c9ba5.jpg',\n",
              " 'drive/MyDrive/Deep Learning Project/dog-breed-identification/train/13932827f30cb00d0cb4c40443c788f4.jpg',\n",
              " 'drive/MyDrive/Deep Learning Project/dog-breed-identification/train/1399f1e08abd77f1b736303d4101d51c.jpg',\n",
              " 'drive/MyDrive/Deep Learning Project/dog-breed-identification/train/139b8328a97a600cceb73b0875f80a98.jpg',\n",
              " 'drive/MyDrive/Deep Learning Project/dog-breed-identification/train/139e8120addf833f72a8dc2c12ad4c8a.jpg',\n",
              " 'drive/MyDrive/Deep Learning Project/dog-breed-identification/train/139fc3326016bf24cc06ad898c42742e.jpg',\n",
              " 'drive/MyDrive/Deep Learning Project/dog-breed-identification/train/13b1ca09a561661a8c1a506d49b8dd83.jpg',\n",
              " 'drive/MyDrive/Deep Learning Project/dog-breed-identification/train/13b5f36cb39cb5123958c6e4fbfd5399.jpg',\n",
              " 'drive/MyDrive/Deep Learning Project/dog-breed-identification/train/13c5a0d636619210b5ac003ee82aacf0.jpg',\n",
              " 'drive/MyDrive/Deep Learning Project/dog-breed-identification/train/13c630fcf8aa68ab0e97cd4a644b8943.jpg',\n",
              " 'drive/MyDrive/Deep Learning Project/dog-breed-identification/train/13c7c6b47b97b9f0a4591fef29893436.jpg',\n",
              " 'drive/MyDrive/Deep Learning Project/dog-breed-identification/train/13cab1309bdaf21aa17cf71fd6f88a65.jpg',\n",
              " 'drive/MyDrive/Deep Learning Project/dog-breed-identification/train/13d42ef52eb6c649c14cb9ffa8b6fba4.jpg',\n",
              " 'drive/MyDrive/Deep Learning Project/dog-breed-identification/train/13d470408dbbdc20b38ea32d3752edbb.jpg',\n",
              " 'drive/MyDrive/Deep Learning Project/dog-breed-identification/train/13e2d0cb1fa62d3085be6877bd7e85cb.jpg',\n",
              " 'drive/MyDrive/Deep Learning Project/dog-breed-identification/train/13e608df9c88b1465ebf98bc84d0a832.jpg',\n",
              " 'drive/MyDrive/Deep Learning Project/dog-breed-identification/train/13ea49cd2b706ec9a15e7214e492bbb2.jpg',\n",
              " 'drive/MyDrive/Deep Learning Project/dog-breed-identification/train/13ee74fa50b3e32356047fde4fd993ab.jpg',\n",
              " 'drive/MyDrive/Deep Learning Project/dog-breed-identification/train/13f6cb46cb23d6eb41fa6931b73b3e4c.jpg',\n",
              " 'drive/MyDrive/Deep Learning Project/dog-breed-identification/train/13f765ea64c7a3575a105cbdfbb6c31f.jpg',\n",
              " 'drive/MyDrive/Deep Learning Project/dog-breed-identification/train/13f939b9b15ec56409a21017263db93c.jpg',\n",
              " 'drive/MyDrive/Deep Learning Project/dog-breed-identification/train/13fc4571a3c549715a357d22fd16eabb.jpg',\n",
              " 'drive/MyDrive/Deep Learning Project/dog-breed-identification/train/13feb3feb14fe8aa91f70411bc1b10e9.jpg',\n",
              " 'drive/MyDrive/Deep Learning Project/dog-breed-identification/train/14095922a772c94921a065006a9fa454.jpg',\n",
              " 'drive/MyDrive/Deep Learning Project/dog-breed-identification/train/1411967eaa020b15874e03167eceea62.jpg',\n",
              " 'drive/MyDrive/Deep Learning Project/dog-breed-identification/train/141321373d0535ee37171a2d6ca9bcbb.jpg',\n",
              " 'drive/MyDrive/Deep Learning Project/dog-breed-identification/train/14158fdadb6a3accea6b334d0f284092.jpg',\n",
              " 'drive/MyDrive/Deep Learning Project/dog-breed-identification/train/1416047ba98d2c23eb2caf45d3008ccb.jpg',\n",
              " 'drive/MyDrive/Deep Learning Project/dog-breed-identification/train/1416892831c073f6d3879d8cdf5386dd.jpg',\n",
              " 'drive/MyDrive/Deep Learning Project/dog-breed-identification/train/141706c74486585c27de2dfb335695bb.jpg',\n",
              " 'drive/MyDrive/Deep Learning Project/dog-breed-identification/train/1418b4cd78095ff2635ef02684a026b7.jpg',\n",
              " 'drive/MyDrive/Deep Learning Project/dog-breed-identification/train/1428026a4472cda58ad13233bb9ad64d.jpg',\n",
              " 'drive/MyDrive/Deep Learning Project/dog-breed-identification/train/142ef9990b3db0d521f87f9133a6b84f.jpg',\n",
              " 'drive/MyDrive/Deep Learning Project/dog-breed-identification/train/1435300899e9180c90de6e100643b402.jpg',\n",
              " 'drive/MyDrive/Deep Learning Project/dog-breed-identification/train/1438130db8837b0e5fdb8416e53353ec.jpg',\n",
              " 'drive/MyDrive/Deep Learning Project/dog-breed-identification/train/1438ea6672622b5867ce2fbcebe6c552.jpg',\n",
              " 'drive/MyDrive/Deep Learning Project/dog-breed-identification/train/143b9484273e57668d03bfc26755810a.jpg',\n",
              " 'drive/MyDrive/Deep Learning Project/dog-breed-identification/train/143ce5343024462044b72de531b5ff08.jpg',\n",
              " 'drive/MyDrive/Deep Learning Project/dog-breed-identification/train/143d5305a4055398828d5b7e3aa8f75b.jpg',\n",
              " 'drive/MyDrive/Deep Learning Project/dog-breed-identification/train/14597c96d5c222eebd742f4207296314.jpg',\n",
              " 'drive/MyDrive/Deep Learning Project/dog-breed-identification/train/145ec132c2a1cc4291bd774c7f78c871.jpg',\n",
              " 'drive/MyDrive/Deep Learning Project/dog-breed-identification/train/145f7bb3bf6e4877b8b6624f612a1c24.jpg',\n",
              " 'drive/MyDrive/Deep Learning Project/dog-breed-identification/train/1465759436b4acd2748dd50108b90ca9.jpg',\n",
              " 'drive/MyDrive/Deep Learning Project/dog-breed-identification/train/146b732430bb63d5338fc6b7a8fc0135.jpg',\n",
              " 'drive/MyDrive/Deep Learning Project/dog-breed-identification/train/146be641443a270dd8116f65d53d0c9d.jpg',\n",
              " 'drive/MyDrive/Deep Learning Project/dog-breed-identification/train/146c249bf2d60bf30c309341020bf2ee.jpg',\n",
              " 'drive/MyDrive/Deep Learning Project/dog-breed-identification/train/146c8ed2e65ed9e04d8302bf1d96815a.jpg',\n",
              " 'drive/MyDrive/Deep Learning Project/dog-breed-identification/train/146fa113f3d8ad6e0effe9719e09cef1.jpg',\n",
              " 'drive/MyDrive/Deep Learning Project/dog-breed-identification/train/146fbfac6b5b1f0de83a5d0c1b473377.jpg',\n",
              " 'drive/MyDrive/Deep Learning Project/dog-breed-identification/train/146fcb253fd7b73b2c9f20d91a49f400.jpg',\n",
              " 'drive/MyDrive/Deep Learning Project/dog-breed-identification/train/1472fb85b5c76d50009137da3dbde052.jpg',\n",
              " 'drive/MyDrive/Deep Learning Project/dog-breed-identification/train/1476da6f7fc9421c8ec3c0aba6b3e1bf.jpg',\n",
              " 'drive/MyDrive/Deep Learning Project/dog-breed-identification/train/14914d7f0348c56b32a779596c11ecd6.jpg',\n",
              " 'drive/MyDrive/Deep Learning Project/dog-breed-identification/train/14918e76fc079738923ea5ab8d12b4ee.jpg',\n",
              " 'drive/MyDrive/Deep Learning Project/dog-breed-identification/train/1493bf7f5cb1ca62b4e0772d9edc702e.jpg',\n",
              " 'drive/MyDrive/Deep Learning Project/dog-breed-identification/train/14a24af1ce8c796dc96bb45dea1fb8dc.jpg',\n",
              " 'drive/MyDrive/Deep Learning Project/dog-breed-identification/train/14a2795a5c3d69a5c18a63aad8718003.jpg',\n",
              " 'drive/MyDrive/Deep Learning Project/dog-breed-identification/train/14a44cf4253e82340f83293e3920af11.jpg',\n",
              " 'drive/MyDrive/Deep Learning Project/dog-breed-identification/train/14acf981af889d9b97d1d46a439228b0.jpg',\n",
              " 'drive/MyDrive/Deep Learning Project/dog-breed-identification/train/14b1b3f0d45a15766dc02dc84899b07a.jpg',\n",
              " 'drive/MyDrive/Deep Learning Project/dog-breed-identification/train/14b27fd74697cf699143ade2d4f801fc.jpg',\n",
              " 'drive/MyDrive/Deep Learning Project/dog-breed-identification/train/14b6f4f65cf579f4a402b310be78b8ff.jpg',\n",
              " 'drive/MyDrive/Deep Learning Project/dog-breed-identification/train/14babec7fedcfcfe575947797e2e01bd.jpg',\n",
              " 'drive/MyDrive/Deep Learning Project/dog-breed-identification/train/14c00ab356d9261ea220ea91fa20a42d.jpg',\n",
              " 'drive/MyDrive/Deep Learning Project/dog-breed-identification/train/14c8f5fc68ca8fb6b33a0082849b15ad.jpg',\n",
              " 'drive/MyDrive/Deep Learning Project/dog-breed-identification/train/14cbd6c6c6550fa1306c8d4f7cf1a840.jpg',\n",
              " 'drive/MyDrive/Deep Learning Project/dog-breed-identification/train/14cd98829e4e99e950af3cbf94ad1734.jpg',\n",
              " 'drive/MyDrive/Deep Learning Project/dog-breed-identification/train/14cffe576239620f1733dfe487dbaa6f.jpg',\n",
              " 'drive/MyDrive/Deep Learning Project/dog-breed-identification/train/14d2892358ea21837f7a9399c0b00acb.jpg',\n",
              " 'drive/MyDrive/Deep Learning Project/dog-breed-identification/train/14dee67f611c52183fda5fc07db5d5fb.jpg',\n",
              " 'drive/MyDrive/Deep Learning Project/dog-breed-identification/train/14e8bc7e0eaf52be607e0a654922a826.jpg',\n",
              " 'drive/MyDrive/Deep Learning Project/dog-breed-identification/train/14e9a6d002632db71a18283fc024f086.jpg',\n",
              " 'drive/MyDrive/Deep Learning Project/dog-breed-identification/train/14f25ad78f02126a1ceeb44385378cd1.jpg',\n",
              " 'drive/MyDrive/Deep Learning Project/dog-breed-identification/train/14f4938d64e0da5582a4ced35cf33a6b.jpg',\n",
              " 'drive/MyDrive/Deep Learning Project/dog-breed-identification/train/150a95102a32d2f099b02a445442310b.jpg',\n",
              " 'drive/MyDrive/Deep Learning Project/dog-breed-identification/train/15137b6e02d5cd04cabb34aba1fabb9f.jpg',\n",
              " 'drive/MyDrive/Deep Learning Project/dog-breed-identification/train/151474b992b295f69547839e31271dd0.jpg',\n",
              " 'drive/MyDrive/Deep Learning Project/dog-breed-identification/train/15190d69d724d7e94ef64a347b959ccb.jpg',\n",
              " 'drive/MyDrive/Deep Learning Project/dog-breed-identification/train/151f312fa21196af9b53b0e77baa3a06.jpg',\n",
              " 'drive/MyDrive/Deep Learning Project/dog-breed-identification/train/152006ba4c78c907b2fc376a3336ae09.jpg',\n",
              " 'drive/MyDrive/Deep Learning Project/dog-breed-identification/train/152aa0851b6a1349b99044f16eadc59d.jpg',\n",
              " 'drive/MyDrive/Deep Learning Project/dog-breed-identification/train/152c0d164f42991d55d84dc30a1fa81f.jpg',\n",
              " 'drive/MyDrive/Deep Learning Project/dog-breed-identification/train/15305c67da0838b92b90c66526cef5aa.jpg',\n",
              " 'drive/MyDrive/Deep Learning Project/dog-breed-identification/train/1534c4b9f44f10bfb3e6e0ff32d08a9a.jpg',\n",
              " 'drive/MyDrive/Deep Learning Project/dog-breed-identification/train/153697b802875722cb25421a661a4526.jpg',\n",
              " 'drive/MyDrive/Deep Learning Project/dog-breed-identification/train/153bbd70025d2738418176e6ab7fedd0.jpg',\n",
              " 'drive/MyDrive/Deep Learning Project/dog-breed-identification/train/153f05ef64f050530ea746a357855b20.jpg',\n",
              " 'drive/MyDrive/Deep Learning Project/dog-breed-identification/train/153f0c739e9049612a62f111b9519429.jpg',\n",
              " 'drive/MyDrive/Deep Learning Project/dog-breed-identification/train/1548eb783093ac6bdf011d07f3370a36.jpg',\n",
              " 'drive/MyDrive/Deep Learning Project/dog-breed-identification/train/155052199dfac47b3a1ccbea97ce648c.jpg',\n",
              " 'drive/MyDrive/Deep Learning Project/dog-breed-identification/train/1553cf296f4d83f015a07afde78fd747.jpg',\n",
              " 'drive/MyDrive/Deep Learning Project/dog-breed-identification/train/156a5ab6d4cfe64e10f38af83f21a30a.jpg',\n",
              " 'drive/MyDrive/Deep Learning Project/dog-breed-identification/train/156d6d6ef7da47aa22b150268af9a3c4.jpg',\n",
              " 'drive/MyDrive/Deep Learning Project/dog-breed-identification/train/156e74a393c76b215752d692eccd9135.jpg',\n",
              " 'drive/MyDrive/Deep Learning Project/dog-breed-identification/train/1574f04538521f284218dfbf2c8678ee.jpg',\n",
              " 'drive/MyDrive/Deep Learning Project/dog-breed-identification/train/157e9d7fb607da0ff1d324933b9cbddf.jpg',\n",
              " 'drive/MyDrive/Deep Learning Project/dog-breed-identification/train/158274c7a5b030a2e8462a55159bdfc4.jpg',\n",
              " 'drive/MyDrive/Deep Learning Project/dog-breed-identification/train/1586326d52312228c20c3599feb72d7a.jpg',\n",
              " 'drive/MyDrive/Deep Learning Project/dog-breed-identification/train/1596cf0ab964b3ff0587f0d30042ca18.jpg',\n",
              " 'drive/MyDrive/Deep Learning Project/dog-breed-identification/train/159d07f089673cd225f3a47d08ee772f.jpg',\n",
              " 'drive/MyDrive/Deep Learning Project/dog-breed-identification/train/159d8e089f2ce2a38580a02318fd9ecb.jpg',\n",
              " 'drive/MyDrive/Deep Learning Project/dog-breed-identification/train/15a4ad475f9c8b2250df082b8e741d94.jpg',\n",
              " 'drive/MyDrive/Deep Learning Project/dog-breed-identification/train/15ad574a13084df42ef17a5f635fae3c.jpg',\n",
              " 'drive/MyDrive/Deep Learning Project/dog-breed-identification/train/15aee288781e5c11d1f9a6983326ad9c.jpg',\n",
              " 'drive/MyDrive/Deep Learning Project/dog-breed-identification/train/15b5949f52a4838f9fe3d69cfff94fd5.jpg',\n",
              " 'drive/MyDrive/Deep Learning Project/dog-breed-identification/train/15b5cd948f5bcbb7a4f5b1904de4c6d5.jpg',\n",
              " 'drive/MyDrive/Deep Learning Project/dog-breed-identification/train/15d17b41ac5230af8f31417f0a673915.jpg',\n",
              " 'drive/MyDrive/Deep Learning Project/dog-breed-identification/train/15d25fb9d0b922b4943b312509e95c21.jpg',\n",
              " 'drive/MyDrive/Deep Learning Project/dog-breed-identification/train/15d7f26c7d32f81c204936362ead551e.jpg',\n",
              " 'drive/MyDrive/Deep Learning Project/dog-breed-identification/train/15e9e5a6a6f3630335261259940114b4.jpg',\n",
              " 'drive/MyDrive/Deep Learning Project/dog-breed-identification/train/15f8b879f8660fece35ed760345fa9dd.jpg',\n",
              " 'drive/MyDrive/Deep Learning Project/dog-breed-identification/train/160160c8ac562966448486906cb56308.jpg',\n",
              " 'drive/MyDrive/Deep Learning Project/dog-breed-identification/train/16052ac2a6ff7f1fbbc85885d2a7c467.jpg',\n",
              " 'drive/MyDrive/Deep Learning Project/dog-breed-identification/train/1609abf6c6ac2e8df0af837cbe9cee74.jpg',\n",
              " 'drive/MyDrive/Deep Learning Project/dog-breed-identification/train/160f87a50f4c3c80752872faa80e4699.jpg',\n",
              " 'drive/MyDrive/Deep Learning Project/dog-breed-identification/train/160f932c413228553024d4cc9bafc156.jpg',\n",
              " 'drive/MyDrive/Deep Learning Project/dog-breed-identification/train/16265434d841173019be215bea5d8097.jpg',\n",
              " 'drive/MyDrive/Deep Learning Project/dog-breed-identification/train/162a3de12cc110679a921dc49dd38fc8.jpg',\n",
              " 'drive/MyDrive/Deep Learning Project/dog-breed-identification/train/1634d504adfb4efb6b14e891e8996585.jpg',\n",
              " 'drive/MyDrive/Deep Learning Project/dog-breed-identification/train/1639ccef237eec9fc4eb1aa0916201c3.jpg',\n",
              " 'drive/MyDrive/Deep Learning Project/dog-breed-identification/train/164533d27e5827842f28f100196bfe7d.jpg',\n",
              " 'drive/MyDrive/Deep Learning Project/dog-breed-identification/train/164a194e9bf8819523235879eb0c2698.jpg',\n",
              " 'drive/MyDrive/Deep Learning Project/dog-breed-identification/train/164c3b823c400cea20ad0a3426e1eeea.jpg',\n",
              " 'drive/MyDrive/Deep Learning Project/dog-breed-identification/train/165f26ae3d9dfe88e10f7929c031b1c8.jpg',\n",
              " 'drive/MyDrive/Deep Learning Project/dog-breed-identification/train/166d9a55197d0c21068273cca67fe2aa.jpg',\n",
              " 'drive/MyDrive/Deep Learning Project/dog-breed-identification/train/166da5b561393f0dda932f562c39bc6b.jpg',\n",
              " 'drive/MyDrive/Deep Learning Project/dog-breed-identification/train/1674e551b6e45cdc27a3014ffb83f374.jpg',\n",
              " 'drive/MyDrive/Deep Learning Project/dog-breed-identification/train/168e2da635938b82819b8a45bbd3dd0d.jpg',\n",
              " 'drive/MyDrive/Deep Learning Project/dog-breed-identification/train/1690522901e3d41a84c3dc91b1520902.jpg',\n",
              " 'drive/MyDrive/Deep Learning Project/dog-breed-identification/train/1690937cfb23f8dbdcc594bf62650a92.jpg',\n",
              " 'drive/MyDrive/Deep Learning Project/dog-breed-identification/train/16941a6728ddb9cb7423a6cc97fbe071.jpg',\n",
              " 'drive/MyDrive/Deep Learning Project/dog-breed-identification/train/1699a179453b177a5e895c5b5ecb3624.jpg',\n",
              " 'drive/MyDrive/Deep Learning Project/dog-breed-identification/train/169db2d825a1bdeb5a576ab746812936.jpg',\n",
              " 'drive/MyDrive/Deep Learning Project/dog-breed-identification/train/16a2425b83d397180e11ec5cb2c4b44f.jpg',\n",
              " 'drive/MyDrive/Deep Learning Project/dog-breed-identification/train/16a6a63387fa1f0b4a0dcf6bb05f6204.jpg',\n",
              " 'drive/MyDrive/Deep Learning Project/dog-breed-identification/train/16a760e466fd2b2fe0ef8879b5b2245d.jpg',\n",
              " 'drive/MyDrive/Deep Learning Project/dog-breed-identification/train/16aaa590e39530bc1cb319fc7d89c00e.jpg',\n",
              " 'drive/MyDrive/Deep Learning Project/dog-breed-identification/train/16ac25747d1a51db033d6461156ddb0b.jpg',\n",
              " 'drive/MyDrive/Deep Learning Project/dog-breed-identification/train/16acaa39e4fe4edbc2becbeb85e8ccbe.jpg',\n",
              " 'drive/MyDrive/Deep Learning Project/dog-breed-identification/train/16b17dfce7906f0e7a599a538c7ac106.jpg',\n",
              " 'drive/MyDrive/Deep Learning Project/dog-breed-identification/train/16ca736a6ff68bc4d2d1586e8eec9b28.jpg',\n",
              " 'drive/MyDrive/Deep Learning Project/dog-breed-identification/train/16cc38641158115b57a4610e40e5f6a9.jpg',\n",
              " 'drive/MyDrive/Deep Learning Project/dog-breed-identification/train/16d21426a864e73050afda40bf1fddc6.jpg',\n",
              " 'drive/MyDrive/Deep Learning Project/dog-breed-identification/train/16d2d5edf52892450e38aa4f766c2eea.jpg',\n",
              " 'drive/MyDrive/Deep Learning Project/dog-breed-identification/train/16d9e14772868ce890909983e53af8d7.jpg',\n",
              " 'drive/MyDrive/Deep Learning Project/dog-breed-identification/train/16da5fc3f2c4273902da11aafc13456e.jpg',\n",
              " 'drive/MyDrive/Deep Learning Project/dog-breed-identification/train/16df5020c2b6ac3f70fb3a5c27c5175e.jpg',\n",
              " 'drive/MyDrive/Deep Learning Project/dog-breed-identification/train/16e2c529e31eb3d2a276eb5bda2b009f.jpg',\n",
              " 'drive/MyDrive/Deep Learning Project/dog-breed-identification/train/16e68faf318a580514ec2ae7fe295ec5.jpg',\n",
              " 'drive/MyDrive/Deep Learning Project/dog-breed-identification/train/16ed388064b485a047d02a147e0a5cff.jpg',\n",
              " 'drive/MyDrive/Deep Learning Project/dog-breed-identification/train/16f37498dbfe77fae6d442465e7356eb.jpg',\n",
              " 'drive/MyDrive/Deep Learning Project/dog-breed-identification/train/16fd2ee2057012b1d3db46e219a4d022.jpg',\n",
              " 'drive/MyDrive/Deep Learning Project/dog-breed-identification/train/16fdb4a145a7f5695a264ba980e23bc3.jpg',\n",
              " 'drive/MyDrive/Deep Learning Project/dog-breed-identification/train/1703c4224aace739763ae9f4e4ad7e76.jpg',\n",
              " 'drive/MyDrive/Deep Learning Project/dog-breed-identification/train/170b803738598c2466457271f98f647c.jpg',\n",
              " 'drive/MyDrive/Deep Learning Project/dog-breed-identification/train/170dba137a3990b225bdf19074b97023.jpg',\n",
              " 'drive/MyDrive/Deep Learning Project/dog-breed-identification/train/1710f33e5a5a32fd20547e8f133fa8d9.jpg',\n",
              " 'drive/MyDrive/Deep Learning Project/dog-breed-identification/train/1716fe350f1339e19906eb2889960c9e.jpg',\n",
              " 'drive/MyDrive/Deep Learning Project/dog-breed-identification/train/17193d29b9833d783133f4b13f12f513.jpg',\n",
              " 'drive/MyDrive/Deep Learning Project/dog-breed-identification/train/172137d59604f06ceaa15e7c6434c592.jpg',\n",
              " 'drive/MyDrive/Deep Learning Project/dog-breed-identification/train/172bb084b4d25fcfe247da525a493e57.jpg',\n",
              " 'drive/MyDrive/Deep Learning Project/dog-breed-identification/train/172fcb0b8bbd67401c9e53e5f9bf39bc.jpg',\n",
              " 'drive/MyDrive/Deep Learning Project/dog-breed-identification/train/17324f3d13ca421725028de23d631e03.jpg',\n",
              " 'drive/MyDrive/Deep Learning Project/dog-breed-identification/train/1732acba109e3b1cf23efca0381c9a32.jpg',\n",
              " 'drive/MyDrive/Deep Learning Project/dog-breed-identification/train/173493daaae8804e5a837ddfe2e21c50.jpg',\n",
              " 'drive/MyDrive/Deep Learning Project/dog-breed-identification/train/173b54d60d2d75be13416af93098445c.jpg',\n",
              " 'drive/MyDrive/Deep Learning Project/dog-breed-identification/train/173d5eb6a645eee683442be8101d398e.jpg',\n",
              " 'drive/MyDrive/Deep Learning Project/dog-breed-identification/train/174878bb8d33d52381bb3eb36dd1974a.jpg',\n",
              " 'drive/MyDrive/Deep Learning Project/dog-breed-identification/train/174c68c77ca368337e9fc35112d7b842.jpg',\n",
              " 'drive/MyDrive/Deep Learning Project/dog-breed-identification/train/1758bbaf1dba23fd418911be2a2becc2.jpg',\n",
              " 'drive/MyDrive/Deep Learning Project/dog-breed-identification/train/176e2a6cde976022e90b2b42a81297fb.jpg',\n",
              " 'drive/MyDrive/Deep Learning Project/dog-breed-identification/train/1771e3fccad9cbb33077d779fbe22e4f.jpg',\n",
              " 'drive/MyDrive/Deep Learning Project/dog-breed-identification/train/17738f5f90c73ed152991b28ea4d77ed.jpg',\n",
              " 'drive/MyDrive/Deep Learning Project/dog-breed-identification/train/179bdadf902bf8447e9eebbe63553d24.jpg',\n",
              " 'drive/MyDrive/Deep Learning Project/dog-breed-identification/train/17a2b04e47d6873a13d999bd605d0427.jpg',\n",
              " 'drive/MyDrive/Deep Learning Project/dog-breed-identification/train/17a64c7a240d8c3b208eb371297189a6.jpg',\n",
              " 'drive/MyDrive/Deep Learning Project/dog-breed-identification/train/17a79093473687e2cb3d0cc29c24f3e8.jpg',\n",
              " 'drive/MyDrive/Deep Learning Project/dog-breed-identification/train/17b6be0ff31a2b1e417f6a03cd3ba32e.jpg',\n",
              " 'drive/MyDrive/Deep Learning Project/dog-breed-identification/train/17c25d583276276876ecf58c011aff88.jpg',\n",
              " 'drive/MyDrive/Deep Learning Project/dog-breed-identification/train/17c3f951feca0716c023ea462428dc14.jpg',\n",
              " 'drive/MyDrive/Deep Learning Project/dog-breed-identification/train/17c5e8815cf0d086090a07b003b9b036.jpg',\n",
              " 'drive/MyDrive/Deep Learning Project/dog-breed-identification/train/17d2ef6638b31a9be935774b2b873499.jpg',\n",
              " 'drive/MyDrive/Deep Learning Project/dog-breed-identification/train/17e00d79ad69729522d8705e95939f01.jpg',\n",
              " 'drive/MyDrive/Deep Learning Project/dog-breed-identification/train/17e3b8acf23f7943b04dc680fc1bda0d.jpg',\n",
              " 'drive/MyDrive/Deep Learning Project/dog-breed-identification/train/17e74cb24060ad496aed8ca01f611ba9.jpg',\n",
              " 'drive/MyDrive/Deep Learning Project/dog-breed-identification/train/17f15b80ab3238f1fbe5961286db0eba.jpg',\n",
              " 'drive/MyDrive/Deep Learning Project/dog-breed-identification/train/17f5ba5fee5bbebe781009cf8d3e1809.jpg',\n",
              " 'drive/MyDrive/Deep Learning Project/dog-breed-identification/train/17f69b6a170c33a8786d566f6dc9b8d5.jpg',\n",
              " 'drive/MyDrive/Deep Learning Project/dog-breed-identification/train/1804c9f9d48a34ab283e3a39006936f2.jpg',\n",
              " 'drive/MyDrive/Deep Learning Project/dog-breed-identification/train/18178aae17060733ebce2cff03413a8c.jpg',\n",
              " 'drive/MyDrive/Deep Learning Project/dog-breed-identification/train/18195ce24678ab4e2a3c779d7d5e4fac.jpg',\n",
              " 'drive/MyDrive/Deep Learning Project/dog-breed-identification/train/181e91cb6caf6739478d06231faa053d.jpg',\n",
              " 'drive/MyDrive/Deep Learning Project/dog-breed-identification/train/181fadf5f2222c0791c7a02fad19bab1.jpg',\n",
              " 'drive/MyDrive/Deep Learning Project/dog-breed-identification/train/182c436dd1fbec1c5f4979077ce74659.jpg',\n",
              " 'drive/MyDrive/Deep Learning Project/dog-breed-identification/train/182c9134e07c883dfdc2acfb21184810.jpg',\n",
              " 'drive/MyDrive/Deep Learning Project/dog-breed-identification/train/182e24a6ba14bfc0f109687b22589f57.jpg',\n",
              " 'drive/MyDrive/Deep Learning Project/dog-breed-identification/train/1831f3ce615ffe27a78c5baa362ac677.jpg',\n",
              " 'drive/MyDrive/Deep Learning Project/dog-breed-identification/train/183cf5cc037ccb5079634b7bfaae0a24.jpg',\n",
              " 'drive/MyDrive/Deep Learning Project/dog-breed-identification/train/184710573b8878de902c42b7929ceeb9.jpg',\n",
              " 'drive/MyDrive/Deep Learning Project/dog-breed-identification/train/1852241f20c06eb5d999cd43cc92bbeb.jpg',\n",
              " 'drive/MyDrive/Deep Learning Project/dog-breed-identification/train/1853938d8adf8942d927f5fae8b9ec0c.jpg',\n",
              " 'drive/MyDrive/Deep Learning Project/dog-breed-identification/train/185617e5924c55cede9ecdb7a41c4707.jpg',\n",
              " 'drive/MyDrive/Deep Learning Project/dog-breed-identification/train/1857ac9d2306fc646d4bb817aaa20424.jpg',\n",
              " 'drive/MyDrive/Deep Learning Project/dog-breed-identification/train/185dd9ac0589562442f553cf686783d4.jpg',\n",
              " 'drive/MyDrive/Deep Learning Project/dog-breed-identification/train/1866bec18870abddd279fa4b1f0e126b.jpg',\n",
              " 'drive/MyDrive/Deep Learning Project/dog-breed-identification/train/187a741ca8f22a04de67b60beb12987c.jpg',\n",
              " 'drive/MyDrive/Deep Learning Project/dog-breed-identification/train/187b3a867bb68860208c37aaf43d2115.jpg',\n",
              " 'drive/MyDrive/Deep Learning Project/dog-breed-identification/train/187eaac78834950c66b5737394cc0f13.jpg',\n",
              " 'drive/MyDrive/Deep Learning Project/dog-breed-identification/train/1880c57a7ac87a232158207581c989df.jpg',\n",
              " 'drive/MyDrive/Deep Learning Project/dog-breed-identification/train/189cc11eaaa9152fffb49e4fa5b14ebd.jpg',\n",
              " 'drive/MyDrive/Deep Learning Project/dog-breed-identification/train/18a44f4dc15b555f67e0e9f1b7aa0613.jpg',\n",
              " 'drive/MyDrive/Deep Learning Project/dog-breed-identification/train/18aa1cff5dc0615c75dec0fcc135be3c.jpg',\n",
              " ...]"
            ]
          },
          "metadata": {},
          "execution_count": 8
        }
      ]
    },
    {
      "cell_type": "markdown",
      "source": [
        "Since we've now got our training image filepaths in a list, let's prepare our labels."
      ],
      "metadata": {
        "id": "i9MRiIY23RhG"
      }
    },
    {
      "cell_type": "code",
      "source": [
        "import numpy as np\n",
        "labels = labels_csv[\"breed\"].to_numpy()\n",
        "# labels = np.array(labels) # does same thing as above\n",
        "labels"
      ],
      "metadata": {
        "id": "PbQYoah0en_H",
        "colab": {
          "base_uri": "https://localhost:8080/"
        },
        "outputId": "1ed8ac4b-e299-4c95-912b-dbb5b50f593d"
      },
      "execution_count": 9,
      "outputs": [
        {
          "output_type": "execute_result",
          "data": {
            "text/plain": [
              "array(['boston_bull', 'dingo', 'pekinese', ..., 'airedale',\n",
              "       'miniature_pinscher', 'chesapeake_bay_retriever'], dtype=object)"
            ]
          },
          "metadata": {},
          "execution_count": 9
        }
      ]
    },
    {
      "cell_type": "code",
      "source": [
        "len(labels)"
      ],
      "metadata": {
        "id": "HrdELA6L3waT",
        "colab": {
          "base_uri": "https://localhost:8080/"
        },
        "outputId": "a61f3f1f-e2e1-402d-9fe8-afbbb541e427"
      },
      "execution_count": 10,
      "outputs": [
        {
          "output_type": "execute_result",
          "data": {
            "text/plain": [
              "10222"
            ]
          },
          "metadata": {},
          "execution_count": 10
        }
      ]
    },
    {
      "cell_type": "code",
      "source": [
        "# FInd the unique label values\n",
        "unique_breeds = np.unique(labels)\n",
        "unique_breeds"
      ],
      "metadata": {
        "id": "06tne9mb31tq",
        "colab": {
          "base_uri": "https://localhost:8080/"
        },
        "outputId": "7f24b97a-5f4a-4658-c1ee-028dca4daf71"
      },
      "execution_count": 11,
      "outputs": [
        {
          "output_type": "execute_result",
          "data": {
            "text/plain": [
              "array(['affenpinscher', 'afghan_hound', 'african_hunting_dog', 'airedale',\n",
              "       'american_staffordshire_terrier', 'appenzeller',\n",
              "       'australian_terrier', 'basenji', 'basset', 'beagle',\n",
              "       'bedlington_terrier', 'bernese_mountain_dog',\n",
              "       'black-and-tan_coonhound', 'blenheim_spaniel', 'bloodhound',\n",
              "       'bluetick', 'border_collie', 'border_terrier', 'borzoi',\n",
              "       'boston_bull', 'bouvier_des_flandres', 'boxer',\n",
              "       'brabancon_griffon', 'briard', 'brittany_spaniel', 'bull_mastiff',\n",
              "       'cairn', 'cardigan', 'chesapeake_bay_retriever', 'chihuahua',\n",
              "       'chow', 'clumber', 'cocker_spaniel', 'collie',\n",
              "       'curly-coated_retriever', 'dandie_dinmont', 'dhole', 'dingo',\n",
              "       'doberman', 'english_foxhound', 'english_setter',\n",
              "       'english_springer', 'entlebucher', 'eskimo_dog',\n",
              "       'flat-coated_retriever', 'french_bulldog', 'german_shepherd',\n",
              "       'german_short-haired_pointer', 'giant_schnauzer',\n",
              "       'golden_retriever', 'gordon_setter', 'great_dane',\n",
              "       'great_pyrenees', 'greater_swiss_mountain_dog', 'groenendael',\n",
              "       'ibizan_hound', 'irish_setter', 'irish_terrier',\n",
              "       'irish_water_spaniel', 'irish_wolfhound', 'italian_greyhound',\n",
              "       'japanese_spaniel', 'keeshond', 'kelpie', 'kerry_blue_terrier',\n",
              "       'komondor', 'kuvasz', 'labrador_retriever', 'lakeland_terrier',\n",
              "       'leonberg', 'lhasa', 'malamute', 'malinois', 'maltese_dog',\n",
              "       'mexican_hairless', 'miniature_pinscher', 'miniature_poodle',\n",
              "       'miniature_schnauzer', 'newfoundland', 'norfolk_terrier',\n",
              "       'norwegian_elkhound', 'norwich_terrier', 'old_english_sheepdog',\n",
              "       'otterhound', 'papillon', 'pekinese', 'pembroke', 'pomeranian',\n",
              "       'pug', 'redbone', 'rhodesian_ridgeback', 'rottweiler',\n",
              "       'saint_bernard', 'saluki', 'samoyed', 'schipperke',\n",
              "       'scotch_terrier', 'scottish_deerhound', 'sealyham_terrier',\n",
              "       'shetland_sheepdog', 'shih-tzu', 'siberian_husky', 'silky_terrier',\n",
              "       'soft-coated_wheaten_terrier', 'staffordshire_bullterrier',\n",
              "       'standard_poodle', 'standard_schnauzer', 'sussex_spaniel',\n",
              "       'tibetan_mastiff', 'tibetan_terrier', 'toy_poodle', 'toy_terrier',\n",
              "       'vizsla', 'walker_hound', 'weimaraner', 'welsh_springer_spaniel',\n",
              "       'west_highland_white_terrier', 'whippet',\n",
              "       'wire-haired_fox_terrier', 'yorkshire_terrier'], dtype=object)"
            ]
          },
          "metadata": {},
          "execution_count": 11
        }
      ]
    },
    {
      "cell_type": "code",
      "source": [
        "# Turn a single label into an array of booleans\n",
        "print(labels[0])\n",
        "labels[0] == unique_breeds"
      ],
      "metadata": {
        "id": "RLLL3p976sQY",
        "colab": {
          "base_uri": "https://localhost:8080/"
        },
        "outputId": "1f92e88b-5eae-4a29-a9fc-4e49f84b2341"
      },
      "execution_count": 12,
      "outputs": [
        {
          "output_type": "stream",
          "name": "stdout",
          "text": [
            "boston_bull\n"
          ]
        },
        {
          "output_type": "execute_result",
          "data": {
            "text/plain": [
              "array([False, False, False, False, False, False, False, False, False,\n",
              "       False, False, False, False, False, False, False, False, False,\n",
              "       False,  True, False, False, False, False, False, False, False,\n",
              "       False, False, False, False, False, False, False, False, False,\n",
              "       False, False, False, False, False, False, False, False, False,\n",
              "       False, False, False, False, False, False, False, False, False,\n",
              "       False, False, False, False, False, False, False, False, False,\n",
              "       False, False, False, False, False, False, False, False, False,\n",
              "       False, False, False, False, False, False, False, False, False,\n",
              "       False, False, False, False, False, False, False, False, False,\n",
              "       False, False, False, False, False, False, False, False, False,\n",
              "       False, False, False, False, False, False, False, False, False,\n",
              "       False, False, False, False, False, False, False, False, False,\n",
              "       False, False, False])"
            ]
          },
          "metadata": {},
          "execution_count": 12
        }
      ]
    },
    {
      "cell_type": "code",
      "source": [
        "# Turn every label into a boolean array\n",
        "boolean_labels = [label == unique_breeds for label in labels]\n",
        "boolean_labels[:2]"
      ],
      "metadata": {
        "id": "PmaGsQuv7DRf",
        "colab": {
          "base_uri": "https://localhost:8080/"
        },
        "outputId": "2c52f754-e2b6-445e-a3ec-7df7ad919533"
      },
      "execution_count": 13,
      "outputs": [
        {
          "output_type": "execute_result",
          "data": {
            "text/plain": [
              "[array([False, False, False, False, False, False, False, False, False,\n",
              "        False, False, False, False, False, False, False, False, False,\n",
              "        False,  True, False, False, False, False, False, False, False,\n",
              "        False, False, False, False, False, False, False, False, False,\n",
              "        False, False, False, False, False, False, False, False, False,\n",
              "        False, False, False, False, False, False, False, False, False,\n",
              "        False, False, False, False, False, False, False, False, False,\n",
              "        False, False, False, False, False, False, False, False, False,\n",
              "        False, False, False, False, False, False, False, False, False,\n",
              "        False, False, False, False, False, False, False, False, False,\n",
              "        False, False, False, False, False, False, False, False, False,\n",
              "        False, False, False, False, False, False, False, False, False,\n",
              "        False, False, False, False, False, False, False, False, False,\n",
              "        False, False, False]),\n",
              " array([False, False, False, False, False, False, False, False, False,\n",
              "        False, False, False, False, False, False, False, False, False,\n",
              "        False, False, False, False, False, False, False, False, False,\n",
              "        False, False, False, False, False, False, False, False, False,\n",
              "        False,  True, False, False, False, False, False, False, False,\n",
              "        False, False, False, False, False, False, False, False, False,\n",
              "        False, False, False, False, False, False, False, False, False,\n",
              "        False, False, False, False, False, False, False, False, False,\n",
              "        False, False, False, False, False, False, False, False, False,\n",
              "        False, False, False, False, False, False, False, False, False,\n",
              "        False, False, False, False, False, False, False, False, False,\n",
              "        False, False, False, False, False, False, False, False, False,\n",
              "        False, False, False, False, False, False, False, False, False,\n",
              "        False, False, False])]"
            ]
          },
          "metadata": {},
          "execution_count": 13
        }
      ]
    },
    {
      "cell_type": "markdown",
      "source": [
        "### Creating our own validation set\n",
        "\n",
        "Since the dataset from Kaggle doesn't come with a validation set, we're going to create our own."
      ],
      "metadata": {
        "id": "yVBaHX0M-0K2"
      }
    },
    {
      "cell_type": "code",
      "source": [
        "# Setup X & y variables\n",
        "\n",
        "X = filenames\n",
        "y = boolean_labels\n",
        "len(X), len(y)"
      ],
      "metadata": {
        "id": "YSpHFR3s7Yva",
        "colab": {
          "base_uri": "https://localhost:8080/"
        },
        "outputId": "5a7d94cb-4ce1-420b-f709-802286d885ef"
      },
      "execution_count": 14,
      "outputs": [
        {
          "output_type": "execute_result",
          "data": {
            "text/plain": [
              "(10222, 10222)"
            ]
          },
          "metadata": {},
          "execution_count": 14
        }
      ]
    },
    {
      "cell_type": "markdown",
      "source": [
        "We're going to start off experimenting with ~1000 images and increase as needed"
      ],
      "metadata": {
        "id": "H63RXImbBdZR"
      }
    },
    {
      "cell_type": "code",
      "source": [
        "# Set number of images to use for experimenting\n",
        "NUM_IMAGES = 1000 #@param {type:\"slider\", min:1000, max:10000, step:1000  }"
      ],
      "metadata": {
        "id": "RlK8kPdTBlrt"
      },
      "execution_count": 15,
      "outputs": []
    },
    {
      "cell_type": "code",
      "source": [
        "# Let's split our data into train and validation sets\n",
        "from sklearn.model_selection import train_test_split\n",
        "\n",
        "# Split them into training and validation of total sizee NUM_IMAGES\n",
        "X_train, X_val, y_train, y_val = train_test_split(X[:NUM_IMAGES], y[:NUM_IMAGES], test_size=0.2, random_state=42)\n",
        "\n",
        "len(X_train), len(y_train), len(X_val), len(y_val)"
      ],
      "metadata": {
        "id": "D0mbly3xB97u",
        "colab": {
          "base_uri": "https://localhost:8080/"
        },
        "outputId": "eda79f1a-7d78-46ea-9427-27a79e782b8f"
      },
      "execution_count": 16,
      "outputs": [
        {
          "output_type": "execute_result",
          "data": {
            "text/plain": [
              "(800, 800, 200, 200)"
            ]
          },
          "metadata": {},
          "execution_count": 16
        }
      ]
    },
    {
      "cell_type": "markdown",
      "source": [
        "## Preprocessing Images (turning images into Tensors)\n",
        "\n",
        "To preprocess our images into Tensors we're going to write a function which does a few things:\n",
        "1. Take an images filepath as input\n",
        "2. Use TensorFlow to read the file and save it to a variable, `image`\n",
        "3. Turn ou `image` (a jpg) into Tensors\n",
        "4. Normalize our image (convert color channel values from 0-255 to 0-1).\n",
        "5. Resize the `image` to be a shape of (224, 224)\n",
        "6. Return the modified image.\n",
        "\n",
        "## Before we do, let's see waht importing an image looks like."
      ],
      "metadata": {
        "id": "9oCbbxQQf22S"
      }
    },
    {
      "cell_type": "code",
      "source": [
        "# Cover the image to NumPy array\n",
        "from matplotlib.pyplot import imread\n",
        "image = imread(filenames[42])\n",
        "image.shape"
      ],
      "metadata": {
        "id": "IjzMLRLTELel",
        "colab": {
          "base_uri": "https://localhost:8080/"
        },
        "outputId": "c0e0e024-0c85-45af-e0e8-7fc077946d28"
      },
      "execution_count": 17,
      "outputs": [
        {
          "output_type": "execute_result",
          "data": {
            "text/plain": [
              "(257, 350, 3)"
            ]
          },
          "metadata": {},
          "execution_count": 17
        }
      ]
    },
    {
      "cell_type": "code",
      "source": [
        "image[:2]"
      ],
      "metadata": {
        "colab": {
          "base_uri": "https://localhost:8080/"
        },
        "id": "_SCLhJT1phWb",
        "outputId": "2ba911a0-0bd8-40df-fcd3-d74f0785fd4c"
      },
      "execution_count": 18,
      "outputs": [
        {
          "output_type": "execute_result",
          "data": {
            "text/plain": [
              "array([[[ 89, 137,  87],\n",
              "        [ 76, 124,  74],\n",
              "        [ 63, 111,  59],\n",
              "        ...,\n",
              "        [ 76, 134,  86],\n",
              "        [ 76, 134,  86],\n",
              "        [ 76, 134,  86]],\n",
              "\n",
              "       [[ 72, 119,  73],\n",
              "        [ 67, 114,  68],\n",
              "        [ 63, 111,  63],\n",
              "        ...,\n",
              "        [ 75, 131,  84],\n",
              "        [ 74, 132,  84],\n",
              "        [ 74, 131,  86]]], dtype=uint8)"
            ]
          },
          "metadata": {},
          "execution_count": 18
        }
      ]
    },
    {
      "cell_type": "code",
      "source": [
        "tf.constant(image)[:2]"
      ],
      "metadata": {
        "colab": {
          "base_uri": "https://localhost:8080/"
        },
        "id": "7Vz6wXiKp_Ca",
        "outputId": "64b82988-c86f-422d-d6f7-247a77bb0c79"
      },
      "execution_count": 19,
      "outputs": [
        {
          "output_type": "execute_result",
          "data": {
            "text/plain": [
              "<tf.Tensor: shape=(2, 350, 3), dtype=uint8, numpy=\n",
              "array([[[ 89, 137,  87],\n",
              "        [ 76, 124,  74],\n",
              "        [ 63, 111,  59],\n",
              "        ...,\n",
              "        [ 76, 134,  86],\n",
              "        [ 76, 134,  86],\n",
              "        [ 76, 134,  86]],\n",
              "\n",
              "       [[ 72, 119,  73],\n",
              "        [ 67, 114,  68],\n",
              "        [ 63, 111,  63],\n",
              "        ...,\n",
              "        [ 75, 131,  84],\n",
              "        [ 74, 132,  84],\n",
              "        [ 74, 131,  86]]], dtype=uint8)>"
            ]
          },
          "metadata": {},
          "execution_count": 19
        }
      ]
    },
    {
      "cell_type": "code",
      "source": [
        "# Define image size\n",
        "IMG_SIZE = 224\n",
        "\n",
        "# Create a function for preprocessing images\n",
        "def process_image(image_path):\n",
        "  \"\"\"\n",
        "  Takes an image file path and turns the image into a Tensor.\n",
        "  \"\"\"\n",
        "  # Read in an image file\n",
        "  image = tf.io.read_file(image_path)\n",
        "  # Turn the jpeg image into numerical Tensor with 3 color channels (Red, Green, Blue)\n",
        "  image = tf.image.decode_jpeg(image, channels=3)\n",
        "  # Convert the color channel values from 0-255 to 0-1 values (Normalization)\n",
        "  image = tf.image.convert_image_dtype(image, tf.float32)\n",
        "  # Resize the image to our desired value (224, 224)\n",
        "  image = tf.image.resize(image, size=[IMG_SIZE, IMG_SIZE])  \n",
        "  return image"
      ],
      "metadata": {
        "id": "VGzKNbXCqEcA"
      },
      "execution_count": 20,
      "outputs": []
    },
    {
      "cell_type": "code",
      "source": [
        "tensor = tf.io.read_file(filenames[26])\n",
        "tensor"
      ],
      "metadata": {
        "id": "g_weD82MrQSE",
        "colab": {
          "base_uri": "https://localhost:8080/"
        },
        "outputId": "c8e616b2-e50a-45e4-feee-1732dcda9aac"
      },
      "execution_count": 21,
      "outputs": [
        {
          "output_type": "execute_result",
          "data": {
            "text/plain": [
              "<tf.Tensor: shape=(), dtype=string, numpy=b'\\xff\\xd8\\xff\\xe0\\x00\\x10JFIF\\x00\\x01\\x01\\x00\\x00\\x01\\x00\\x01\\x00\\x00\\xff\\xdb\\x00C\\x00\\n\\x07\\x07\\x08\\x07\\x06\\n\\x08\\x08\\x08\\x0b\\n\\n\\x0b\\x0e\\x18\\x10\\x0e\\r\\r\\x0e\\x1d\\x15\\x16\\x11\\x18#\\x1f%$\"\\x1f\"!&+7/&)4)!\"0A149;>>>%.DIC<H7=>;\\xff\\xdb\\x00C\\x01\\n\\x0b\\x0b\\x0e\\r\\x0e\\x1c\\x10\\x10\\x1c;(\"(;;;;;;;;;;;;;;;;;;;;;;;;;;;;;;;;;;;;;;;;;;;;;;;;;;\\xff\\xc0\\x00\\x11\\x08\\x01\\xf4\\x01w\\x03\\x01\"\\x00\\x02\\x11\\x01\\x03\\x11\\x01\\xff\\xc4\\x00\\x1f\\x00\\x00\\x01\\x05\\x01\\x01\\x01\\x01\\x01\\x01\\x00\\x00\\x00\\x00\\x00\\x00\\x00\\x00\\x01\\x02\\x03\\x04\\x05\\x06\\x07\\x08\\t\\n\\x0b\\xff\\xc4\\x00\\xb5\\x10\\x00\\x02\\x01\\x03\\x03\\x02\\x04\\x03\\x05\\x05\\x04\\x04\\x00\\x00\\x01}\\x01\\x02\\x03\\x00\\x04\\x11\\x05\\x12!1A\\x06\\x13Qa\\x07\"q\\x142\\x81\\x91\\xa1\\x08#B\\xb1\\xc1\\x15R\\xd1\\xf0$3br\\x82\\t\\n\\x16\\x17\\x18\\x19\\x1a%&\\'()*456789:CDEFGHIJSTUVWXYZcdefghijstuvwxyz\\x83\\x84\\x85\\x86\\x87\\x88\\x89\\x8a\\x92\\x93\\x94\\x95\\x96\\x97\\x98\\x99\\x9a\\xa2\\xa3\\xa4\\xa5\\xa6\\xa7\\xa8\\xa9\\xaa\\xb2\\xb3\\xb4\\xb5\\xb6\\xb7\\xb8\\xb9\\xba\\xc2\\xc3\\xc4\\xc5\\xc6\\xc7\\xc8\\xc9\\xca\\xd2\\xd3\\xd4\\xd5\\xd6\\xd7\\xd8\\xd9\\xda\\xe1\\xe2\\xe3\\xe4\\xe5\\xe6\\xe7\\xe8\\xe9\\xea\\xf1\\xf2\\xf3\\xf4\\xf5\\xf6\\xf7\\xf8\\xf9\\xfa\\xff\\xc4\\x00\\x1f\\x01\\x00\\x03\\x01\\x01\\x01\\x01\\x01\\x01\\x01\\x01\\x01\\x00\\x00\\x00\\x00\\x00\\x00\\x01\\x02\\x03\\x04\\x05\\x06\\x07\\x08\\t\\n\\x0b\\xff\\xc4\\x00\\xb5\\x11\\x00\\x02\\x01\\x02\\x04\\x04\\x03\\x04\\x07\\x05\\x04\\x04\\x00\\x01\\x02w\\x00\\x01\\x02\\x03\\x11\\x04\\x05!1\\x06\\x12AQ\\x07aq\\x13\"2\\x81\\x08\\x14B\\x91\\xa1\\xb1\\xc1\\t#3R\\xf0\\x15br\\xd1\\n\\x16$4\\xe1%\\xf1\\x17\\x18\\x19\\x1a&\\'()*56789:CDEFGHIJSTUVWXYZcdefghijstuvwxyz\\x82\\x83\\x84\\x85\\x86\\x87\\x88\\x89\\x8a\\x92\\x93\\x94\\x95\\x96\\x97\\x98\\x99\\x9a\\xa2\\xa3\\xa4\\xa5\\xa6\\xa7\\xa8\\xa9\\xaa\\xb2\\xb3\\xb4\\xb5\\xb6\\xb7\\xb8\\xb9\\xba\\xc2\\xc3\\xc4\\xc5\\xc6\\xc7\\xc8\\xc9\\xca\\xd2\\xd3\\xd4\\xd5\\xd6\\xd7\\xd8\\xd9\\xda\\xe2\\xe3\\xe4\\xe5\\xe6\\xe7\\xe8\\xe9\\xea\\xf2\\xf3\\xf4\\xf5\\xf6\\xf7\\xf8\\xf9\\xfa\\xff\\xda\\x00\\x0c\\x03\\x01\\x00\\x02\\x11\\x03\\x11\\x00?\\x00\\xe6Tp\\x00\\x1c\\x0fN\\xf4\\xfc\\x00\\xb8\\xc6}\\xfa\\xf3H9\\xed\\xd3\\xb1\\xa7\\x02\\x061\\xff\\x00\\xea\\xa5r\\x05\\x18\\x18\\xf6\\xa7(\\xc0\\xeb\\xfaR\\x0c\\x03\\xd4~\\x06\\x9e\\x06@#\\xa5\\x04\\x8a:\\x01\\x80>\\xb4\\xbd\\xb1\\xf9q\\x9a\\x17\\x8f\\xfe\\xb1\\xa5\\xcf\\xa1\\xfa\\xd2\\x01z\\xfag\\xf9PW=F(\\x07\\xd3\\x8e\\xc2\\x9f\\xc19\\xa6\"<g\\xb0\\xfaP{\\xff\\x00\\x85)\\x01O\\xf54\\xb8\\xee9\\xf7\\xf5\\xa0\\x04\\xe3\\xb8\\xe7\\xd2\\x8cg\\xad8r9\\xa3\\xb6G\\xf8\\xd0\\x02c\\xbf\\xf9\\x14\\x98\\xc7\\xe1\\xebO8\\xc5\\'\\xbd\\x00\\'|s\\xc0\\xa5\\xc6:\\xd2\\x8ct\\xfeTv\\xed\\xef@\\xb6\\x13\\x00\\xf6\\xfch\\x03\\x8c\\xfa\\x8aPr3\\x9a:\\x13\\xcd\\x01\\xe6\\x18\\xf6\\xe2\\x8c\\x0f\\xa5/\\x1f\\x95\\x1dO\\x7f\\xc2\\x80\\x13\\x19\\xe7\\xf9\\xd1\\x8e\\x9cR\\xfa\\x81@\\x03\\xf2\\xfch\\x011\\xe9F=\\xbf\\n^\\x87\\xfc(\\xeb\\xf8\\xd0\\x02\\x01\\xdc\\x0c\\xd1\\x81\\xe9\\xfaS\\xbb\\x7f\\x8d\\x18\\xc7\\'9\\xcd\\x00 \\x04R`t\\x1f\\xca\\x9c9\\xa3\\xf1\\x19\\xf5\\xa0\\x06\\xe3\"\\x8c{S\\xb1\\xde\\x93\\xbf\\xf2\\xa4\\x00Gs\\xc7\\x1cRm\\xcei@\\xf6\\xfdh=\\t\\xcf\\xe5L\\x04\\xc6\\x061\\xda\\x93\\xb9\\xc8\\xf6\\xa7w#\\xbd!\\xc6zP\\x03@\\x18\\x1cc\\xebI\\x81\\xe9\\xf9\\xd3\\xfb\\x81\\x9f\\xc6\\x90\\x81\\xc69?ZA\\xb8\\xdcw\\xfc\\x85#.F\\x084\\xfc\\xf3\\xf5\\xf7\\xa4\\xfd(\\x19R\\xf2\\xd9nm\\x9e22q\\xc1\\xfaQ\\xa1\\xdd\\x17\\xb66\\xf2\\x0cI\\x06T\\xe7\\xd3\\xb1\\x15e\\xb0\\x0er\\x06z\\xe4\\xd6}\\xd5\\xbb\\xc18\\xba\\xb7\\xe1\\xbf\\x88\\x0e\\x8c(\\x19\\xb9pv\\xe1\\xf8*G\\x1cT\\x9cJ\\xaa1\\x9c\\xa8\\xc7\\xe5Y\\xf6\\xf7\\xf1_Y4\\x7fvX\\xc7\\xdd=~\\x95\"\\\\\\xecU\\xe4\\xf08\\'\\xbdM\\xbb\\x88\\xbd\\x02\\xed\\xdc?\\x1a\\x98\\xb6\\t\\xcf\\x03\\xda\\xabAs\\x1c\\x8d\\x90@\\xf5\\x1d*W\\x98F\\xa5\\xce\\xde\\x07<\\xf6\\xa4\\xc6\\x99\"\\xc6.fX#\\x19\\x91\\xf9$\\xff\\x00\\x02\\xf75cQ\\x82;Ku\\x824\\xda\\xa0\\xf1\\xea~\\xb5s@\\xb4a\\x13]\\xc8\\xb8y\\xbaq\\xf7W\\xb0\\xa4\\xd6\\x93\\xfd\"1\\xd8\\x0c\\xe7\\xd6\\x90\\\\\\xc9\\x86-\\xb1\\xe5\\xf9\\xcfj*a\\xf3\\x1e:zf\\x8a\\x06s \\xf3\\x83\\xc7\\xa1\\xa7\\xe38\\xe3\\x9c\\xfa\\xd3\\x06?\\xfa\\xd4\\xf5\\xe3\\x8e\\xfe\\x9e\\xb5\\xa8>\\xe4\\x8az\\x83\\xcfn\\x98\\xa7/~~\\xb4\\xc0:\\x8e1\\xdb\\xda\\x9e3\\x8e\\xe0\\xf6\\xe2\\x8168\\xf4\\xe8\\x7f\\xc6\\x81\\xcfo\\xfe\\xb5\\x03\\xa7\\x1e\\x94\\x05\\xc0\\xa4\\x17\\xd41\\xc63\\x8c\\xf6\\xa7g\\x9epy\\xa8\\xe6\\x99b\\x8c\\xc8\\xfd\\x05\"\\xba\\xdcF\\x1e7\\x04}zS\\x17B`8\\xf7\\xa4\\x1ds\\xfc\\xa9\\xa8\\xe0\\xa9R9\\x14\\xfe\\x0f\\xa8\\xc5\\x00\\xc5\\x1c\\x9f\\xa5\\x03\\xaf\\xad!p\\x0f\\xa8\\xa1Y_<~4\\t\\x0b\\xd3\\xbe=\\xc8\\xa3\\x1c\\xff\\x00\\x8d\\x18\\x1fO\\xc2\\x8c`\\xf4\\xfc(\\x00\\xfc(\\xa3\\x18\\xeb\\x9c\\xd0z\\xe7\\x14\\x81\\xa1{\\xd0:\\xf1\\x83K\\x8f\\xc7\\x8a?<{\\xd3\\x01\\x7f<\\xfa\\xd2\\x1f\\xa7\\x14\\x01\\xd0w\\xe9N\\xc7|`R\\x10\\xd3\\xd0Q\\x8eF)x\\xfa{\\xd1\\x81\\x9ey\\x1fZ`!\\x1e\\x99\\xa5\\x1d~\\x94\\xa0w\\xc1\\xe9I\\x8e\\xf8\\xa0l1\\xf8\\xe2\\x8c`\\x0c\\x0c\\xd2\\x91\\x91\\xd34\\x0f\\xce\\x80\\x01\\x8f\\xc0\\xd1\\xd7\\x8e\\xdfZ1\\xd4\\xfe\\xb4b\\x90\\x01\\xe6\\x93\\xafC\\xcd/N\\xa0\\xd1\\xfex\\xa0C{\\xd0y\\xff\\x00\\n\\x0f\\xbd\\x1e\\xbe\\x94\\x14&3\\xfc\\xe9=\\xa9\\xc4v\\xa4\\xc6\\x08\\xff\\x00\"\\x81\\t\\xc9\\x1e\\xff\\x00ZB8\\xe0\\xd2\\xe0\\x03\\x81\\xf9\\xd0z\\n\\x01\\r\\xfdr}(\\xe0\\xf5\\xf6\\xa0\\xe78\\xc6h8\\xe9\\xd6\\x80\\x10\\xf4\\xc7\\xe9Le\\x0c\\xac\\xa6\\xa4\\xc0\\x19\\xf5\\xe9Ma\\x8eE\\x033\\xaem\\xbea,D\\xa4\\x89\\xceGz|W3yCz\\x13\\xdf\"\\xadH\\x80\\xf3\\xdb\\xa5T%!,\\xad\\xf7{f\\xb3\\x1a\\xd4\\x1e\\xfe(Yr\\xdb\\x1f\\xf8A\\xc8\\xfe\\x95\\xb5j\\xc7P\\xb8\\x86\\xdf\\xee\\x82w?\\xd0v\\xaeFH\\xdfU\\xbcT\\x8c\\x1d\\xaaq\\xb8r\\x05w\\x9e\\x1e\\xb5X\\xaf\\x19z\\x98\\xd0\\x06$w5[ z#\\xac\\x81\\x128\\xd5\\x10p\\x07Z\\xcb\\xd6\\x10\\xb3!\\x1e\\xfc\\xd6\\xaad\\x8e\\x07\\x15\\x05\\xf4\\x1b\\xd1N\\x07\\x07\\x9a\\x86\\xc9L\\xc0\\x08@\\x1d\\xa8\\xabrE\\xb4\\xf4\\xfaQJ\\xe38\\x81\\xfa\\xfb\\xd4\\x8a\\x08\\xe9\\x8ab\\xf2:\\x03\\xfe{S\\xd79\\xc6\\x07\\xa7=\\xabq\\x8f\\x07\\x03\\xd4\\x8e\\x994\\xaay\\xc7zg\\xb1\\x02\\x9e\\t\\x07\\xb5!\\x12\\x01\\xe8x\\xf5\\xc5)\\xef\\x8e\\xa4S\\x03q\\xedN\\xc9\\xf4\\xef\\xebE\\xc0\\xa5\\r\\xcbI+\\xdb\\xcf\\xf7\\xb3\\xc7\\x1dEA\\x97\\xd3n\\xf8\\xe6\\x19\\x0f \\xf4\\x15=\\xe5\\x99\\x94\\t#;d_N\\xf5\\\\\\xbc\\x97\\xb15\\xbc\\xc8VE\\xe8\\xc0pi_\\xb9\\xa2\\xb5\\x8b\\xee\\xe0\\xe2@x=\\xe8\\xfbG\\xcd\\x81\\xc0\\xef\\xcdG\\x15\\xab$\\x01\\x1d\\xc9aY\\xf3]<\\x13yn\\xbdN7\\x01\\xc0\\xa5v\\xc8k]\\r\\x93\\xc8\\xeb\\x9a\\x17\\xe55\\x1d\\xb3\\x92\\xa07q\\xc151\\\\\\x1e\\x9d(D\\xecH0\\xc2\\x90\\x82O\\\\\\xd2!\\x00\\xe0\\x9cS\\xf1Uq\\t\\x8f~\\x94c\\x8a^\\x99\\xce3G<z\\xe6\\x80\\x13\\x91N\\xf7\\x19\\xc5&}\\xa9\\x7f\\x87\\xb5\\x03\\x17\\x1e\\x84\\xf1I\\xc5/\\xd3\\x8a\\x01\\xcd\\x02\\x0e\\xe3\\x9cc\\xde\\x809\\x14z\\xd1\\x8c\\x7f\\x85\\x00\\x1d\\xfd\\x07^\\x94u\\'\\x1f\\xa5/>\\x9d\\xe8\\xf7\\xf44z\\x8cN\\x07\\xf4\\xa3\\x9cdR\\x9e9\\xfc\\xe9rx=h\\x10\\x98\\xc94\\x9d\\xb3\\xfd){\\xf3HO\\x04z\\xd1q\\x87\\'\\x8f\\xd6\\x829\\xfch\\xf5\\xcd\\x1f\\x85\\x00\\x83\\xd2\\x9aI\\xf5\\xe7\\xb5;\\x1d\\xe9\\x0fO\\xd2\\x80\\x13\\xb5&3\\xfe\\x14\\xe2z\\xf7\\xc7zN\\xa3\\x91@\\x84\\xc7\\xeb\\xedHG\\x06\\x9d\\x8fLRs\\xd4\\x8a\\x00iP{\\xd2\\x1e\\xbf\\x8d;\\x9f\\xc6\\x90\\xfa\\x8e\\x94\\x00\\xdfl\\xd1\\xeb\\xd6\\x97\\x1e\\xdf\\x9d!<\\xe3\\xb8\\xe9J\\xe3\\x1b\\x81\\x82\\xa7\\xa5a\\xea\\xb2\\xbc\\xd3\\xad\\xacG\\xe6\\'\\xa8\\xad\\xb9\\x0e\\xd4,1\\xc0\\xc8\\xe6\\xb14\\xf53^\\xcdpF\\xec\\x1c\\n]n\\\\Mm.\\xcd-\\xa2\\\\\\x0f\\x9b\\x82\\xc4w5\\xd5\\xf8y7\\xdcLq\\xc9#\\xafn+\\x9a\\xb5\\x97\\xe7\\x08\\xdc\\x1e\\x985\\xd2\\xf8y\\x82\\xcd0=I\\x07\\x19\\xf6\\xa1\\x91&t\\xa1\\x90\\x003\\x9fS\\xebC\\x8d\\xcb\\xb4\\xf4=\\xa9\\xe9\\x08U\\x0c\\xff\\x00/\\xd6\\xa3y\\x10\\x10\\x03\\x0cVlE)\\xed\\xf9\\xe9\\x9a*\\xdbm#\\xa7Z)\\x0e\\xe7\\x96\\xa8\\xe7\\x18\\xa7\\x81\\xcf\\xd3\\xd2\\x98\\x0e~\\x87\\xad?\\x1d\\xfaWAM\\xf6\\x1c\\x07\\xcaz\\x91NR:\\x03\\xc7\\xa50g\\x9ct\\xf5\\xc58d\\xfa~4\\x84\\xc7\\xafni\\xd9\\xc0\\xef\\xc507\\x14\\x81\\xc9 )\\xe3=h\\x10\\xac\\xdc\\xe0\\x1ehTU%\\xb8\\xdc{\\xe2\\x8c\\x84\\\\\\xe4\\xfe5\\x1b\\xc8\\xc1\\x81\\xfe\\x13\\xe9P\\xf5\\x19#\\xb9\\xda\\n\\x9f\\x97\\xbdE%\\xb2M\\xb5\\xc8\\xe4sO\\xce\\x0f=\\r\\x08\\n\\x1c\\xf5S\\xcd \\x18\\xb9F\\x1bj\\xd4n\\x1d{\\xee\\xefP\\xba\\x7f\\x10\\xe9H\\x8cQ\\x81${\\xfbQ\\xd6\\xc2z\\x96\\x8a\\xfb\\xf1\\xebJ\\xa6\\x85;\\xd4\\x1e9\\xf4\\xa4\\xc1\\x079\\xaa\\xb8\\x90\\xfc\\x13\\x9a:f\\x95N\\xee\\xd4b\\xa8\\x04\\x03==(\\xe3\\x8aP\\x0f\\xe7G<\\xe0\\xd00#\\xd74\\xa3$\\xff\\x00\\x81\\xa4\\xc7\\xff\\x00\\xae\\x97\\xae\\x7f\\xa5 \\x00\\x0e;\\xd1\\xdb\\xdb\\xd2\\x97\\x9a\\x0f\\x1dx\\xe3\\xa1\\xa6\\x02c\\xb7<\\xf4\\xa5\\xc7L\\x83\\xc7z^\\xfcs\\xc5\\x18\\xe3 \\x7f\\xf5\\xe8\\x04\\x18\\xfa\\xfbRc\\xb0\\xce3K\\x8aLs\\xef\\xe9@\\x08\\x07\\xaf\\xd7\\x8a\\x0f\\xa7jp\\xcd!\\x04v\\x19\\xfaR\\x10\\x98\\xfa\\xfe4\\x99\\xef\\x9e){\\x9foJB\\x0f\\xe1L`y\\xe7\\xd6\\x82=?Z?Z\\x0f<u\\x1e\\xb4\\x90\\x08G>\\xdf\\x957\\x1f_Zy^{S\\x7f:b\\x13\\x04v\\xe7\\xe9I\\xd3\\x9f\\xc3\\x14\\xbd:\\xe3\\xad\\x19\\xda\\x0eM\\x02\\x13\\xfcj9\\x1d#R\\xcc\\xd8\\xa8\\xa7\\xbf\\x8e\\x10T\\x1c\\xb7`\\x06j\\xb4V7z\\x84\\xc1\\xa7\\xccQ\\x13\\x90\\xbd\\xc8\\xa0\\xa5\\x1b\\x8e\\x17s\\\\\\xc9\\xe5Z\\xc6\\xce\\xc7\\x83\\xb4t\\xfa\\x9a\\xb8\\x9a]\\xdc\\x9c\\xc9.\\xc2z\\x85\\xed]\\x05\\x95\\x8c\\x16Va \\x87b\\x81\\xcb\\x1e2}hT.\\xf8\\xc5M\\xc1\\xb3\\x14\\xe8\\xb9R\\xb2N\\xe7#\\xb1\\xa6\\xdbh\\x91\\xd9\\xab,n\\xc7w$5o\\x88z\\xb6\\x07\\xb5D\\x8b\\xb9\\xf0A>\\xc0\\xd2\\xd4.e-\\x82\\x97\\x06Vf\\x00\\xf1\\xb7\\x8cV\\x9e\\x9fr\\x96w\\xca\\xea\\xc4\\xab\\xfc\\xa7#85e\\xadw(\\xf9Nj\\x17\\xb2\\xc78\\xc6=*v\\x07\\xa9\\xb2\\xf2\\xbc\\xbf3\\xbb1\\xec)\\x01e\\x039\\xfag\\x8a\\xa1\\x04\\xef\\x16\\x15\\xc1e\\xe9\\x9fJ\\xd3\\x89\\xd5\\xc0*A\\x07\\xd2\\x81\\x00\\xb9d?2\\x93E;`9\\xe2\\x8a\\x90<\\xd8S\\x81\\xed\\xd3\\x8f\\xce\\x9b\\xbb=\\x87\\xe3Q\\\\]Gl\\x85\\x9d\\xc7L\\x01\\xdc\\xd7E\\x86\\xc9\\xf7z\\xd0_\\'j\\xe7\\xf1\\x15\\x95\\x1b\\xdc\\\\\\xcb\\xe6\\xb1\\xda\\x9d\\x97\\x15\\xa7\\x1a\\xb1\\xc1c\\xc6{\\xd2\\x96\\x80\\x99\"\\xeen\\xe7o\\xebJYS\\x00\\x0e~\\x94\\xd1*\\x86\\xda\\x0e\\r\\x19\\xceI\\xe4\\x8e\\xf5-\\x80e\\x8b\\x10\\xf8 \\x9e\\xb8\\xa5PH\\xd8zg\\xa9\\xefM\\xe1\\xf8\\xe8\\xd4\\xe5\\xe5y\\xeb\\xe9J\\xe3`\\xb8\\xce\\xc6\\xe9\\xebR\\x0c}\\xd3\\xd2\\x98Wx\\xe3\\x86\\x1d)\\xcb\\xb4\\x9c\\x1f\\xbc)1\\x08\\x8cU\\xf66pz{R\\xba`\\xe7\\x1d{\\xd3\\x98\\x07\\xff\\x00xP\\x87w\\xcaz\\xfb\\xf7\\xa0\\x18\\xb0\\xc8U\\xb0{\\xd5\\x9cq\\xc7\\xe9T\\xd8m$\\x13S\\xc3.~S\\xd7\\xebM1\\x12\\x0c\\x83\\xc8\\xa7\\x8ei\\x08\\xcf_\\xe5F}\\x7f\\x9d;\\x80\\xbd;\\xd0z`\\xf7\\xa5\\xeb\\xdf\\x9a9\\xe7\\x14\\xc6&\\x068\\xa3\\x9f\\xca\\x97\\xb0\\xc5\\x1f\\x85&\\x01\\xef\\x81\\x8al\\xaf\\xe5\\xa1n\\xb4\\xe3\\xcf\\x19\\xfc*\\x86\\xae\\xec\\x96\\xd9\\\\\\x8c\\xfaS@\\xb5\\x15o\\xf2\\xf8\\xdc\\xa7\\xda\\xaf+\\x12\\x81\\x99\\x19G\\xa9S\\\\\\xee\\x83\\x1a\\xcf\\xaaF$\\xe4\\x0f\\x9b\\x9fZ\\xf4x\\xad\\x11\\xe0^8\"\\xb1\\x9dG\\x19Y\\x1d0\\xa0\\xa5\\x1b\\xb6s\\x83\\x1d\\x8d\\x18\\xc7\\xff\\x00Z\\xaf\\xea\\x16\\x0fm\\xfb\\xc4\\x07a\\xea:\\x9c\\xd6q\\x921\\xfcC\\xe9\\x9a\\xd22R\\xd8\\xc6Qq\\x1d\\xces\\x8ei1\\x9e\\xd5\\x13]\\xc2\\xbd\\x1b$\\xf4\\x02\\x99\\xf6\\x89\\x1c~\\xee2O\\xa9\\xe0U\\x12O\\xf5\\xef\\xda\\x8cd\\xff\\x00\\x9ei\\x8a\\x97,\\xb9fT\\xcf\\xa1\\xcd*X\\xb4\\x9f\\xf2\\xf2\\x1b\\xd4g\\x14\\xae\\x02\\xe7\\xdc~4\\x99\\x1d2\\x0f\\xe3N6\\n\\xa7\\xe7l\\x8f\\\\\\xd2\\xfd\\x92$\\x00\\xe1H\\xf7\\xa2\\xe8V\\x19\\xb8\\x1c\\x1c\\x8c\\x1a\\x8eI\\x91\\x07\\xcc\\xdc\\xfbrMX\\xfb4X\\xff\\x00T\\xa4{qL)on\\xc1\\xd2<Jx\\\\w\\xa2\\xe1b$\\x8a\\xeet.\\x90\\xf9Q\\x8f\\xe2\\x90\\xe3?\\x85#i\\xf3H\\xdf\\xbc\\x98*\\xe3\\xa8\\x18\\xfc\\xaa\\xf2$\\xd2\\xa8i\\xe5f=\\x87@*d\\xb6w\\xfb\\x91\\xb3\\xf3\\xd7\\x14\\xae\\xc3b\\x85\\xae\\x9b\\x04l<\\x94\\xdc\\xff\\x00\\xdeo\\x98\\x9f\\xf0\\xad\\xdb\\x1d#k\\t$R\\xcc:\\x0e\\xc2\\x8bk)\\x13\\x03\\xcb+\\xea\\xc6\\xb4\\xe3\\x80\"\\xe7v}\\xa8\\xb8\\x9b#\\x9d\\n\\xa1R\\xaa\\xaa=\\rUD9\\xc61\\x9a\\xba\\xe9\\x9f\\xa7\\xbdUy\\x15\\x1b\\t\\xf3\\x1a\\x10\\xae=\\x97\\xe5<\\x0cU{h|\\xcb\\x93\\xc7\\xca\\xb5`G \\x89\\xa4\\x93*\\xbd\\x86y5>\\x9do\\xb57\\x1e\\xe7$\\xfa\\xd2\\x02S\\x0f\\x1d0)\\x86\\x0c\\x8c\\x90q\\xfc\\xea\\xf2\\xc5\\xb8\\x81\\x8e\\x05)\\x8fq\\x03\\x1c\\x0eqH.e\\xb5\\xb1f\\xc8\\x00}i\\x9eD\\xb1\\x1c\\xc6q\\x9e\\xde\\xb5\\xaea\\xcf^\\x9f\\xce\\x98b\\xdb\\xc8\\x18\\xa4\\xd0\\xeeT\\x86\\xe0\\x90\\x04\\x88Q\\x80\\xeb\\x8e\\r\\x15tB\\xbf\\xc5\\xfc\\xa8\\xa5v\\x07\\x90^^\\x9bp\\x11\\x01,\\xde\\xdc\\n\\xa5\\x142\\\\M\\xbeBX\\xf5\\xe7\\xa5i<i\\'\\xf0\\x82{\\x93\\xda\\x9f\\x1ci\\n\\xf0?Z\\xe8r\\xd3B\\xad\\xad\\xc7\\xc5\\x12\\xa0\\xcf\\x1cw\\xcd)}\\xed\\xb5O\"\\xa3g/\\x9e\\xd8\\xe9I\\x8d\\xc3\\xfd\\xa1\\xd4T\\x85\\xf5\\x1e\\xa7\\x7f^\\xa3\\xa58\\xb1`p\\x00 \\xf4\\xebMQ\\xbfkt#\\xaf\\xbdH\\xaa\\xa3\\x9c~]\\xea\\x00N\\\\\\x06\\x1c\\x11\\xfa\\xd3\\xc3\\xee\\x1c\\x0c7pi\\x18\\x15;\\x87a\\xd0R\\x80>\\xfa\\xf1\\x9a\\x00RI\\x03i\\x00\\xfaS\\xb7dnQL\\'\\x0c\\x1dA\\xfaS\\xd0`\\xe7\\xb1\\xed@\\n0F\\xe0q\\xf4\\xa7m\\x0f\\xf3\\x0e\\xb4\\x81p\\xfct>\\x94\\xe3\\x959\\x1f\\xa1\\xa0\\x05+\\xb8u\\xf9\\x85F\\tV\\x04pGjq\\xdc\\x08lqJ\\xc9\\x91\\x9094\\x84Y\\x8d\\xc3\\xaf=~\\x940\\xe7\\x8a\\xab\\x1b\\x94`qV\\xd4\\x87\\\\\\xf6\\xa6\\x98\\x85S\\x8e\\x08\\xf6\\xcd)\\xfe^\\xf4\\xc3\\xc5<\\x1c\\xf7\\xe6\\xa9\\x00\\x1c\\x90h\\xc6x>\\x94\\xb8\\xfe})8\\xcd2\\x85\\xc7\\x035SP\\x87\\xce\\xb7#\\x15j\\x98\\xf8\\x11\\x9d\\xdd1I\\x029\\xbd>sc\\xa9F\\xec0\\x03`\\x8fJ\\xf4\\xcd:\\xe9\\x9d\\x17a\\x04\\x8e\\x80\\xf7\\xaf7[W\\xd4u\\x06\\x8e\\x1c`u=\\x85t\\xba5\\xd4\\x96n\\xb6\\xb7\\x19\\x0e\\xbfu\\xbf\\xbc+:\\xb1\\xbb\\xb9\\xd7F_e\\x9d\\x95\\xc4f\\xe5Hh\\xca\\xae8\\x06\\xb0\\xaf4tY|\\xd4\\x8c1\\x1d\\x88\\xeb]\\x1d\\xad\\xccw1\\xa9b\\t\\xe9R\\xbc*\\xe3\\n\\xb8\\xf7\\xac\\x1f\\xbb\\xaa7qMr\\xb3\\x90\\xf9cl\\x1bEC\\xea\\x17#\\xf3\\xabQ\\xdb\\xb4\\x83\\xe5\\x8d\\x06{\\x91\\x9a\\xdd\\x9bNWR\\xbb\\x06\\x08\\xe7\\xd6\\xb3\\xda\\xce\\xe6\\xd1\\xb7B~A\\xfc\\r\\xd2\\xaa5;\\x9c\\xd3\\xa1\\xd6$i\\xa4+|\\xcf\\xfa\\x0cT\\xa7NH\\x86U2;\\x1cf\\xa6\\x86\\xfe\"\\xc1%\\xfd\\xd3\\x7f\\xb7\\xd0\\xfd\\r[b\\xa5r\\t \\xf4 dV\\xa7+M;30\\xc2\\x84r\\xaa\\xca}Fj\\'\\xb0\\x85\\xb3\\x84^{b\\xaeH\\xbb\\\\\\x8eF{UyfH\\xd7\\xe6`?Zd\\x99\\xd3YA\\x1a3\\x10P\\x8fCQ\\xd9iR]K\\xe6\\x15%\\x8fL\\xf6\\xadK[9/\\xe5\\x0e\\xe0\\x88\\x97\\x95S\\xdf\\xde\\xbaK[$\\x89\\x17j\\x0f\\xa0\\xa0.eX\\xf8~$\\xc3I\\xf3\\xb0\\xf5\\xabw\\x16\\xe9\\n\\xae\\xc5\\x03\\xb1\\x00V\\xa9@\\xa7\\xae*\\xa5\\xd2\\x07S\\x8ey\\xcd\\x02\\xb9\\x9b\\xb7w\\x18\\x14y!Nq\\xfa\\xd3\\x9d\\x82\\x13\\xf4\\xab60\\x1b\\x88\\x8b\\xed;s\\x80h\\xb0\\x14\\xa5\\x8cL02\\x17\\xbf\\xbdW\\x8a\\xd9M\\xc8\\x8dG\\xb9\\xad\\x89,$BH\\x0cG\\xa0\\xa8\\xa3\\x89m\\xad\\xe5\\xbbq\\xf3\\x1e\\x10\\x1a`g\\xdd\\'\\x99p\\xb0\\xaeJ\\xc7\\xcb\\x0fSW\\xa0\\x89U@\\xe4\\x1fj\\x8e\\xda\\xc6B\\x9e{\\xe4o9\\xc9\\xef\\x9a\\xbd\\x1c;@#$P\\x03U1\\xd3\\xbd;\\xcb\\xc2\\x81\\x8e\\xb5*\\xa6\\x06qNUn\\xbbM\\x00D\\x90\\x96<\\x8c\\x0fz\\n\\x0c\\xf03\\x8f\\xe252\\x81\\x8eT\\x8c\\xfa\\xd2\\xed\\xce0\\xb8\\x14\\x80\\xab\\xb1\\xb7\\x1c\\x00E\\x15o`\\xcf\\\\g\\x93\\xebE+\\x0c\\xf1L\\x85\\x07\\x03\\xb7\\x14\\x8c\\x0b\\x0e\\x1b\\xe6\\xcf\\x15\\x18c\\xceH\\xcfjpb~R>oJ\\xd4\\xd5\\x86wd\\xff\\x00\\x10\\xeai\\xddp\\xcb\\xf7\\x87jo\\xdf;\\x81\\x19\\x1d\\xbdi\\xc9\\xd40<w\\xa9$xl\\r\\xc0g\\xf1\\xa5-\\x8c8\\xe4Sq\\x8c\\x15\\xc6=)\\xc0\\x10\\t8\\xdaz\\xe6\\x90\\x00<\\x96\\xe3\\x1d\\xf3\\xda\\xa4\\x04\\x0e\\xe3\\x1fJ\\x8f\\xee7\\xa8\\xcf\\x14\\xf5!s\\x9eA\\xed\\xd6\\x9f\\xa0\\x0e\\x03\\x07\\xaf\\xcbO\\xc8\\x1cz\\xd4y\\xc7\\xcb\\x8e?\\x95=p>V\\xe7\\xdf\\xad \\x1c\\x0e\\x0f\\'\\x8e\\xd4\\xa0\\x91\\xd4p{\\xd3}\\x8f\\xa7\\x1cP\\xbc|\\xa4\\xe3\\xde\\x86\\xc0\\x90`}\\r m\\x87\\xd8\\xd0\\xa3q\\xc1\\xfc\\xe9@\\xcf\\xcaF?\\x1a\\x045\\x97\\xb8\\xc6=M>\\tJ0S\\xfa\\xd0\\x07\\x18#\\x8a\\x8d\\x97i\\xfa\\x1e\\xd4\\x9b\\x0f\"\\xef\\\\`\\xd2\\x03\\x83\\xc7\\xf2\\xa8\\xa0\\x93p\\xd8\\xc7\\x9a\\x94\\x8e?\\xc6\\x9a`?\\x86\\x19\\xa4\\xe8;~4\\xd0rq\\xc5R\\xd4/DCny\\xf4\\xaa\\xdcv\\xb9i\\xe7\\x8d;\\xe7\\xe9Y\\xfa\\x95\\xf8\\x11\\xf9q\\xfd\\xe6\\xe3\\xad\\x1au\\xad\\xce\\xaa\\xecA\\xf2\\xe2\\x07\\x04\\x8e\\xa6\\xb5\\xbf\\xb1c\\xb7\\x19\\xd9\\xb8\\xfa\\xb75\\x94\\xaa\\xc6\\x0e\\xddN\\x9at%=H|<\\x96\\x96\\xd1y\\x93I\\x82~f8\\xc9>\\xc2\\xb6o\\xefl\\xae\\xed\\xfc\\xa8,\\xd8\\xb0\\xfb\\xaeN\\xd2\\x0f\\xadP\\xb5\\xb7D\\xb8P\\x00\\x1b\\x8e1Zmn\\xa8\\xfd\\x00\\xac\\xa5U\\xbdlm\\x1c2\\xbd\\xdb*\\xd8_\\xddY\\xe3\\xce\\x05\\x94\\x7f\\x12\\xff\\x00Z\\xe9l\\xb5h\\xe7@\\xc1\\xc75\\x93\\x0c\\x08\\xed\\xd3\\xad=\\xb4\\xa03$,bon\\x87\\xf0\\xa8R\\xbe\\xe6\\xce:\\x1d,7(\\xf9\\x1djB\\x91\\xca\\xbd\\xb1\\xed\\\\\\xb4W\\xf3ZJ#\\xba\\x1bI\\xfb\\xad\\xd9\\xab^\\xde\\xfc8\\x18j\\xa2\\x1a,\\xcf\\xa7A\"\\xfc\\xc9\\x9a\\xcd\\x93O\\x96\\xd9\\x8b[J\\xf1\\xf3\\xf7A\\xc8?\\x85nG6\\xf5\\xc9\\xc5H\\xa8\\x8f\\xefR\\xa4\\xd6\\xcc\\x87\\x14\\xd6\\xa72\\xf3\\xcc\\xcc\\x12\\xe8\\x06Q\\xd5\\x91p\\x7f*\\xb3\\x15\\xb4W8[x\\xcc\\x8a>\\xf3\\x81\\xdf\\xd3\\x9a\\xd3\\xb9\\xd3\\xe3pN\\xd1\\x9a\\xcc\\x11\\xddXO\\xe6\\xdb\\xb1R\\x0f*z0\\xf4\"\\xb5\\x8c\\xfb\\x9c\\xf3\\xa2\\xbe\\xc9\\xb3ka.\\xd0\\xbbV%\\x1e\\x9c\\x9a\\xb6\\x96\\x8d\\xd0\\xc8\\xe4}j\\xbd\\x86\\xb9kr\\x04s~\\xe6o\\xee7C\\xf45y\\xaebC\\x80w7\\xa2\\x8c\\xd6\\x87+M=F=\\xacH\\xbf0\\xce\\x06I&\\xb3\\xae\\xaflm\\xd1\\x8e\\xf1\\xbb\\xa0\\x03\\xa9\\xaa\\x1e\"\\xd7\\xde\\xda/.5ei8\\x075\\xcei\\xc6K\\x89%\\x96L\\xba\\xa1\\n\\x01<\\x12i\\xda\\xe2\\xb7Sj\\xd9\\x8d\\xfd\\xda\\xc0\\xa0\\x85c\\x96\\xc7\\\\W^\\x96\\xf1\\xdb[\\xach0\\x05ai\\xd3[i\\xb1\\xef\\x94\\xaa\\xbb|\\xccx\\xcdM.\\xbe\\x97\\x0f\\xe5\\xc2\\xacNp\\x08\\x14\\xfc\\x80\\xd2\\x91\\xfc\\xc6\\xf2P\\xff\\x00\\xbe}\\x05RhWR\\xbcX\\xc0\\x1eD\\'\\x8f\\xf6\\x8d\\x13M\\xe4[\\xac1\\xe4\\xcd7~\\xe3\\xde\\xb4\\xf4\\xfb1o\\x02\\x82\\x07Nh@U\\xd4\\x95b\\x81UF00*\\xb4D\\x15_aVu\\xa7\\x04\\xacc\\xf1\\xaa\\xb1\\x8d\\x98\\xe2\\x84&\\x89\\xc2f\\x97`\\xebO\\x8ceEH\\xa9\\xd2\\x81\\x91m<g\\xa5\\x00\\x06n\\x9c\\n\\x93`f\\xe7?\\x95;\\x00\\x1c\\x0eh\\x02\\x06Q\\xed\\xf8\\x9a*R\\x83?t\\x92{QR\\x07\\x84\\xe3=\\xf0\\xc3\\xbd7nG\\x1fxu\\x14\\x1es\\xfc\\xc8\\xc5=\\t9\\x18?J\\xd2\\xe6\\xa1\\xb4\\x8f\\x9b\\x90\\xde\\x94\\xf59 \\xfe\\'4\\x87\\x8c\\x90i:`\\xa9\\xe3\\xd2\\xa4l\\x91@\\x03<\\xd3\\x88\\x00d\\xe7\\x04\\xfaS\\x01\\xe0c\\xa7\\xf2\\xa5\\xdd\\xdb#\\x07\\xd0P\\xc4\\xc5\\xf6=\\t\\xe2\\x94q\\xf2\\x9f\\xc3\\x9aES\\xd0\\x9e*U\\x1d\\x01\\xeb\\x8e(\\x10\\x8a\\xbf\\xc3\\xcf\\xb1\\xa5\\xc8\\'\\x04\\x1c\\xd0y\\x04\\xf7\\xa4\\xe5\\xba\\xf0\\xde\\xb4\\x00\\xf4\\xc6\\xdc\\x1e\\xa2\\x9d\\xb4\\xed\\xe4d\\xfa\\xe6\\x98\\x01#\\x83\\x83\\x9ay\\xfa\\xf4\\xa0\\x01~of\\x06\\x9d\\xc3\\x01\\xcf>\\xb4\\xc3\\xf3\\r\\xc3\\xefS\\xd4n\\x19<\\x1e\\xf4\\x98\\x0f\\xdb\\x91\\xcd1\\x94\\xb0\\xeb\\xc8\\x14\\xf1\\xff\\x00\\xd7\\xa6\\xb0=FI\\xa0\\x08K\\x149\\xcf5b\\x0b\\x80\\xeb\\x83\\xd4u\\xaa\\x17R\\x95\\xed\\xdb\\xd2\\x9f\\xa7$\\x8e\\xe2_)\\xa4\\x8b8l\\x0e\\x82\\x8b\\r-.i\\xbcL\\x14?P{\\xd7;\\xabqs\\xc9\\xeb\\xfaWk\\x1d\\xb4o\\x0001*\\xc3%\\x1dp\\xc3\\xe9\\xeb\\\\\\xed\\xd6\\x85$\\x97\\xe1\\xe5u\\x11n\\xfd*\\x93\\x08\\xbb\\x1a\\xfe\\x0e\\x96\\xdc[*\\xc82\\x15\\xbea\\xd0\\xd6\\xb5\\xeb\\xc4X\\x94\\x1f/\\xa5S\\x8bL\\xb4\\xc86\\xecS\\xb0(q\\x9cz\\xd2\\\\Z\\xa2\\x03\\xe7_0\\x03\\xb0\\x02\\xb9\\xe5\\x06\\xdd\\xd1\\xd9O\\x11\\x08\\xab2$\\x91\\r\\xc2\\x11\\xd05_\\xb8\\xb8\\x8c\\x9c\\xe4W=ssk\\x07\\x11\\xac\\xd20\\xfe2\\xd8\\x02\\xb2\\xe4\\xbd`\\xcc\\xfb\\xe4v\\xec\\t8\\x15<\\x8c\\xb7\\x88M\\xe8v1jV\\xd1\\xae\\xe3 \\xca\\x8epsU\\xa7\\xf19\\x04\\xc7\\x021\\x00u\\xae@\\xce\\xd28\\xc1\\xc6\\x7f\\x84t\\x14\\x9fhx\\xf2\\xc4\\xe0\\xe7=:UF\\x9d\\x8c\\xe5]\\xb5\\xa1\\xbf>\\xadqz\\xbb]\\xc6\\xde\\xbc\\x8e*[\\x1dVKVP$\\xde\\xa7\\xb1\\x04\\xd7>\\xb7G\\x01\\x97\\x01\\xbb\\n\\x9c\\xbbl\\x0e\\x18.8>\\xd5|\\xaa\\xc6\\x1e\\xd2W\\xb9\\xd9[\\xf8\\x92@9\\x8c6\\x0f5v\\xd3\\xc66\\xfb\\xb1s\\x1b\\xa2\\xff\\x00\\xb3\\xcdp\\x0b9\\x0b\\xf2>A\\xf7\\xeb\\xedR\\t\\x83ed\\r\\x81\\xdf\\x1d\\r.X\\xf6\\x1f\\xb5\\x9b=5<O\\xa5N\\x00[\\x95B\\x7f\\xbf\\xc5Z\\x12\\xc3p\\xbb\\x91\\xd5\\xd4\\xf4*s^B\\xf3\\xed$\\x12\\t\\r\\x8e\\x9f\\xe7\\x9a\\x9a\\xdbR\\xba\\xb3\\x97u\\xac\\xcd\\x11=\\x00n\\xbf\\xd2\\x8eD57\\xd4\\xf4\\xcb\\x9b\\x08\\xe4\\xceTg\\xb6\\x05U\\xfe\\xd3\\xb9\\xd2\\x14\\xfc\\xc2H\\xfams\\xc8\\xfa\\x1a\\xe5\\xa2\\xf1\\x9e\\xa4\\xb1\\x84\\x91c\\x97\\xb0r0\\x7fJ\\xa1w\\xab\\\\\\xdf\\xca\\r\\xcb\\x9d\\xb9\\xe8\\xa7\\x81J)\\xa7\\xb8JQ\\x92\\xd5\\x1b\\x93]\\x9d^\\xfc<\\x99\\x198D\\xc6kB\\x1d\\x96ZA\\x92O\\xdd\\x95\\x90\\xb3\\x8e\\xf8\\x1d+\\x9a\\xb3\\xbf\\xdbu\\x0bG\\xbbr\\x9c\\x01\\xeai5\\x9dV\\xe2U\\xfb\\'\\x98R0~`\\x06I>\\xf5\\xb2Z\\x1c\\xef{\\x1a0\\xea\\x86\\xf2\\xe9\\x9ay<\\xb5c\\xcb\\x1ep\\xbd\\x80\\xad\\xc8\\xa4\\x10\\xc4\\xad\\x0b\\xb2\\x96\\x19\\xc9ns\\xf4\\xaf>&g!\"R\\xe0\\x1e\\xa4\\xf1Wc\\x9fT\\xb6\\xc7\\x96\\x87 }\\xd5\\x1b\\xb3\\xf8zSVbq\\xeczN\\x8dr\\x86\\xf4\\xcby3\\x06<\\r\\xe9\\xc7\\xe7]r\\xc8\\x8c\\x99F\\x04c\\xa85\\xe2\\xf1k\\x9a\\xec!|\\xd8\\xe6\\x0b\\x91\\x8d\\xd1\\x90\\xb5\\xb7a\\xe3;\\xa8\\x01\\x8a\\xeaB\\x06y\\xe0\\xe0{c\\xb5;i\\xa1:\\xa3\\xb3\\x9b\\xfd\"\\xe9\\x9d\\xbe\\xea\\xf7\\xa8\\x03\\xee$\\xf6\\xcf\\x15R\\xd3[\\xb4\\xb8_)&]\\xcc\\xbb\\x86\\x1b\\xadY\\x8cn\\x0b\\x83\\xc0\\xeajm`/B\\xc0\\x8fz\\xb2\\xab\\x9e\\xd5F\\xd9\\xc1\\x90\\x8e\\x80V\\x84c+\\xd7\\x04\\xfaP\\x01\\xb4\\x83\\xc7\\xe7F\\xce\\xe7#\\xde\\xa4\\xdb\\x9fziFb==)\\x01\\x13.{\\xd1Slo\\xf6@\\xa2\\x80>y\\x07\\x9d\\xa7\\xf0 \\xd4\\x80\\xe1q\\x81\\xec)\\xb8\\xc8\\xc1\\xe3\\xd0\\xd0\\x08\\xc9^\\xe3\\xf5\\xad\\rG\\x06\\'&\\x9e6\\x8eTd\\x1aj\\x8d\\xdd\\xf0~\\x94\\xf1\\x80:\\x8f\\xa5H\\x08\\t\\xeb\\xd8\\xd4\\x83\\xd0\\xf4\\xcd0q\\xc6\\t\\x18\\xeci\\xc3\\xe5<\\x9e>\\x94\\x87bUa\\xf8c\\xad&\\xeeH\\xc0\\xcflS\\x07pI\\xe3\\xd6\\x9d\\x8c\\x8fC\\xebA#\\xd4\\x13\\x8e\\x99\\x14\\xe3\\xcf#\\xa8\\xa6\\x03\\x91\\x81\\xd4w\\xa7\\x01\\x9c\\x1a6@;9\\xe4\\x0e\\x9dh\\xcfB\\x0f\\xd6\\x8e\\x874u\\xf9\\x85\\x17\\x01\\xc3\\xd7\\xb58\\x101\\xd8R(\\xc7N)\\xc3\\x02\\x90\\x0e\\x18\\xc8 ~t\\x8e\\xdbW\\xa5(>\\x94\\x8d\\xf7O\\x7f\\xad\\x17\\x19\\x8b|\\xec\\x93\\x15\\xed\\xf4\\xad\\xef\\x08\\xc9\\'\\xcf\\x89#\\x01z\\x06\\xf7\\xaez\\xff\\x00\"f\\xdcs\\xf4\\xad\\x9f\\nj\\r`\\xd2\\x86\\x85]O \\xb0\\xcf?J\\xa7\\xb0\\xda\\xd0\\xf4\\x18\\x05\\xa4\\xf0,r\"\\x96\\x1c\\x86\\x1e\\xb5\\x91\\xabX\\x80\\xad\\xb0\\xee\\x18\\xe9\\x9aD\\xd6\\xa7\\xbb*#E\\x039\\xec\\xb8\\xfd*\\xcc7\\xf6W\\x88\\xeb>\\xe8\\xd8p\\xc4\\xf3\\x8a\\x9b4es\\x90/=\\x92\\x86I\\x0e\\xd2q\\x92x\\x15Y\\x9eI\\xc3Iq! \\x9f^\\x07\\xd6\\xba\\xdb\\x8f\\x0fZ\\xdc;4W+$-\\xd4\\x8e\\x9f\\x95g?\\x82n$p\\x90\\xdc\\xae\\xd2rK\\x02x\\xa2\\xe5\\xa6\\x8eN\\xe2Q#2)\\x08\\xa3\\xf5\\xa8\\x90\\xc9\\xb9B\\x00@\\xfcs]\\x8c\\xbe\\t{H\\xc9iQ\\xc6s\\x80+9\\xf4\\xa1m\\x93\\xb1s\\xfc#\\xd4\\xd3\\xba\\xb6\\x83\\xe61M\\xb3\\xbb6\\x10\\x01\\xcf\\xcc\\x82\\x9e-\\xd2ITc\\x18\\x19 \\x8c\\x03\\xeakb\\xdfO\\xb8v\\xc3.\\xc5>\\xd8\\xa7\\x1d5\\xed\\xa4\\xcaFd\\xdcJ\\xb8c\\xc6}\\x8f\\xad \\xb9\\x90\\xf10\\xb8T\\xe3\\xe7\\xc6s\\xda\\x99 \\x91 \\xdc\\xb8\\x03$\\x03\\xd7\\xa5l\\x1d)\\xe5l\\xa3\\x9e\\xa3*z\\x8cv4\\xdb\\x8d*Ke\\xdb!a\\x96 \\x0cc\\x1f\\xe3J\\xe8w2m\\t\\nL\\x8b\\xcb\\x12q\\xe9Mi\\\\\\x87O\\x98\\x07l\\x91Z_g)\\x1e\\xd59\\xc1\\xc0\\x15T\\xd8\\xb3;\\x96R\\x15\\xcf\\x19\\xe8)\\xe9p\\xb9\\x0cv\\xdb\\xd7\\x03\\x91\\xf7\\x98\\x03\\xd0t\\xa4\\x96\\xd9\\xe3\\x99v\\x06p\\xc3=:U\\x86\\xb5\\x92&\\x02\\x16e=\\xc3w\\xc5\\\\\\x87\\x98\\xf6\\xb32\\xca\\xa4\\xedq\\xc04\\xfc\\xd0\\xae\\xcc\\x92\\xac\\xae\\xdb\\x01 \\x8f\\xe2\\x15:[\\xdc\\xac\\xa0F\\x85\\x81\\xeb\\x81\\x8a\\xe94\\x9b(.%\\x02r\\xb8\\xc7\\'\\x1f\\xa5u\\x96\\xd6\\x10c\\xcdD]\\xa0aW\\xa74\\t\\xc8\\xe3\\xac,\\x1a\\xc1\\x05\\xdc\\xf1\\xee\\x99\\xc1\\n\\x80gf}+\\x9d\\xbd\\x99\\xcd\\xec\\xa5\\x98\\x16-\\x92=+\\xd3\\xa6\\xb77 \\xa1*\\xbcd\\xed\\x19\\xcf\\xb7\\xb5r\\x1a\\xaf\\x87\\x8c^m\\xcaG*\\xaa\\x9c\\x9d\\xa3 }M\\x17\\x08\\xbdJ\\x9a\\\\ip\\xdeXu\\xdc\\x7f\\x89\\xb8\\x15\\xd1\\xc3\\xa5K\\x03\\xa9\\xf2\\x80lq\\xe8\\xd5\\x97\\xe1X\\x19/\\x19fVxGT\\xdb\\xeb\\xd0\\x8fJ\\xef\\x12\\x04\\x9a\\x05\\x868\\xce\\x14e\\x1b9\"\\xa6N\\xcc\\xd6*\\xe8\\xca\\xb6\\xbc\\x96\\xc9\\x82\\x98J\\x80r?\\x88\\x1f\\xc0\\xd6N\\xa1\\x1d\\xa5\\xfd\\xd4\\xb3\\xcblD\\x8e\\xf9/\\x1b\\x11\\xff\\x00\\x8e\\xd6\\xe5\\xc1hnM\\xbc\\xa0\\x1c\\x8cn\\xea\\xa4\\xff\\x00\\xfa\\xaa\\xb5\\xc6\\x9e[t\\x91\\xaf\\xdd\\xe4\\xa8\\xe0\\xe3\\xd6\\x92\\x91.(\\xc6\\x83Gy\\x1c\\x9b+\\xa5r\\xab\\xc2\\x0f\\x91\\xff\\x00_\\xf1\\xadM;Y\\xb8\\xb7Q\\x0c\\xee%Pv\\x9e\\xa1\\xc7\\xf45E\\xf7\\xa1\\xdc\\x0eNy\\xabv\\xa2+\\x89\\x89\\xba?+a_a\\xc3\\x01\\xeb\\x8a\\xd1J\\xe6R\\x8d\\x8e\\x9e\\xc6\\xee\\t\\xc8x\\xddH=\\xbb\\x8fj\\xd8\\xb6`\\xc9\\xb8\\xf75\\xc4\\xae\\x87{f\\xcd-\\xa9Y!\\x07)*78\\xf7_Z\\xd2\\xd3|B\\xd0\\x11\\x15\\xe2c\\x07\\x19\\x03\\x9f\\xca\\x9d\\xaf\\xb1\\x1a\\x9dhQ\\x8e\\x94m\\xa6[\\xcf\\x1d\\xcc\"H\\xdbr\\x9e\\x86\\xa5\\xe9Sa\\x8d+\\xc6(\\xa1\\xbau\\xa2\\x90\\xae|\\xf0\\xc0\\x9e;\\x8fZ@\\xa4\\x1f\\xf6\\x87z\\\\\\xf4\\xe2\\x86\\\\\\xa8\\xc7QZ3aW$\\x86\\x14\\xec\\xf2\\x0fn\\xf4\\xd1\\xc0\\xcf\\xf1q\\xd2\\x94\\x10>\\xef\\xa5@\\n[\\x03\\x9f\\xbb\\x8aU=3\\xf7M&\\x068\\x1c\\x13\\x8a\\\\\\x801\\xea\\x7f*\\x04(l\\x10\\x0f^\\xd5 \\xc9<\\xf5\\xe7\\x18\\xa8\\xf8\\xc6\\x0f\\xde\\xedON\\xf9\\xa2\\xe3\\xb1 \\xf5\\xe2\\x9f\\xbb\\xf2\\xa8\\xf3\\x9e\\x83\\xa1\\xf4\\xa7\\x0e\\xc7\\xb7\\xa5!\\n\\t\\xceGA\\xe9NQ\\x8e?\\xad *8\\x1f\\x8d.@\\x18-E\\xc0w#\\x8aP{v\\xa6\\xef^\\xe4c\\xd6\\xab\\xbd\\xc1\\xdd\\xe5\\xc6\\xa5\\xdb\\xd0\\x0e\\x94\\x14\\x8bL\\xe8\\x8ar\\xc0w\\xc9\\xa8\\xbc\\xc9\\xae\\x0e\\xc8\\x10\\x93\\xd3waR\\xdbX\\tW\\xcd\\x9d\\x8b\\x9cp\\x99\\xe2\\xae\"LWd\\x10\\x90zg\\x18\\xc5\\x02\\xbd\\x8cK\\x9b\\x18\\xed\\xc12\\xc9\\xe6J{\\x0e\\xd5~\\xc2\\xc2U\\xd3\\xfc\\xf9\\x81E\\'j*\\x8e[5\\xa7\\xa3xV}V\\xfcMvJ\\xc1\\x1b|\\xdd\\x8b\\x1fA]\\xed\\xfc\\x16\\xf2\\x08,\\xa3\\x8d#H\\xc6s\\x8e\\x98\\xa1\\xbe\\x80\\xe5\\xd0\\xf3[i%\\x8c\\xb0\\x8d\\x1d0s\\x92q\\x8ah\\xbf\\x91\\x0b\\xac\\xab\\xc3\\xf7\\xc7?\\x85t7zl6\\xd7\\xb2\\xc9,\\x81\\x94}\\xd5\\x03\\xef}*\\x95\\x9e\\x96\\xba\\xad\\xe1p\\xcb\\x1chq\\x8e\\xa6\\x95\\xc4Z\\xd0\\x05\\xd9a3F\\xc2\\x12>Wv\\xc6}8\\xae\\x81ov\\x03\\xfb\\xb5\\xdd\\x8cp\\xfd\\xaaE\\xd34\\xcd6\\x157s\\xb3\\xb9^#\\\\\\xfc\\xdf\\x8dC\\x1c\\x96\\x0bq\\xe6\\x10\\xd1\\xaa\\xf1\\xb9\\x06\\xe3\\xcf\\xd6\\xa5\\xb6N\\x85{\\xe9&\\xbfA\\x18\\x08\\x00\\xe8\\x0b\\xff\\x00Z\\xcf}=\\xed\\xdd\\x19\\xd4\\xb2\\x90\\x07\\xcc:\\xfe5\\xd7\\xdb\\xa6\\x9fy\\x10\\xf2\\xee\\x18\\x9cp\\xcd\\x18\\xe3\\xf2\\xa7\\xcbj\\x96\\xd03\\xcb\\x1csC\\xc6\\xe6S\\x8c~\\x14s1\\xd8\\xc1d\\xb46L\\xd7 !Q\\xf2\\x9c\\x10A\\xf4\\xfaV\\x0cz\\x95\\xaay\\xaaQ\\x9b\\xe6\\xfd\\xde\\x08\\xc8o\\xa7\\xa5u7V\\xb0OlZ\\xdf\\x12\\xc2x\\xdaN6\\x7f\\xf5\\xaa\\x9c\\x9a4\\x12\\xdbcb\\x12\\xa3\\x18\\x1c}\\r+\\x8d[\\xa9\\x91\\xfb\\x9b\\xd5\\x12[\\x9f-\\xe2\\x18`Wi_\\xa8\\xa2\\xf26\\xbb\\xb3@\\xdc4M\\xf3\\xae{z\\x8a\\xae\\xf6\\xf76\\xd7FB\\t\\nAVS\\x8c\\x8c\\xf3Z\\x8d\\x00\\x92\\xda\\x1b\\xb8\\xd8\\x05\\x95\\x8cN=\\x18t\\xfdhN\\xe3\\xb5\\x8e^Ki\"Gp[\\x87P\\xb9\\xe3 U\\xff\\x00%\\\\,f0\\xea\\x06\\xed\\xed\\xc0\\xcdAv\\x18L\\xd1\\x06,\\tB\\x0fA\\xf8\\xd6\\xc5\\xb5\\x86\\xc8\\x02\\x9c\\x96a\\x92\\x08\\xa7p{X\\xc7\\x9a\\xd4*\\x97S\\x91\\x8ej\\xb9Eu\\xdf$HO\\xf0\\xa7`}H\\xad\\x89 t\\x0c\\x84\\x06c\\xd1GjjX\\xb0\\'\\t\\x86\\xecOO\\xcf\\xfc*\\xae\"\\x1b\\x0b\\x95\\x87\\x96\\x8dKg\\x1b\\x88\\xe8+r\\x0b\\xfbtr\\xa2\\xe1Q@\\xe7/\\xcf\\xd2\\xb2%\\xb6\\x99T+\\xba\\xe5[\\x05\\x111\\xff\\x00\\x8fU;\\x98\\x02\\xaa\\x98\\xf9\\x04e\\x97\\x19+\\xf8\\xd1p\\xe5\\xb9\\xdd[\\xdc\\xdbI\\tdu\\x94\\xe3\\'\\x0c:z\\xd79\\xe2)\\x19\\xe0d]\\xac\\x18d\\x80I\\xc8\\xff\\x00\\x1a\\xc4\\x8d\\xe5\\xb5\\x94\\x90\\xac\\xa9\\x8e\\x03r*\\xeaI\\x15\\xc0\\xd8\\x13s\\xe3\\x93\\x9c\\xe2\\x9d\\xc5\\xcbb\\xee\\x81\\x05\\xad\\x9d\\xa3J\\\\\\xf9\\x8e\\x83f8*~\\xbf\\xe3Z\\xd6\\xda\\xe5\\xda9I\\x13\\xcen\\x8b\\xb0|\\xdf\\x8e+\\x8c\\x0e\\xf6W\\xea\\xa1\\x18.N\\x14\\xf7\\xff\\x00\\x1a\\xd1k\\xf9\\x1f\\xe6\\x92C\\x19\\x03\\x00 \\xc6)5\\xd4\\xb5+\\x1b\\xb7&\\xf2\\xfe`\\xebjB\\xe4g-W\\x1fL\\x9e\\x0bc \\x99^@\\xbfp\\xb8\\xc8>\\xc6\\xb9qp\\xe6\\x06\\xc3\\xb1p>V\\x04\\x8c\\xfdFj9\\x1d\\xe7b\\xf2?\\xceW\\x04\\x83\\x8a\\x87$\\x8bQ\\x94\\xb7,I\\xaa\\xc3#\\xe2E\\xda\\xe4\\x10\\xd9^\\xa7\\xde\\xa6\\x10\\xab\\xa2\\xc9\\x0b\\xe41\\xc7<c\\xd8\\xd6[\\xc0O<\\x06\\xf5\\'\\x14\\x96\\xd3Kn\\xfbI\\xc2\\xb7\\\\\\xd2\\x8c\\x93c\\x94Y\\xd6iZ\\xac\\xd6nb\\x91X\\xa6~\\xebs\\xf9U\\xe9t\\xab+\\xd4\\x92\\xea\\xd9\\xd9\\xf76\\xe2\\x99\\xc1C\\xf4\\xac\\x9bk\\x88\\xe7\\x88+\\x8c\\x10\\x019\\xedV\\xe0s\\x0by\\x88\\xec\\x98\\xc0\\'9\\x03\\xff\\x00\\xad[\\xa7s\\x9d\\xab=\\t,\\xb5\\x1b\\xed2M\\xa1Zh\\x89\\xf9\\x95P\\xe0\\x1f\\xe9]E\\x8e\\xa5\\r\\xf2|\\x87\\x0e\\x07\\xcc\\x87\\x82+)5(\\xdf\\t{n\\xca\\xdf\\xf3\\xd63\\xd4z\\x9a\\x99\\xec\\xad\\xca,\\xf6W\\x04:\\xf3\\x92y4\\xef\\xa6\\xa4\\xf5\\xd0\\xd6\\x90\\x93\\xc0\\x03\\xdc\\x9a*\\x8d\\x9d\\xe9\\x94\\xff\\x00\\xa4&\\xc2\\x067v&\\x8a\\x9eQ]\\x9e\\x0c:q\\xc1\\x074\\xec\\x8c\\x0f\\xf0\\xa6\\x8f\\xe5J\\x08\\x04s\\x9a\\xd0\\xde\\xc3\\xb2@\\xeb\\xc9\\xed@l\\xf74\\x06\\x00SY\\xd19\\x04f\\xa5\\xa1\\x12\\xf1\\xb4\\xf3\\xc7\\xbd\\'N:\\x8a\\x8b\\xcfLg\\xaf>\\xb4\\x19\\xfb\\x05\\'\\xd6\\xa6\\xc3\\xb19\\x00\\xf0N?\\x1a]\\xdc\\xf3\\xd8\\xf7\\xaa\\xbe{\\x9e\\x02\\xd3\\x8a\\xc8\\xdc1\\xc1=\\xa8\\xb0\\x8b\\x1ej/R8\\xa8\\xda\\xedr\\x00\\x04\\x9fj\\x92\\r9\\x9f\\xe7\\x90\\x9c\\x1eq\\xde\\xaeE\\xa7\\xaa\\x8d\\xe2>\\xbd=h\\x02\\x9a4\\xf2\\xf0\\xa3\\x00\\xfa\\xd3\\xfe\\xcb6\\xdc\\xc8\\xf8\\x07\\xb0\\xadX\\xad\\x1b\\xa6\\xdc\\x9fj\\x9d\\xed\\x91\\x17s\\x03\\xc7\\xadKas\\x10D\\xa1\\x18\\x15f?Z\"\\xf9\\x14\\x88\\xe3 \\x1e\\xa6\\xb4\\x8ch\\xe4\\xb1Rr{\\xf0)\\xb2[+\\xab1\\xe8\\x9d\\x87\\xad\\x1eAr\\xee\\x93\\xa5\\x1b\\x86V\\xf3\\xa4e\\xee\\xc9\\xf2\\xa8\\xfck\\xa8\\xfe\\xcc\\xb7\\xd3\\xe2TEid|\\x0c\\xb3\\xee\\xc5V\\xd1\\x90=\\x941B\\x01\\x01Ag#\\x81]>\\x9fk\\x1c\\xae\\x0b\\x01\\xb6>\\xe7\\xf8\\x8d\\x17!\\xb2\\x0bKx\\xed\\xad\\xd5\\xca\\x9d\\xc0u\\xc7\\x19\\xf6\\x14\\xcbh\\xc5\\xd6\\xa2\\xbb\\xf9\\x0cI\\xc1\\xef\\x8a\\xb7\\xaa\\xban\\xd8\\x84p*\\xa6\\x9e\\xe9\\x05\\xd2\\xb1\\xfb\\xc0\\x12\\xccz\\x01\\xe9R#7^\\xd3\"\\x96\\xe9\\x83\\x1d\\xa3\\xa0\\x1dq\\xeej+[k[\\x18\\xb7y\\x81\\xf6\\xf0\\x04`\\xf0~\\x9e\\xb5\\xa9\\xac6\\xf5`\\\\+9\\xc9`?J]28\\xcc&2\\xcbn\\xbd\\xc4c,\\xdfSI1\\x94\\xcd\\x82]8\\x92(\\xe4\\xdczy\\x99\\xe3\\xf5\\xab0\\xf8nGm\\xd2\\xb2 =B)&\\xb4\\xfe\\xd3mi\\xb5v\\xb0Q\\xd5\\xd9\\t\\xcf\\xe5\\xc5\\r\\xaaC1\\x1e]\\xf8O\\xf6H\\x03>\\xdc\\xd1\\xab\\r\\x08\\xa2\\xf0\\xd4\\x11\\xe3\\x13H\\xacNC\\x01\\x82+H[I\\xe5\\x95\\x94\\xac\\xa4tlr~\\xb5Dj\\xefn@\\x95\\xbc\\xc1\\x9e\\x0e0O\\xe28\\xabi\\x7f\\x1d\\xc9U\\x01\\x94ubx\\xa4\\xd9J\\xc6=\\xcc*\\x93\\t#\\x8f\\xc9`s\\xb4t>\\x84T\\x8c\\xb1\\xc8\\x9ez\\x05I\\x910\\xea>\\xeb\\x82=+J\\xf6Kk\\x85d8\\xdc\\xbd\\x1b\\x1d+1\\x15VM\\xbc\\x90\\xc3\\x00\\x8a\\x8b\\xd8\\xad\\xcer\\xf6\\x112\\xcb\\xb7\\n\\xdc\\x1c\\xfdx5Ann\\xd2\\xc9\\xe1\\x05Da\\xb7\\x0c\\x8c\\x9c\\x8fCZ\\xb7P\\x94\\x86~J\\x93\\x85\\xe7\\xebY\\xa0.\\xcc\\x07\\x19^v\\x83\\xc1\\x18\\xe4\\xd5&.\\x85d\\x89e\\x9e\\'\\x1bI\\x90\\x95\\nFH\\xf7\\xfeu\\xb3-\\xdck\\x18\\xd9\\xd3\\x9c\\xe4\\xfeB\\xb9\\xe0\\xf1\\t|\\xe5v\\xe3!@=\\xcdH\\xd7&\\xe2=\\xa5\\x8cV\\xc9\\xf2\\xb3\\x03\\xcb\\xfa\\x81U\\xa0\\xacZ[\\xaf6q\\x1ci\\xbb<\\xb3!\\xfe\\xb5\\xa4\\x96\\xd3L\\x8c\\xe0\\xaa)\\xe9\\x8e\\x17\\xf15\\x8cu\\x13\\x0cM\\x0c\\n\\xb1\\xa2\\x80QJ\\x16f\\xf4\\xe2\\x8bxu{\\xc6]\\xd3\\x90d;\\x95\\t<\\xfap:U\\x0e\\xc7C\\x06\\x91a\\xb4y\\xd7\\xc4\\xb8\\'\\x88P\\x10\\x0f\\xe3\\xd6\\x96m\\x1e\\xcd\\xf74wO\\x1b\\x7f\\xd3E\\n\\x08\\xfe\\x95\\x15\\xbf\\x85\\xee\\x965\\x92[\\xb4\\xc18r\\xf9?\\xcb\\xb5hA\\xa0\\xdb[3,\\xba\\x83\\xc7\\xbb\\x1bv\\x00T\\x8e\\xbf\\xc4\\r-\\x04b\\xdc\\xe9q\\xca\\xea\\x89\\x1b\\xdc)\\x1f}\\x17\\x04\\x1fN\\x7f\\xa1\\xac\\xef\\xb2\\xa5\\xb3\\xedut\\xdapT\\xa9V\\x1fPEw\\x10iA\\xa6\\x0b\\x04\\xd0]F\\x17\\xe7\\x0e\\x9b[=\\xb9\\x155\\xc7\\x87\"\\xb8RT<,:\\x05`\\xcb\\xf9\\x1a\\x10\\xd38\\x97\\x8e\\t\\xedYZE\\x0c\\x9c\\xf1\\xc1\\xfa\\x81U\\xe3\\xb5U\\x18\\x1f\\xbc\\\\\\xfd\\xe6\\xeb[\\xf7\\xda\\x1c\\x8a\\x9e_\\xd9\\x8b\\x04\\xfb\\x867\\xc6=p\\xad\\xd3\\xe9X\\xe9\\x13\\xc19\\x81\\xcb+\\x7fu\\x97i4\\xa5\\xa9p\\xb0\\x9fg\\x1bx\\x18\\x1e\\x95\\x1b\\xc2T\\xed\\x19\\xc0=\\r]+\\x8e\\x08 Tn\\x9f?\\xaf_\\xc6\\xb3\\xb1\\xb9I\\xd0\\xe3\\x9e=\\x85F\\xf1\\xf3\\xb8\\x85#\\x1d\\x08\\xce*\\xf7\\x92OQ\\x90;Pm\\x8eI \\xe0\\x8e1E\\x84\\xcc\\xe1,\\x8a\\x80\\x12H\\x1c(\\xcf\\x035\\xa9a\\xab\\x9be+*nR:\\x93\\x93Q\\xb5\\xb0\\xdd\\x8d\\xb8Z\\x8d\\xad\\x8f\\xde \\x9ai\\xb4L\\xa2\\x99\\xb9k\\xab\\xda\\xcc\\x8d\\x1eUW\\x92\\xa1\\x8f+\\xe9\\x8a\\x9a\\x0b\\x94K\\xa5\\x10\\xca\\xc1d\\xc1\\xdb\\x9f\\xba}+\\x9c{eS\\x90=\\xa9\\xe8\\x8e\\x8d\\xf2\\x9e\\x86\\xadL\\xc9\\xd2;\\xc8\\xe7\\xb5\\xb8!.1\\x14\\x84d:\\x9c+\\x0f\\xf1\\xa2\\xb8\\xd8\\xaf\\xa4Q\\x86\\x04\\x8f\\xf7\\xa8\\xaa\\xf6\\x91#\\x92G\\x9e\\x17U\\x1c\\x93\\x9fJc\\\\\\x06\\xc9E$\\xfbTi\\x13\\xc9\\xf3\\xc9\\x8d\\xbe\\x9e\\xb5 *\\xaav\\xe0}+k\\xa2\\xc4\\xdc\\xc7\\xef\\x9cg\\xb0\\xa6\\x84.B\\xe4\\xfb\\x92jT\\x8fy\\xf9\\xb9\\xcfAS\\x14\\xdb\\xd7\\xae1\\xd2\\xa5\\xb6&\\xca\\xeb\\x1a\\xfe9\\xf5\\xa9\\x92\\x12zb\\xa4XA\\xe4(\\'\\xf9\\x9a\\x99#lc\\x00z\\x8aW\\x15\\xc8\\xa3\\x8d\\x9c\\x10F1\\xde\\xae\\xc1l\\x0b*\\xed\\xc9=O\\xa5:+m\\xd8$\\x00\\x0fOz\\xd1\\xb6\\x89\\x10r\\xbe\\xdd*P\\xae$0F\\x99f\\xe4\\x8e\\xe4\\xf4\\xab\\t\\x08\\x9b\\x04\\x9d\\xaa9\\x00Q\\x1ao%\\x88\\x1e\\xc0T\\xef\\xbaO\\x91F\\xd5\\xf6\\xefHD\\x9b#\\t\\x84\\xeb\\xdc\\x8a\\x81\\xed\\xfc\\xd7\\xd9\\x86#\\x1dO\\x15n\\x18\\x82(\\\\\\xe5\\xbd\\xeaF\\xe0\\x92S>\\x82\\x80\\xb9C\\xec\\xec\\\\ P\\xa0z\\x1a\\x0cH\\xa1\\x91\\x07\\x18\\xe4\\xd5\\xa6?)\\xc6\\x10w8\\xaa\\xb6\\xce\\x04\\xcc0J\\xaf\\xf1\\x1e\\x94\\xc0\\xd4\\xd0f1\\xce\\xf1J\\xc1UTa}s\\xd0W[nd\\xf2\\xc2\\xc4\\x9b\\xc62q\\xda\\xb8\\xbd\\n\\xdf\\xedW\\xb3\\\\rP7S\\xdf\\xd2\\xbd\\x0fNP\\xb0|\\xab\\x8c\\x8c\\xd2{\\x8a\\xd72\\x12\\xdaI\\xe5\\x01\\xc3n\\xceM2\\xe6\\xd9c.\\xec\\xc0\\xaa\\x8e\\xdf\\xadl^; &277\\x15\\x97\\xa9[\\xbf\\xd8J\\x83\\x80\\xc3q\\xf7\\xfa\\xd4\\xf5\\x11\\x89sv\\xf7\\x16My(\\xfd\\xde\\xe6U\\\\\\xfd\\xdfO\\xadf\\xc1s\\xe5\\xb2\\xe4\\xc9\\x97\\xfb\\x8a9\\'\\xf0\\xadW\\xb6\\xf2\\xbc<\\xd9\\x00\\x85r\\xc4\\x1f\\xd2\\xb9\\x93w%\\xac\\xee\\xf0G\\x96|\\x05 d\\xfb\\xe2\\x9a)\\x1dl7-\\x00\\xcd\\xc4\\x8c\\xab\\x8e\\x13;\\x8f\\xe3Q\\xbe\\xa4\\x8f([{u}\\xc7\\xef0\\xcds\\x11]\\xcb9\\x1bdi\\x19\\xba\\x96\\xf9EYK\\xf5\\xb4\\x88\\xa4\\xb2\\x06n\\xfb==*\\x18\\xd27M\\xe0N\\x1d\\x94\\xb18\\xe0p=\\xaa\\xc4w\\x8a\\x97\\x0c\\xa1\\xf3\\x8e\\x00\\xcds+\\xa8\\xa6\\xd5&\"\\xaay\\x04\\xf6\\x15n\\xde\\xe5.X:\\x13\\x91\\xd4\\x81\\xc8\\xa8h\\xb4\\x8e\\x9d.U\\xd1\\x94\\xf3\\xbb\\xa6{\\x1abLL\\x8av|\\xc0\\xf7\\xfeuJ\\xdau.\\x18\\xb7\\xdd8\"\\xa5y\\xc1,\\xcaq\\xcfOZ\\xce\\xfd\\x07b\\x9e\\xa8\\xe8\\x8b\\x82\\x0b\\xe4\\xe7`\\x1fx\\xd7?p\\xeeP\\xb7\\x92\\x10\\xf2\\x06\\x0e\\x08\\xfa\\x8a\\xbb\\xaa\\xdf8bU\\x83{\\x03\\x9c}}\\xab\\x06[\\x96E\\xcb\\x8c\\xe4\\x91\\x901\\x83Z\\xc5h\\x02\\xdd\\x93\\x1e\\xc8\\xd5\\x94\\x12\\xbcg\\xb1\\xaa\\xcaU\\xd9\\xa5R\\x08\\x03k\\xee\\'\\x83\\xea*K\\x89\\x12t\\x9aBUZ5\\x1d\\x87\\xcc\\xa7\\xfc\\xf5\\xac\\xa1|\\xa9q+\\x80\\xdb\\\\p\\xab\\xc0\\xcf\\xbf\\xb5Z\\xd7ay\\x1b1\\x98\\xe7d\\xf2\\x8f\\x96\\xaa2\\xe7\\xa9?Z\\xdb\\xb4\\xbaX\\xc8\\x11\\xdf\\xb4H\\x80\\x84\\x0f\\x18\\xe4\\xfa\\x1a\\xe6-nc\\x86\\xe0mo\\x94\\x9e\\x02\\xf3\\xd7\\x9e\\xbe\\x95\\xd5\\xdbG\\x1bD\\x929\\x04\\xfa6)9XV4\\xadu\\xbb\\xa4`\\xed\\x14\\x17 \\xf0\\x02>\\xc21\\xf5\\xe3\\xf5\\xa9\\xed\\xbcC\\x0c\\x92\\xb6\\xe0\\xd0\\xb9\\xeaf^\\x95\\x97-\\xbaN\\xea\\xca\\xc6&\\x1e\\x83 \\xd0\\x88\\xb8X\\xe7b\\x14\\x1f\\x95\\xc1\\xe3\\xf2\\xed\\xf9\\xd2R\\xb8\\xb9N\\xce)\\xc8\\x89f\\x17\\x02E\\n7\\xbe\\xf1\\xb1}\\xb3Io\\xaf\\xd8\\xcb)_\\xb4\\x13\\x83\\x8c\\x91\\x8c\\xfe\\x15\\xcc=\\xb3\\xc6\\xa5\\xb0d\\xb7s\\xf3\"\\xf23\\xeb\\x81\\xd7\\xf0\\xc1\\xa8E\\xa8\\xdf\\x85\\xb8(\\xbcm\\x04df\\xb4L\\x9dN\\xef\\xed\\x16W\\x8b\\xb3\\xcc\\x8d\\xf3\\xfc$\\xe0\\xd6\\x16\\xbb\\xa1\\x19c\\xf3\\xa0m\\xe6>H\\'$VJ;\\xc7!,\\x91\\xb8^9\\x04u\\xf7\\xff\\x00\\xeb\\xd3\\xe5\\xd5n\\x9clB0\\x067\\xe7-\\x8fB{\\xfd\\r95k\\x97\\x1b\\xb6g\\xe4\\xb2\\xf3\\x90\\xc0\\xf3I\\xb0\\x928\\xe3\\xbd8#331\\xcej\\xd41\\x03\\xd4~\\xb5\\x91\\xd0\\x88\\x12\\x1eF\\x7fJ\\x99a\\xfe\\x12\\x06;\\x7f\\x85Z\\x11(\\x039\\xeb\\xd7\\x15\"\\xc61\\x9084!\\x94\\xfe\\xcc\\x08\\x1c~t\\xd4\\xb6Pz\\x13\\xceH5\\xa2\\x91\\xf6\\x1dM/\\x92A\\xce1\\xc78\\x14\\x01\\x98\\xb6|\\x8e=\\xe9\\xbfb\\x04\\xb6\\x17\\x93\\xd2\\xb6R B\\x922qG\\x92\\x03\\xf3\\xde\\x800^\\xcb\\xe7*G-\\xdb\\xe9Em\\xfd\\x941\\xdd\\x8c\\x12I\\xa2\\x95\\x80\\xf1gr\\xe7h\\xcf\\xe1\\xe9R\"c\\x07\\x8eF(H\\xff\\x00\\x8b?Z\\xb6\\x90\\xee\\xc68\\xf6\\xae\\xb6\\xcef5W\\x0b\\xc0\\xce:\\xfbS\\xd6\\x16y\\x06r\\x17\\x19\\xebR\\x80\"\\x07\\xbe})p]\\xb3\\xd0\\x1e1P&4\\x80\\x19\\x82\\xf2{\\x90*\\xed\\xb5\\xa2\\xb0\\x0cA\\xe7\\xa94\\xb6\\xf0n8\\xfe\\x11W\\xa2S\\xc2\\x0c\\xe0t\\x14\\x84\\xd8\"*\\xe4\\x9e\\x80q\\x9az\\xe4\\xe7 \\xa8\\xc7\\x15(\\x8b\\x903\\xdf\\x8a{\\xa0v\\x01A\\xe3\\xa9\\xa0\\x91b\\x1d\\x15:\\x1e\\xa6\\xad,L\\xa4\\x05P3\\xfcF\\x9b\\x1cb1\\x9e\\xc3\\xd2\\x9d\\xe6\\x97|\\x9c\\x8cp*F+\\x05Y\\x06\\x0eO\\xadJ\\x8c\\xcd\\xd9@\\xeeOz\\xa4%\\x01\\xd8\\x90H\\x079\\x14\\xc6\\xb9\\x93s\\x14\\x04(\\xf5\\xedUa\\x13]\\xf4)\\x1e\\x0bw>\\x95\\x02C!\\x81\\x93n\\xc2\\xc3\\x82q\\xcd9%^N\\xf1\\x929\\x04T\\xa5\\xd6g\\x00`\\xfb\\xe6\\x93\\x04_\\xf0\\xdc\\x91\\xc5\\x11\\x84\\xe02\\xb6\\t\\xcf\\x15\\xda$\\xe8\\xb0d>2:\\xd7\\x9c\\x18d\\xb4\\xb8\\x12#`;\\x0c\\x8e\\xc2\\xbah\\xee\\xde\\xe3dhH\\x8d\\x10\\x16\\xe7\\x9aM\\t\\x9a\\x12^no\\x98\\xe3q\\xda=qL\\xb8\\xbf[\\xdbq\\n\\x0cg\\x82Oz\\xce!\\xa7y2\\xddzc\\xb0\\xa1\\xe4\\xfb,\\'g%\\x1b&\\x8e\\xa0\\x88\\xf5\\x89Bi\\xadfr\\x19\\x98\\x10\\xe7\\x80G\\xbdq\\x97\\xa0\\xef\\xdc\\xaf#:\\xf6E\\xc0\\x1d\\xaa\\xff\\x00\\x885Qqx\\x8a\\xb2\\x1d\\x8b\\xcb(\\x15\\x89<\\xd2\\x05b\\x933+t#\\xa8\\xfa\\xd1cH\\x91M\\xa9\\xdc\\xdb;E\\x18\\xca\\xb9\\xc0\\xe3\\x05~\\x95\\x02\\\\H$d\\x92B\\x8c\\xdf3\\x0cg\\x07\\x1c~&\\x9fs\\xf6\\x8bX\"\\xbd(7!*y\\x04{dVT7\\x0c\\xeb\\xe6#\\xb3M\\xbc\\x92\\x84d\\x1f\\x7f\\xce\\x9d\\xba\\x94\\x95\\xce\\x82\\xca\\xce\\xee\\xe7c\\xccH\\x18\\'\\x96\\x00V\\xdcv\\x8e\\x88\\x84Jb\\xe9\\xb4\\x82\\x00\\xac\\x9bk\\xf9\\x12\\xd9C\\xb0v+\\xb8\\xb3\\xae\\xcd\\xbe\\xde\\xf5*\\xce\\x15\\x15\\xe4\\xe5\\xb3\\x85~\\x87\\x1d\\xc7\\xff\\x00^\\xb3\\x92\\xd4=N\\x85%)\\x08V\\x95x\\x07/\\xd7&\\xa1}Dl(Y\\x89#\\xef\\x0e\\x05a\\xdc\\xea\\x01\\n\\xc6\\xa8\\xac\\x08\\xcb\\xb2\\xb9=j\\xad\\xdd\\xf3\\xb4j\\xe8\\x14\\x1cc\\x06\\xa5Df\\x99\\xbe\\x8e\\xe4H\\x03\\xaa\\x95\\\\\\x0c\\x8c\\x83\\xfe5\\x9d0gG(6\\xba.p\\xa7\\x86\\xf7\\x1f\\xe1Y\\xdfh\\x95\\x9c6\\xec\\xb6x\\xc7r;U\\xd5\\xb8\\xf3\\\\I\\x1c[1\\xf30\\xdd\\x9cdsUk\\t\\x8cI6[\\xcb\\xbd\\x8a\\xeeB\\nm\\xceA\\xea=\\xbdk9\\xa0\\x96\\'\\x88:\\xfc\\xa7%\\x0fM\\xe3\\xa1\\xc1\\xab\\xd2\\xbb\\xdb\\xca\\xf1\\xc9 \\x95cl\\x16\\';\\x94\\x8c\\xe4{\\xe3\\xf9So\\x80\\xb9\\x08@\\x05A\\xdc\\x11O\\x01[\\xae=\\xf8\\xaa@6\\xc5\\x0c\\x93\\x81 \\xde\\x1b\\xe58\\xe3\\x8fB?\\n\\xeb\\xa1\\x90\\xc4\\x8a\\x8a\\x03\\xa8\\x18\\x04\\xf0k\\x8f\\xb6\\x9b\\xec\\xae\\xce\\xa0\\x12\\xa7\\xe5-\\x91\\xc5]]^C\\xb4\\x93\\x80I\\xc6A*H\\xa9\\x92lgR\\xf2\\xba!*2\\xc7\\xfb\\xdd\\xbf*\\xa6\\xd3\\xcc\\xcc\\x19.\\x926\\x07\\xa0<7\\xb1\\x07\\xadC\\xa6j\\x86G\"B\\x00\\xdb\\xc9\\xc7c\\xf8\\xd6\\xa5\\xb8\\xb4\\x95U\\n\\x03\\xf3r\\x8c\\x98\\x19\\x1e\\x94$\\xd1.\\xc4v\\xba\\x8d\\xd5\\xb4\\x808\\x0f\\x0fI\\x11H\\x01\\xb9\\xe0\\xaf\\xa1\\xad;\\x9b\\x98<\\xac\\x87w\\x8d\\xf0C\\xf0\\xac\\xad\\xe8}j\\x13\\xa3\\xc6\\xc1\\x9a\\xd9\\x9a/\\x9b\\x8d\\xff\\x00:\\xe3\\xd3=G\\xe5POa4\\'k\\xdb\\xb0\\x84\\x8f\\xbc\\xb9t8\\xeb\\x82:\\x11\\xe9T\\x85\\xa1a\\x0b:,m/\\x96\\xd9\\xc2H9C\\x9e\\xcc\\x07C\\xee)62\\xb1W?6y\\xc1\\xebPY\\xc6\"\\x9cC#\\xf9\\x90\\xb1\\xca\\xbez~5y\\x13t\\x87\\x92G\\xa9\\xefS&i\\x05`\\x82\\x16~G\\xe7W\\x12\\x00:\\xf5\\xa7A\\x1f\\xa8\\xc0\\xabK\\x1eG\\xff\\x00Z\\xa4\\xd4\\x85P\\xf4\\x185 \\x8f\\x00\\x1c~\\x15\"\\xa7<\\x8e\\x9d\\xc5<(\\xfc=\\xe9\\x81\\x18\\x8f\\xbe1\\xf4\\xa9\\x0c|\\x12q\\xcfjz\\x94\\x1cT\\x88\\xa4\\xf0zg\\x8a\\x00\\x8d\"\\xc8\\x19=\\xb1A\\x88\\x92r?/Z\\xb2\\xa9\\x80)\\xe5\\x00\\x1cri\\x8c\\xaa\\xd1\\x9d\\xbdpM\\x15d \\xcez\\xf1E!\\x9e\\x15\\x04lI\\xfc9\\xabJ\\x88\\x07\\xceAc\\xd8R+\\xed\\xe1Ps\\xdcS\\xc4,\\xd9rF+\\xa4\\xe4z\\x8ddl\\x96=}\\x05I\\nn\\'<S~v?/\\x03\\xde\\xa7\\xb7FfP>bi4Ib\\x04\\xd9\\xb5P\\xf5\\xad\\x18`\\xf9\\x7f\\x995\\x1d\\xbd\\xba\\xaf\\x00e\\xbb\\x9a\\xb4\\xe7\\xcb\\x8f\\x1cd\\x8e\\x9e\\x95\"l\\x8c\\x90~\\xefn*Hp\\xab\\xcfs\\x80E28Y\\xcf\\x19\\xc1\\xa9\\xc2*0\\nz~\\x94\\x01$\\x9bT\\x00zc8\\xaa\\xec\\xe4\\xa9\\xc0\\xc6Ojs\\xa9\\\\\\xc8\\xef\\x92z\\n\\xad3\\x90\\x069\\xc7\\xe1@\\x04\\xceU\\n\\xe0\\x0c\\x9e\\xa6\\x91\\x10\\xb4L\\x19\\xb7\\x1ct\\xaa\\xe4\\xbb6\\xe6 \\x8fL\\xe2\\xa6Y\\x80\\x84\\xb0\\x18 \\xfaP;\\rs\\x85\\xd8\\xa0\\x16<sR\\xe9\\xd6\\xea\\xb2\\xefebz\\x9cU\\x17g\\x99\\xf7\\x07\\xf9\\x89\\xe2\\xb5t\\xf2\\xc8B\\xb3v\\xe7p\\xef\\xf5\\xa4\\xc4Ox\\xe1\\xd4G\\x1ac\\xdc\\x8fJe\\x8d\\xcd\\xc5\\xbc\\x85\\x91K\\xee\\x18$\\xd3\\xe4p\\\\\\xeee\\xc0\\xeb\\x81\\xd6\\xa4\\xb4!\\xa4\\x08\\x84g\\xd8\\xd4\\xde\\xc3,\\xa7\\xdab- R\\xca\\xeb\\x8c{\\xd5)o\\xe4\\xda\\xc6O\\x91\\xc0\\xc3\\x03[\\xa8\\xea\\x9f+\\x0f\\x94\\x0e\\xb5\\xcdx\\x91\\xd5w\\x15\\x91B\\x91\\xfc=M\\x11w\\x03\\x19\"{\\xfb\\xa9\\x18\\x0c\\xaf \\xb7LS\\xd3D\"V\\x12\\x06t#\\x83\\x8c\\x0fph\\xd1!e262X\\x80\\xa4\\xb6\\x06G\\xad_\\xbcr\\x80y\\x93\\xee\\xf4D\\xea)7\\xad\\x8a0\\xae,#ra\\x1b\\x86N\\n\\x1e\\x8a+.\\xeb@\\xba\\xb6v\\x926V\\\\\\xe7\\xe48\\xc5l\\xc8\\x81\\xe5\\xdc\\x03\\x0c\\xf7\\xdd\\xebV\\xa3\\xb6Wf\\x0e\\xec\\xea89\\x15i\\xb4;\\xb4r\\xea\\x97\\xcc\\x9b\\xdeM\\xa0\\x1c`\\xf59\\xf4\\x15f1,H\\x15\\xe4%\\xbd\\x0fz\\xe9\\x7f\\xb2\\xa3\\xc3:D\\xfc/\\xca;\\x9fSY\\xf7\\x16\\xac\\x84\\x19\\x10\\xb3\\x93\\x9d\\xa0\\xff\\x00ZM\\xdcjW)\\xa8\\x11(g*\\xdb\\xd3%\\xcf\\x1c\\x0e\\xc3\\xf1\\xa8\\xa5%\\xfep\\xe0\\x86##\\xa5k&\\x9a\\x15|\\xc9\\x10\\xaa\\xa0\\xe5\\x80\\xc8\\xdb\\xdf\\x8fj\\xd6\\xb9\\xf0\\xfd\\xbcv\\x88\\xf1\\xb8\\x91S\\xe6\\xc8\\x1dG_\\xe4jt\\xea&\\xd1\\xcfivb\\xe6\\\\\\xcc\\x9b\\x93\\xee\\xae;\\x13\\xcejmF\\xd1\\xac.\\x82\\x11\\x85u\\xf9J\\xf1\\xbb\\x83\\xcdm\\xc3f H\\xe3\\x8f\\xe6,\\xe7$\\x0c\\xf2h\\xd54\\xe7\\x9a\\xda7~^&\\xe0\\x01\\xc9S\\xd7\\xf5\\xa7{\\xb0\\xb9\\xca:\\x89\\x19\\xbc\\xc7\\xf9\\xc2\\x86\\x07\\xa6\\xe2:\\x8f\\xca\\xa6\\xfb;\\x15@\\xa9\\x9d\\xa0\\xed>\\xd9\\xc8\\xcdM}fU\\xb7\\x05\\n[\\x90@\\xe0\\x95\\xebK\\x10\\x12\\xdb\\xc6\\xc8\\xde\\xa1\\xb1\\xfc$\\x1e\\xff\\x00\\x85\\x1b\\x8c\\x8b\\xcb%X\\x13\\xb5{\\x92\\t\\xe6\\xab\\xcd\\x1a\\xab3\\xa3l\\xda~\\\\\\x12\\x085\\xaa\\xd1\\x9f+,\\x08\\x0c>_LT0\\xdbe\\x19C\\xee`\\xdc\\xa9Q\\xcf\\xbd\\x08.Q\\xb6\\x9f\\xc9\\xb9W\\x8e@\\xcd\\xdf\\xf1\\xf5\\x07\\xaf\\x19\\xad\\xdbiXNJ\\xe7p\\xc6S\\x04\\x1fb\\x05D\\x12\\x08\\xa6W\\x99\\xe0w\\xc7\\xf7\\t\\xc68\\x1c\\x8a\\x9f\\x19\\x9b\\xe4\\xb6\\x87\\xe6\\x1b\\x92TW\\x04\\xfe\\x04\\xd3\\xb0\\x9b:}+Y\\x95\\x9d\\x10\\x88\\xe6\\xc8*\\xc3n\\xd6*=s\\xc3~\\x18\\xed[\\xed\\x1c2[y\\xf6\\xfb\\x9e>\\x8c\\x17\\x96C\\xe8A\\xea?Z\\xe7<=wir\\xe2\\xce\\xee$\\xdcNC\\x8e\\x0ezdV\\xaa\\xdcI\\xa5j>T\\xa8\\x1a&\\x1b[\\x00\\r\\xeb\\x9e\\x1b\\xd3##\\xf5\\xa3BR\\xd4\\xabsl\\xb1\\xca\\xbb\\x00\\nG\\x04\\x0e\\x08\\xf5\\x155\\xbc<\\x0e?J}\\xccl\\xb7M\\x19}\\xca\\x8c@\\xc5X\\x82>:u\\xebY\\xdc\\xe8\\x8e\\xc4\\x91\\xc7\\x8a\\x94&3\\xc8\\xfci@\\x01r\\x055\\x8bv\\xeai\\x14#\\xb8_ADj\\xcc\\xd9 \\x81\\xefK\\x1d\\xbe[|\\x9c\\x9fJ\\xb2\\x14\\x0e\\x9d)\\x80\\xc4O\\xa6\\x0f\\xadL\\x80t\\xe34\\xd1\\xcd<-4\\x02\\xe0\\x0e\\x06i\\xd8\\x1bs\\xd0\\xd0\\x01\\x03\\x81\\x9f\\xad*\\xfc\\xc3\\xa1\\xfc\\xa8\\x18\\x98\\xe7\\xa5\\x14\\xa1p\\xdcQH\\x0f\\n\\x0e\\x10\\x0f\\x97\\xdb5:\\x1c\\x91\\xcer:S\\x14\\x16\\x07o>\\xf5b8\\x8e\\xe0{\\xd7I\\xc8\\xc5H\\xcc\\x87\\xa6+B\\xde<|\\xb1\\x8eq\\xc95\\n0\\x8dr1\\xb8\\x8c`U\\xbbw.\\xe1\\x00 w\\xcfzL\\x92\\xed\\xbcb5;\\x8f>\\xb5ZF/q\\x81\\x83\\xd8T\\xee\\xe6(H\\xceX\\xfaR[\\x00\\x83\\xcca\\x96\\xedKa\\x12\\x82cE\\x04\\xe0\\xf7\\xa6\\xeeTR\\xcc\\xdd\\xf3\\xcdE,\\x80\\xc9\\x83\\xc6\\x7fJ\\x91\\n\\xb2\\x90\\xc9\\xf2\\xa8\\xe0\\x9aC\\x18\\xe3ro\\x04\\x0fj\\xa6\\xf2\\xb3\\x16B1\\xcf4\\x97S\\xae\\xe0\\x8a\\xcc\\t=\\x05X\\xb2\\xb5eB\\xce\\xa5\\x81\\xe8)\\xd8\\x08^5\\xc0 \\xe4\\x0e\\xc2\\x9a\\xd1\\x95P@\\xf9[\\xa8\\xcfJ\\xbea\\n\\xa5\\xf6\\x1d\\xb5\\x1c\\xf0\\x9f \\x949_J\\x12\\x02\\xac6\\xdb\\xd80\\x05B\\xf4 \\xf5\\xad5y\\xa2E\\x00\\x0cz\\xe35Z\\xd5\\x89O\\x98\\x8cg\\xadY{\\x90\\xaa\\x140\\xcfn3H\\n\\xd3\\x87 \\xc8\\xcf\\x85\\xc7<T\\xbal\\xbe[\\xb3\\x03\\x96<\\x03\\xe9T\\xa6\\x96B\\xed\\xbc\\x03\\xedP\\xc7}\\xb2W\\xd9\\xce\\x06*\\x1a\\xb9I\\x1b\\xd7\\x9a\\x80\\x8a\\xdc\\xb1on\\xbc\\x9a\\xe4\\xe5\\x92[\\x99\\xdaFr>\\xbc\\xff\\x00\\x93KqxneTb\\xc0\\xf2B\\x8a\\x96\\xca8\\xee\\xdc\\xb1? \\xe3\\x96\\xc6}\\xc55\\xa0\\xd2\\xb0\\xeb_-\\x01\\n\\xa5\\x89\\xe4\\xa2\\xf1\\x9a\\x96Ky\\xd6!$\\x84F\\xb26Dc\\xa8\\x1d\\x8ek~\\xc6=\\x1a\\xd5PH\\xb1\\xb3\\x01\\x8e\\x1a\\xb5\\x12\\xf3\\xc3\\xaf\\x19\\x8b\\xc9W\\x07\\xb6OZW\\x13g\\x17\\x0c\\x1e{\\x83 \\'\\x07\\x83\\xd2\\xb4\\x049\\xc6\\x00\\x88\\x8e\\xa5{WI\\x12xzV\\xd8c\\x10\\xe4\\xe0o?(\\xabW\\xba\\x15\\xaf\\x90\\x1e\\r\\x92DFx\\xe4\\x7f:.\\x82\\xe7+3\\xc8\\xd1\\x85\\xdeK;\\x01\\xb8\\x9eB\\xf7\\xa2\\x1b`\\x9f<\\xa82\\x1b*\\xc5s\\xf9\\xfa\\x8a\\xd5\\x8a\\xca\\xdb\\x85\\x926\\x00\\x7f\\x12\\xb6\\x7fJ\\xcf\\xbb\\xbb\\x8e\\x17e\\x8d\\xdb\\xe5c\\xc3\\x1e?\\xfa\\xd4\\xae\\x86\\x8a\\xf3\\x89.\\x03\\xa8\\n\\xa4\\x9c\\xa1S\\xf2\\x93\\xd3\\x15_F\\xd5\\x96\\x17:u\\xe3l\\xf2\\xce\\xd4\\xdey+\\x9cc\\xf0\\xfeU\\x15\\xcd\\xc3\\x94*\\x8c\\xb1\\x93\\x96\\x1e\\x87\\xe9\\\\\\xde\\xa9r\\xf2\\\\E0m\\x93(\\xda\\xfe\\xf8\\xe8E5g\\xa0\\xecv\\x9fj\\x8e\\x1b\\xc6\\xb5\\x05IRYX\\xf5\\xc1\\x1d\\x7f*\\xafu\\xae\\xc5,`\\x0c\\x85\\xc7\\xccOc\\x9a\\xe5\\xfe\\xd74\\x9f\\xbdi0\\xc4u\\x1c\\x1c\\x8f\\xfe\\xb5U7r\\x0bf\\xc1\\x05\\x9d\\xfd9\\xff\\x009\\xa1+\\xea\\x165\\xa7\\xd4\\xbe\\xd5<!\\x00hbc\\xb8t\\xc9#\\x04\\x03\\xf4\\xe6\\xaf=\\xdd\\xa5\\xad\\xa4v\\xa8\\xca\\xfb>i\\x00\\x1c\\xb9\\xeb\\xc9\\xf4\\xc7\\x15\\xcf[+\\x85X\\xe3\\x07r\\xe5\\x9c\\xf6_zF\\xf3&\\x99c\\x88q\\'\\xca\\x00\\xea}\\xe8\\xb6\\xba\\x0e\\xc8\\xd4K\\x9b\\x9dV\\xe4\\xc7j6F\\xbc\\x17\\xf4\\xf6\\x1e\\xd5\\xafm\\xa5^[2\\xa9e\\x19^y\\xce\\xe0>\\xb5gG\\xd1\\xe4\\xb0\\xb5RFY\\x86\\xed\\xb5\\xd1-\\x8b\\xde\\xda\\x98\\xc0]\\xd9\\xdc\\\\\\xb7&\\x9bk\\xa1-\\xeab\\xb6\\x96\\xb7\\x1bd\\xf2\\xf6\\xe5s\\x90:\\xe3\\xaf\\xff\\x00\\xaa\\x9b:\\xc4\\x96\\xe6\\x12\\x9e\\\\\\xc8\\xa4\\xe5\\x7f\\x89{\\xfeG\\xf4\\xad\\xc6U\\x82\\x16\\x88\\x92\\xbe\\xecrA\\x1e\\xf5\\xcej\\x8eQ<\\xf02\\x10\\xfa\\xe4(\\xc8\\x07\\xf9\\x8a\\x01nU\\xb0\\xb7/q\\xe6:\\x98\\xe6W\\xe3i\\xf4\\xef\\x9a\\xe9\\xbe\\xd9%\\xc2,S\\x80\\xcc\\x87(\\xc3\\x8c{}1X\\xfaZ\\x86\\x1b\\xb6\\xe0\\x0c\\xe0\\x7f\\x9e\\xd5\\xa6\\x8b\\x89\\xb3\\x9a\\x87-ll\\xa2\\xaci\\xdb&q\\xcex\\xad(\\xd7\\x8cU;E8\\x1fJ\\xd0\\x8ds\\x8a\\x91\\x8aW\\x8aD\\x8b\\x9d\\xc7\\x1fJ\\x95\\x14s\\x9a]\\xb4\\xca\\x11T\\x01\\xd6\\x9czsJ\\xab\\x81\\xd3\\xad(N}h$\\x00\\x1cc\\xf3\\xa5\\x19\\x07\\xb9\\xa3i\\x07\\x9aFb;\\xd3(qn1\\xcf4\\xe0x\\xeb\\xd6\\xa0\\xde\\x02\\xd2y\\xc1~\\xf1\\xc0\\xa4\\x04\\xe0\\xf3\\xd7\\x8fJ*\\xa3^\\xc2\\x9f\\xc4\\x0f\\xb9\\xa2\\x81\\x9e<\\x89\\xe60e$/\\xa7\\xadY\\xdcb\\xe7?1\\xfd*\\x95\\xbb\\xaa\\xa1PO\\xcb\\xea{\\xd5\\x80\\xfb\\xc7$\\x93\\xdb\\x15\\xd2q\\x97!\\x90p\\x152O\\xe9Z1\\x10pB\\x00\\xc6\\xb2\\xed\\xd8\\x8c\\x81\\x83\\xed\\xde\\xb5!r\\x91\\xe4\\xfd\\xecd\\xfdi\\t\\x891$\\x95\\'\\x07\\xbdJ\\xff\\x00\\xb8\\xb7,X\\x06\\xdb\\xf2\\xf3P\\xa9\\xde\\xb9?|\\xf5\\xaaz\\xc4\\xe1\\x11#\\x0cAn3E\\xae!\\xd6\\xed#6\\xf9\\x18\\x12\\x0eF\\xea\\x92[\\x96;\\xa3-\\xf2\\xe3\\xa8\\xaai+\\x10\\x11\\x10\\xb0\\x00\\x0c\\xd6\\xb5\\x8e\\x9a\\x97%|\\xc2p{R\\xba\\xdd\\x8c\\xa9\\r\\xaa3\\x87l\\xb1<\\x91].\\x9c\\x96\\xf2&\\xc6\\x04m\\x1c\\x03M\\xfe\\xc8\\x82<*n-\\x8c\\xf0zU\\x8b{\\x0f\\'\\x04\\x16\\x06\\xa5\\x89\\x96f\\xd3\\xa1\\x96<&\\x08\\xc7#\\xb8\\xac\\x1b\\xbd5\\xed\\x99\\x84d\\xb7\\xb1\\xad\\xa9\\x12Hr\\xe9&\\xd3YwZ\\xb3\\x82c\\x9bl\\x8d\\xe8\\x074&\\tjsm4\\x96\\x92\\x95(\\xc0\\xe7\\xa5Y\\x8a\\xe1\\xe5o.5POs\\xda\\x9f\\xa8]XO\\xc3!I\\xbb\\x12j\\x8c\\x00\\x97\\xc4n\\x0f<\\x81\\xcd=7(\\xb34\\x0e\\xbb\\x8c\\xb2\\x03\\xc7E5\\x9a\\xae\\x12G\\xe3\\x902\\x14\\x0e\\xa0V\\x85\\xca8\\x88\\xb8l\\x1cr\\xa2\\xb2\\xd6;Yg\\x8c\\xbd\\xd1\\x8aRpw\\x8e)\\r\"\\x95\\xc5\\xc9\\x0c\\xcc\\x87\\xe6\\'\\xb0\\xe9N\\xb3\\xb9m\\xc1\\x02\\x86^\\x07\\xe3[Rx}\\x19<\\xc4PT\\xf3\\x94q\\xcf\\xadB\\xdatv\\xd0)E\\x9de\\r\\xdd8\\xf6\\xe6\\x84\\xd3Eh\"\\xc6\\xc0\\x16\\x1b\\xbdFO\\x14\\xe1\\x13\\xb1R\\xf7\\x18\\\\d\\xaf\\xa5!y\\xcb*\\xb9\\xca\\x8e\\x0e\\x07\\xcdC\\xc2\\xa1\\x84\\xd23\\xa6\\xc5\\xea\\xd8\\xe7\\xe9J\\xec\\x93Q\\x1d\\xbc\\x95Fq\\x90>R[\\xaf\\xb5:\\xd3^\\x9bM\\x93f\\xf3\\xb3\\xf8\\x91\\x9f\\x035\\x8f\\x1e$|\\xa9fS\\xc0\\x18\\xc8>\\xe6\\xb4\\xa3\\xb0\\xfbR\\x1c\\xc1 \\x91xP\\x13poj\\x07\\xa7Q\\xf7^$y\\x9d]`*wg \\xe35\\x9f5\\xcb\\xdf6\\xf0\\xbbd\\x03\\x91\\x8cf\\xaeI\\xa2H\\x8e~F\\x8f\\x04\\x03\\x19\\x18\\xfc\\xaa\\x06\\xd3dfg\\x89\\x99J\\x9f\\x98t#\\xfc\\xfa\\xd4]\\x14C\\x86b\"\\x90\\x10@\\xca\\x93Y\\x9a\\x9d\\x93n\\x12\\x14<rG\\\\\\xe2\\xb5V9A\\xd8\\xccK \\xe8z\\xa9\\xa77\\x97<\\x0c\\xaf\\x81\"\\xf3\\x86\\x1f\\xe7\\x8a\\xad\\x85s\\x13\\xec\\xf9\\x81\\x1c\\x96\\xdb \\xed\\xea?\\xfa\\xd5MQ|\\xf5\\x19;W$c\\xd7<V\\xd4Jc\\xb619?+\\x86_\\xe5T\\xe2\\xb6B\\xf9$\\x85\\xc9\\xc3S@\\x98\\xd9@\\x86\\x03m\\x1a\\xe1\\xa4\\xc1\\x91\\xfa\\xd4\\x96\\xae,\\x99\\x1f\\xca\\\\\\x821\\xef\\xdc\\x0f\\xa5=\\xdd\\x11J\\xa8\\xcb\\x91\\xcbg\\xa7\\xb0\\xaa\\x12\\xbb4\\xc4\\x0c\\x8f\\xf6\\x9f\\xb5\\x1b\\x8d\\x1d\\x9b\\xf8\\x92\\x18\\xe0Vg\\x08J\\xfc\\xc0\\x9e\\x7f\\x01M\\xb1\\xf1\\xbd\\xbc%@\\xb4f\\\\\\xf6\\xe4\\x91\\xdc\\xd7\\x14\\xb1\\x89_!\\xf2X\\xe3\\x9a\\xd8\\xd34i\\'`G\\x038\\x07\\xfc)Y!\\xb8\\xad\\x8e\\xfe\\xd7X\\xb1\\xd5!\\xcc)\\x18\\xe3\\x0c\\x8f\\x90\\xc2\\xa8_\\xd8Y\\xdd\\xdb\\xcamY\\xe3}\\x87|$\\x82q\\xdc\\x81\\xfcC\\xf5\\x15\\x98\\x9a%\\xcd\\xbb,\\xb6\\x92\\xa9l\\xfc\\xac\\xa7\\x05}A\\x15\\xb6\\xba}\\xc4\\xae\\x97\\x0b\\xb4]FC+\\xa3\\x0f\\xbd\\xdf\\x8f\\x7fJI\\xab\\x11k\\x19\\xfa:7\\x90\\xaa\\xce\\x1f\\x03\\xa8=kJ\\x15\\xdf9\\xcfAHm\\xbc\\x8b\\xc3\\xb23\\x18|\\x97N\\x81\\x1b\\xb8\\x1e\\xd5$<O\\xc0\\xf6\\xa9\\x96\\xe6\\xf1wF\\xbc\\t\\x85\\x02\\xaf\\xa2\\xe0{\\xfa\\xd5+~F}8\\xab\\xc8>\\\\\\x9e\\x94\\x80S\\x8e\\xb8\\xa4\\xdd\\xde\\x98\\xd9w\\xeb\\xf2\\x8ey\\xa7\\xaf\\'\\xa6)\\x94H\\x9d9\\xebR\\x01\\x81\\xc7\\xe7MD={\\n\\x99W\\x03 }3LL\\x8d\\x97\\x19\\xc8?\\x9dD\\xf9\\x03\\'\\xee\\xfa\\xd5\\x97\\x07nO_J\\xa3p\\xf9\\xe0\\x8c\\xfa\\x01@\"\\t\\xaev\\xfd\\xd3\\xd7\\xf5\\xaa\\x8eds\\x92\\x0f\\xd0\\xf3\\x9a\\xb8\\x96\\xd9\\xcb\\xbfSRy\\x1f/\\xa0\\xf6\\x14XfT\\x91\\xb0#9\\xfaQW\\xdd6\\xfc\\xa9\\xc5\\x14\\n\\xe7\\x8e\\xe3hf\\xc7\\xca\\x07\\x0b\\xeajH$f8\\x1c\\x01\\xeb\\xda\\xa1\\x99\\x88^N\\xd5\\x07\\xbf\\x19\\xa7DIP\\xca\\x08P9\\xf75\\xd2\\xceSJ\\xdd\\xd1A\\x00s\\xda\\xb5#p#\\xcc\\x98\\xe9\\x9cVTp\\xb6\\xd1*\\r\\xc0\\xf2H\\xefS\\xbc\\xbb\\xdczpX\\xd4\\xd8\\x92\\xc5\\xc3\\x14e\\xdb\\xf2(\\x19\\xcez\\xd6\\\\\\x93,\\xd338\\xcf?(n\\xd5-\\xf5\\xd7\\x98\\xfc\\x1e\\x00\\xeck)$2.\\x06X\\x83\\xdc\\xf5\\xa2\\xda\\x0c\\xe8,\\x802*\\xbaaN\\x00u=k\\xaf\\xd3\\xac\\x91\\x94\\x02\\xb9 p\\xc3\\xbdr\\xfe\\x1b\\xb2\\x9eVg\\x99\\xbfv8\\xc7j\\xef4\\xf7\\x82=\\xaeH\\n\\x9d\\xbdk&\\xf5\\x1b,Cd\\xb6\\xf6\\xe1\\xddIv\\x199\\xaa\\xcfr\\xcc\\xc5#\\x8dGbMY\\xbc\\xd4!\\x9e<!#\\xdf5\\x94\\x97BW\\xda\\x83*\\x0e3I\\xbb\\t#N=.\\x19!.\\xcf\\x96\\xc5`\\xdc\\xe8\\xa9\\x15\\x9c\\xb7]X\\xee\\xe0\\xf6\\xe6\\xb7a/\\x18RU\\x82\\x9e\\xf4\\xe9\\xd29\\xac^.9\\xcf\\x19\\xa1H-c\\xcb.a\\xcd\\xdbn\\xe0\\xe3\\x82E:\\xd6\\xd5Co\\xf3\\x18/e\\x06\\xb4\\xb5[c\\x14\\xca\\xa5wd\\xe0S\\xad\\xecg@\\xae\"\\xc8=\\xb3\\xd2\\xae\\xe5=\\x8c\\xfb\\xd2\\xd1\\xc0\\xccAU^\\x83\\xd6\\xb9\\xd2\\xce\\x1df\\x94eI\\xc2\\x8a\\xe8u\\xbf;z\\xc4\\x13;\\x86\\x0e9\\xe2\\xb3.ai\\x02\\xc6T\\x8e\\x80\\x0cS\\x08\\x97<8n\\xee\\xaf\\x08\\x8eq\\x12\\x83\\x86\\xc8\\xc8\\x0b\\x8a\\xda\\xb8\\x9e(d`$fU\\xe9\\xc7\\x7f\\xa5f\\xdb;X[}\\x9a,\\x06q\\xf3m\\x19\\xc5O\\r\\xb1uWq\\x82\\xc7$\\x8es\\xe9R1\\xc3\\xcbu2\\x00\\xdb\\x8f\\x19<sN]=dm\\xc5=\\xb71\\xcf\\xe9[zG\\x87\\xe4\\xba@\\x16\\x16\\xd8NK9\\xf9En\\xcb\\xa5Y\\xe9\\xb6\\xf9}\\xb2JG\\x00\\xff\\x00\\x85Cv\\x1d\\xcc\\r7B\\x82\\xdd\\x05\\xc5\\xdc\\x8a\\x98\\x1c&GJ\\xdd\\x87Z\\xd2\\xecW\\x02H\\xf0\\xbc\\x02\\xaasX\\xb3Fn$\"4\\x92L\\x1fN)\\xe3Iy\\xd0y\\x9eQ>\\x8d\\x9e?*/\\xdc,_\\xd4\\xaft\\xbb\\xf8\\xc4\\xben\\x1c\\xf1\\xb8\\x0c\\xe7\\xd2\\xb1\\xde;k\\x826\\xc8\\xa9\"\\xf1\\x90v\\xee\\x15-\\xcd\\x9a\\xc5\\x1f\\xcb\\x1a\\x96\\xe9\\x90\\xb5\\x81s:Bv\\x98\\xca\\x92\\x7f\\x88q\\xf8\\x1fJ\\x12\\xec$\\x82\\xeeH\\xe2f\\x07\\xe5el+\\x81\\xd3\\xd8\\xd5)\\xa7*\\xe1\\xd1U\\xf6\\x8eO\\xb1\\xecje\\x10\\xdd\\x06Y\\x01\\xc0\\x1d\\x0f\\x07\\xf3\\xaa\\x13@\\xd6\\xceq\\xb9\\xa3\\xc7=\\xc0\\xf6\\xa6;\\x16\\x99\\xe3\\xb9\\x88\\xb4M\\x92\\xad\\x86V\\xec\\rD|\\xb8!h\\xf6\\xe4\\xb1\\xf9\\x07\\xa0\\xaa\\x08\\xd8]\\xf1\\xb0\\xfb\\xd8\\'\\xd6\\xa4[\\x92\\xd3*\\xb0\\xe4v\\x1c\\xe4\\xff\\x00\\xfa\\xa9\\xdc\\x1fp\\x9a=\\xec#\\xc9\\x0c\\xc0\\x02\\x16\\x984\\xe8\\xdd\\xb6\\xbes\\xdc/\\xf55\\xa3\\x1aG3\\xf7\\xf3\\x1b\\x00\\x04\\x04\\x9cV\\x8c\\x1b\\x82\\xb0\\xf2\\xc4Y;U\\x9c\\x0e)\\xbd\\x02\\xe6}\\x8e\\x98\\x8eL\\x8d\\x1a\\xa4K\\xc30\\x1d}+\\xa1A\\x15\\xba\\x12\\xbbW\\x8e\\xd84\\xd1e\\xbdbB\\xe6L\\xae\\x02F6\\x8f\\xc4\\xd2\\xa6\\x88Z\\xe9ce\\xc1ec\\xb1z\\xf1\\xeaj\\x1a\\xb8\\xd3\\x185\\x06v\\x10\\xc2\\xf9\\xeaK8\\xe0~\\x15\\xb1m\\r\\xd2Y\\xf9\\x92+\\x04\\x93\\x0c\\xb3\"\\xe3\\x03\\xd7\\x1e\\x94Zi\\x9fcee\\x80\\xc7\\xfe\\xd8\\xff\\x00=+\\xa5\\xb5\\x80K\\xa7\\xb4K\\x81\\xd7\\x1b8*O\\xa5\\t\\x03fB\\x13s\\xa6?\\xda\\xb0\\xd3@7G0\\xff\\x00\\x96\\x88x\\xfc\\xc7\\x7f\\xc2\\xb3\\xa3$\\xdc\\x1ex\\xec\\x05^p\\xf0\\xdc4\\x01\\x08b\\xa5]\\x17\\xee\\xb0\\xfe\\xf0\\xf4>\\xd5J\\x05\\xfd\\xf7<\\x91\\xde\\xa6[\\xdc\\xa8ll\\xda\\xf4Q\\xf9\\xd5\\xdc\\x96\\\\\\x03\\x80:\\x9a\\xa7h\\xbd\\t\\xeej\\xd4\\x8d\\xf2\\x8d\\x9csA\\xa8\\x99\\x04\\xf1\\xc0\\x154I\\xb8\\x81\\xe9P\\x05\\xc1\\x00U\\xc8\\x10\\x90\\t\\x1c\\x9ah\\t\\x11:q\\xd7\\xb5L\\x13\\x18\\'\\xf2\\xa7\"\\xf0\\x0e)\\xf8\\xe7&\\x9a$\\xaf7\\xc8\\x87\\x8eMT\\x10\\xe5\\xb77z\\xb9\"on\\x9cv\\xa1c\\xc9\\'\\xb5\\x00WXA<\\x8e\\x9d(t\\xc0\\xe82*\\xd9_\\x97\\xa7\\xe3Q\\x98\\xc9\\x07#\\x9fC@\\x14\\x0c\\x05\\x8f#\\x8a*\\xff\\x00\\x94\\x07z)\\x81\\xf3\\xe3H\\x8f:\\xa4\\x8f\\x9f\\x98t\\x15\\xbc-Q\\xd44x+\\x9eT\\n\\xc9\\xb6\\xd1\\xdc\\xb1.\\xbb\\xd8\\x9e=\\xabf\\x1b\\t\\xa2\\x84;\\xb8\\x18\\x19\\x00\\x1a\\xe8g3e\\x9bh\\xf6\\xfc\\x9eY\\xda\\xdd=\\x8d:]1\\x1d\\xbb\\xa8#\\xbdg\\rRKyy}\\xeb\\xfd\\xd3ZQk\\x16\\xf3\\xc7\\xf7\\xf9\\xc60z\\x8a\\x9dQ;\\x94\\xa6\\xd10w\\t\\x07\\x19\\xc1<\\xd58\\xf4\\xc7\\x0e\\xcaX\\x00;\\xd6\\xe5\\xb5\\xdcq\\\\+\\x12&\\x8d\\x81,\\rX\\x9e;K\\x86\\xddj\\xe1\\x01\\xea\\x8d\\xda\\x93\\x95\\x86\\x91n\\xd9\\x16\\xcfHH\\xa1ei\\x18\\x0c\\x9fsVm\\x83\\xc6\\x80<\\x99-\\xd4U\\x0bh\\x8a\\x91\\x96\\'\\x07\\xd6\\xae\\x96_\\x97i\\xc9\\x06\\xb1r{\"\\xf9z\\x9a\\x90\\xc3\\xe6\\xaf\\xa0\\xc7_J\\xa7o\\x12\\xdb]:3w\\xe3\\x9e\\xb5\\xb9csm\\xf6=\\x9bF\\xed\\xbe\\x9d\\xea\\x8cza\\x92M\\xecNI\\xcd-\\xd0_R\\xc4S\\xefM\\x80\\x123\\x80}\\xeb[\\xfb>&\\x8c\\x03\\x9c\\xe3\\x93X\\xeb\\x17\\xd9\\xee\\xa3\\r\\x9d\\xb9\\xdcEo%\\xccn\\xbb\\x95\\x858\\xdb\\xa8hq\\x9a\\xf5\\xac1\\xeaJ\\x01\\xc8\\x00m\\x1e\\xf4\\x89\\x16\\xe0\\x14\\xf2\\xa0rj\\xe6\\xb7k\\xbfSWQ\\x95<\\xd3\\xa0\\x882\\x0crzSd\\x98\\xba\\xa6\\x96&\\x831\\xaf\\xcf\\xd4b\\xb9\\xd9\\xfeiw\\xbc`\\x18N0;\\xb5w\\xd7\\xa6\\x1bx\\x89b\\x06\\xd5\\xe9\\xd6\\xb8w\\xf9\\xee\\x0e\\xc4\\x00;\\x93\\xcd\\x0eVEGp\\xb3\\x8b\\xef;\\xe2I\\x1b\\x92\\xbf\\xdd\\xf6\\xae\\xbf\\xc3\\xde\\x1b\\x17Q-\\xdd\\xf2\\x90\\xb9\\xf9\\x10q\\x9f\\xadT\\xf0\\xce\\x8e\\x973\\xf9\\xb3&!Nr\\x7f\\x88\\xd7a=\\xca\\xc6\\x9bP\\xecA\\xc6G\\xf4\\xa8r,m\\xcd\\xd4v\\xd1yQ|\\xa5F\\x06\\xd1\\xd2\\xb1\\xe5d\\xb9\\x9dU\\xf7H\\xdd\\x97\\xfch\\xbf\\x9eM\\xcb\\x1c`\\x07a\\xd0\\x9e\\x14z\\x9a\\x8a\\xda\\'\\x89\\xb7-\\xc6X\\xf5 sS\\xcc+\\x16\\xdc\\x88\\x10*\\xfe\\xec\\x1e\\xa8\\x17$\\xd4\\x0e#\\xb9\\xcch\\xf3\\x8ct\\x0e\\xfbEYK$f\\xdd#H\\xecze\\xb95\\'\\xd8\\xe2\\x8b\\xe7\\x16\\xff\\x000\\xeb\\xb9\\xc7\\xf5\\xa6\\x98\\x18w6\\x12\\xc2\\x1by\\x8c\\xabwc\\x92+\\x06\\xfa\\x04|+m\\x07\\xf8Y9\\x06\\xbbK\\xbd\\xce\\xb9\\x16\\x8b\"\\x8e\\xa3<\\xd7\\'\\xa8E\\x0b\\xc8\\xdb#(:2\\xe7\\x185h\\x94\\xcc{\\x8f\\xb4\\xc2\\x86H\\x9dU\\x7f\\xba\\xaa?/j\\xa4.\"\\x906\\xf2\\x15\\x98\\xe09<\\x0fcZR@\\xee\\xcd\\x86\\xc9\\x00a\\xbdG\\xa1\\xacm@D\\xfc:y3\\x03\\xc9O\\xba~\\xb4\"\\xb7\\xd8\\x8eKs\\x0b\\xcc\\xe0\\xae\\xc1\\xea9S\\xdb?\\xe3T\\xd2]\\x8d\\xf2\\x82Y\\x860\\x06x\\xeb\\x9a\\x98I#\\xa1C \\xe4m|\\x9fCU\\x10:N\\xc0\\x91\\x91\\xf2\\xee\\x1d?\\xce*\\xd4Fi\\xe9\\xb72[;<`\\x19\\x0fFc\\xd3\\xdc\\x9a\\xda\\xb4I\\xee\\x95^v\\x0c\\xc0\\xe5H?tw\\xac\\xbbd\\x8aY6\\x82\\xb1\\xe0\\x00\\x00\\xe4\\xf2+\\xac\\xd14\\xa3#/\\x9d\\x92\\x8b\\xd9:\\xb1\\xa4\\xecM\\xc9 \\x0e\\x15\\x8a8,:g\\x8cU\\xcb+\\xa1\\x14\\xc5\\xdc\\x97\\x91\\x86\\xdd\\xc1~P*\\xcc\\xbalo\\xb80X\\x90\\x1e\\xdc\\x93\\xf8\\xd5E\\xb7\\xb4]\\xc6;\\xc6G\\x19\\xf9NFG\\xd6\\xa2\\xe8GOfc\\xbaL\\xa3\\xc6q\\xd3kf\\xb4\\xa3P\\xaa\\x06\\xd0\\x0e9\\xc5q\\x10\\xbc\\xd6\\x8c\\'\\x82B\\xc0rpq\\xf8\\x1c\\x7f:\\xeb\\xac\\xae\\xd3P\\xb2Y\\xe3\\xca\\x9e\\xeb\\x9eU\\x87jk\\xba)nf\\xebV\\xaeeYFF\\x0f\\xca\\xc3\\xadc\\x94\\tt\\xc5F\\x14\\xe1\\x87\\xe29\\xfdk\\xa3\\xb8\\xbaI\\xb7\\xc2\\xc0\\xa3\\xe3\\x91\\xd75\\x95-\\x83\\x9bV\\xb8\\x1f\\xf2\\xcd\\x86@\\xef\\xeb\\xfc\\xea5n\\xc5+-I\\xed\\x89(*\\xc2\\xe4\\xfc\\xa7\\x9cU{b<\\xbc\\xe0\\xf3VPr}I\\xebB,z\\x8d\\xc5p\\xa3\\xfcj\\xfc)\\x81U!O^\\xd5~ 1\\xefT\\x04\\x83\\x81A\\xe4QKT\\x04a\\x004\\xed\\x94\\xb4\\xb4\\x00\\x9bh\\xdb\\xc5-\\x14\\xd2\\x016\\xf3\\x9e\\xf4R\\xd1E\\x80\\xf1;T\\xb9r\\xc1#\\xc0^\\xe7\\xa5_xY\\xf0%\\x9b\\xb60\\xb5\\x18\\x91\\xdd6 \\xd8\\xa3\\x19#\\xbdH\\xc8UAN\\xbe\\xa6\\xb6L\\xe4)\\xbe\\x85irs\\xbd\\xf7\\x0e\\xbc\\xd5K\\xaf\\x0e4yx\\xe5`>\\xb8\\xab\\xe6r&*\\xcf\\xb5\\xbb\\x10x5f@|\\x91\\xe6\\x1c\\x803\\xc9\\xa3\\x99\\x8bc\\x98D\\xb8\\x8ee\\x88\\xcb\\xb8\\x82\\x07^k\\xa6\\xb7\\xb0Ke\\xdfu0,W\\x05A\\xaen\\xe4\\x96\\xbagL\\x01\\xbb\\x8c\\x1e\\x84S\\xe3\\x96\\xe6@\\x0c\\x9267t\\xcfZ\\x89=K[\\x1dLO\\x18\\x01b$\\x8f\\\\\\xd6\\xe6\\x9fb$\\xdb\\xe6)\\x01\\xbb\\xd7/b\\xe4m`zs\\x8a\\xee49\\x91\\xd5Q\\xf1\\xd7\\x81X\\xf5)\\xecE%\\x9c\\xf6\\x13\\x12\\xa9\\xe6\\xc6y\\x0c;V\\xb5\\x8d\\xcc/\\x00\\xf3\\x06\\xdff\\xaa\\xda\\xcd\\xc9\\x85\\xd2$n\\x18U\\x1f4\\x18Xg\\xb7j\\x1e\\x8fA+\\xb3f\\xf8[\\xbck\\x86\\x05\\xfa.\\x0ej8\\xa0n>m\\xa7\\x1f\\x9dbCp\\x11\\x83\\x12I\\x1d2kE5\\x12\\xec\\xa1\\x86@\\xa3\\x9a\\xe3\\xb1-\\xe5\\xbb\\x14b\\xc0\\x02\\x07\\x06\\xb2\\xed\\xa71\\x12\\x84ch\\xe4\\xd6\\x8c\\xb3\\xa3\\x8f\\x9d\\x8a\\x8a\\xcb\\xbcu2yh\\xdb\\x8bu\\xc5;\\x8a\\xc5mZ\\xe1\\x05\\xa9!\\x81g\\xe0\\x13\\xda\\xb2t\\xbbX\\xeeu\"e8\\x8d\\x01\\xdc\\xc7\\xb0\\x1dj\\xe5\\xf9\\x0bfs\\xf7\\x94\\xf0*\\xd6\\x95k\\x1c6\\x11\\xbc\\xa3\\x06C\\xbd\\xfe\\x9d\\x85D\\xe5d\\\\Q\\xb9m2\\xa4h\\xa9\\x18Ur\\x164\\x1e\\x9e\\xa6\\xa3\\xd4oU\\x1d\\x97\\x8d\\xdft\\x01\\xdf\\x15T;\\xcbu\\x1c\\xd9\\xdb\\x83\\xf2(\\xec*\\x0b\\xdf-\\xa7\\x1bdf#9\\x1dy\\xaeu+\\xbb#N^\\xa4\\xfa}\\xbc\\x931yI`NI\\'\\xadl[\\xd8,\\x84\\xb3\\r\\xaa\\x0f\\xca\\x07Z\\x9a\\x08\\xa3\\xb5\\xb6\\x13I\\x8c\\xaa\\x83\\x8fJ\"\\x94\\xec3Hp\\xacx\\x1e\\xb5\\xa2d\\x88\\xc1\\xf6\\x94\\x84\\x04\\x8dx.G\\'\\xe9\\xebU\\xa5\\xd3`9k\\xa9\\tn\\xbb\\t\\xcdIqs+\\xa8\\x08B\\x968Q\\xd7\\x02\\xad[\\xd8\\xaae\\xe6m\\xecF9\\xaa\\x8a\\x17\\xa1\\xcb\\xdeD\\xb6\\x97\\x0b%\\xb4\\xd3yg\\xef\\x05\\xe0c\\xd3\\x9an\\xa9\\x15\\x9bB.\\x0c\\x8f a\\x9f\\x99\\xb6\\xb0\\xfc\\xab\\xad\\xb8\\x869\\xe1(bG_\\xee\\xb2\\xe6\\xb8\\x7f\\x16[=\\x85\\xb3K\\x04k\\x1a\\x8c\\x8c\\xf6\\xcf\\xd0\\xd6\\xb1W%\\xees\\xd7wr+\\x95\\x8d\\x0e\\x0f u?\\xada\\xdeL\\xec\\x98\\x91W\\x07\\xa0,\\t\\x1f\\x952;\\xc9%\\x9f\\x17\\x13mQ\\xfd\\xd1\\x9c\\xd4\\x976A\\xf2\\xe9\\xb5\\x15y9<\\xff\\x00\\xfa\\xea\\xada\\xad\\x8c\\xe5p\\xa78\\xc9\\xee\\x05\\x02@\\xb9\\x1c\\x81\\x9c\\x9at\\xb6\\xb7\\x0b\\x0e\\xfd\\xac\\x14\\xb7\\x00\\xf7\\xa8\\xe1\\x82Wl\\xb4l\\xc0\\x1ey\\xc7j\\xb1\\x9bZF\\xa1\\x0cN\\x15\\x95\\x86\\xe3\\x9f\\x90\\xe3\\xf38\\xae\\xcbN\\xba\\xc6\\xdf+p\\x19\\xc9\\x8f88\\xf5\\xcfz\\xe2\\xec\\x95\\x12\\x06\\x89\\x80\\r\\x9c\\xa3\\x93\\x8f\\xa85\\xa9\\xa5_\\xcbc:\\xc9\\x1a\\x9c\\x93\\x82\\x8cs\\x83\\xfe\\x15/rZ\\xb9\\xd8\\\\\\xdf[\\xbb*\\x1d\\xd0\\x01\\xc1\\x0e?\\xadji\\xd6\\xf6R\\xe9\\xec\\x8a\\x8aY\\x87V\\x19\\xcf\\xb85\\x80\\xf3Mw\\n\\xc8\\xb6\\x83q\\xeas\\xc7\\xe5W\\xb4\\xdd\\xd6\\xa8\\x1a7d~\\xa2\\x17\\x1f)=\\xc6{\\x1a\\xce@\\x87\\xdc\\xda\\xc4\\x83r\\xe2<\\x1d\\xac\\xb8\\xebV\\xfc:^\\x1b\\xc9\\xe0\\'\\xe5m\\xae==\\xe8\\xbct\\xbe\\x0c64r\\x94\\x04)\\xfe/\\xfe\\xbd?\\xc3\\xe8^\\xed\\xa5\\xc7\\xdc\\x89T\\x93\\xeb\\x9f\\xff\\x00]L]\\xd9MlO-\\x97\\x99\\xa9;!\\x04\\x93\\x9f\\xa7\\xadk,\\x08\\xb0\\x08\\x88\\x05q\\x82=i\\xcb\\x1a\\xab\\x16\\x0b\\xcbu4\\xf1\\x9a\\xde\\x10\\xb2\\xd4f\\x1b\\xdb\\xfd\\x9ev\\x8c}\\xd1\\xca\\xfd\\r>0w\\x1a\\xd3\\xb9\\xb7\\x0e\\x03\\x01\\x96^\\x9e\\xfe\\xd5GaV\\xe0q\\xefYN<\\xb2*/\\xa1$ci$\\xf4\\xedW#\\xca\\xe4\\x1f\\xadS`Lg\\x07\\xb7Z\\xb9\\x11\\xca\\x0c\\xfaRLd\\x94\\xb4\\x94\\xb5h\\x02\\x8a(\\xaa\\x00\\xa2\\x8aZh\\x04\\xa2\\x96\\x8a,\\x07\\x8a\\xc1:DKI!\\xc0\\x1c\\x01I=\\xec\\xb3\\xa9\\xf2\\xf0\\x91\\x8e\\xacEg@\\xdfi\\xb8UR}\\xc1=\\xa9\\xd7\\xb7\\x02(\\xb6#\\x0cw\\xadv9\\x19\\x0c\\xb71\\xc2\\xc1\\x81$\\xfa\\xe6\\x9c\\xfa\\xc3\\xbal\\xde\\xc0m\\xe35\\x8f;.\\xd6l\\xe0\\xf5\\x02\\xa0\\x8eI\\x02\\xf2\\xdc\\xf4\\xc7\\xd6\\xa6\\xc5\\xa8\\x9a)\\xbc\\xb1$\\x92\\x18\\xe7\\x9a\\xb7\\n\\x10\\xdb\\x8f \\x0e\\x05g\\xd94\\x8e\\x1b\\x82Bc85\\xb7f\\x87\\xcaY\\x1dr\\xa3\\xa3T4\\xc2\\xf6.[o\\x8fl\\x80pq\\xc6kv\\xd3P\\x92\\xd5\\xc0\\xe4\\x80z\\xd6\\x04\\xf7\\xc4\\xa8DP\\x060H\\xa7Z]\\xbb8Wn~\\xeeOz\\x89.\\xa3Gayz\\xb7i\\x1b\\x80\\xdb\\x85\\x116\\xf4#\\x9c\\x91\\xc5f\\xdb\\xb9\\x08\\xaa\\xdc\\x10x\\x07\\xb5oi\\xe9\\x13\\xc2Y\\xbaw\\x00\\xf2\\xb5\\x1b\\xbdCdg\\xba\\xec?61\\xd6\\xa5K\\x94N\\x83\\x9cq\\x8a\\xad\\xa9L\\x91\\xdc2F\\xd9Q\\xd2\\xa3\\xb6\\xde\\xc9\\x9e\\xab\\xd8f\\x8bXkb\\xdc\\xb3\\xbb\\x0c\\x80H\\xc5Ad\\xfb\\xef\\ts\\xca\\xa1\\xebSBv]4n>R\\x84\\x0f\\xae8\\xaa\\x10\\xcd\\x8b\\xbd\\xcb\\xdc\\x11\\xd6\\x97B\\x86\\xdf\\xb8\\xb9\\x95-Qy/\\xcb{T\\xb7\\x97\\x8c\\x97\\n\\x91\\xb0\\xda\\xa0(\\x03\\x9c\\xd5v\\xca\\\\\\xb3\\x93\\xca\\x82\\xc0{\\xd4V\\xe3\\xcc\\x91\\x9d\\x86y\\xc8>\\x86\\xb0\\xab+\\xb3HGCV+\\x89#B\\xfb\\xb7;\\x0f\\x90\\x1e\\xd4\\xcbh\\xe5{\\xb5Yd\\x19,\\x18\\xaa\\xf7\\xefQ\"2?\\x9c\\xce\\x00\\x1c`\\xf6\\x1e\\xb5%\\xa4\\xcb\\x0c\\x92\\xcc\\xcd\\xbb\\x1f\"{\\xd6qvW-\\xab\\xe8k\\\\\\xdf=\\xcc\\x8d\\x0e\\xff\\x00\\x95H\\r\\x9e\\xf8\\xed@\\xbe\\x92gX\\xc0\\x01\"\\xe1}\\xfd\\xeb.7uF\\x92G\\xcb9<\\xe6\\xa4\\x8e\\xfc[>\\xf8\\xf6J\\xdd3\\x9e\\x16\\xa91X\\xe9-\\xa21\\x05\\x92Q\\x86\\xc7\\xca;\\xd5\\xf8D\\xae\\xb8l\\xaf\\xaek\\x06\\xc2{\\xeb\\xfb\\x80\\xf8\\xc2\\x8e\\xe6\\xba4>Z\\r\\xec3\\xfc\\xebHj\\xf5!\\xa1\\xc1\\x15\\x06\\x06\\x05`x\\xd2\\x11/\\x87\\xe6$/\\xca3\\x93\\xda\\xba\\x03\\xc9\\xcdf\\xeb6\\x9f\\xda\\x1at\\xd6\\x87#\\xccR\\x07\\xd6\\xbay\\x95\\xf4\"KC\\xc2\\x84\\x7f;1p\\xac\\x0e\\x01\\x1dkR\\xda\\xd8\\xcb\\x1a\\xa1|\\xa7Rs\\x80\\r\\x17Z\\\\\\xd6\\x97-\\x04\\xa9\\xb5\\x81\\xe0c$\\xfd*\\xab]Ii1\\x89\\xe4W\\x8c\\x9eq\\xc1\\x07\\xde\\xae\\xc4\\xeeh\\xc9k\\xbf\\x046\\x15s\\x84\\x02\\xa3k\\x199e\\xda\\xa4\\xa7\\x18\\xfe.*D\\xbb\\x8aD\\xeb\\xb7\\x1c\\x86=\\xff\\x00\\xa54jGa@\\x8a\\xc79\\xdcz\\x83\\xd3\\x83\\xe9B\\x12\\xb9FUx\\x98\\x02\\x0bq\\x83\\xdb\\x15\\xa5\\xa2Z\\xc9}\\xa9\\xc3\\x1e\\t\\xcb\\x85\\x04\\xfaT\\x10\\xab\\xdeN\\xca\\x91\\xb4\\xcc\\x8aY\\x95\\x07\\x00\\x0e\\xa6\\xbb?\\x04i\\xcb-\\xd1\\xbax\\xf6\\x08y\\x19\\xee\\xc7\\x8a\\x1e\\xf7\\x1e\\xc6\\xbb\\xe97\\x8b\\x84V\\xc2\\x81\\x8c\\xd6\\x8c\\x1a^-\\xc0\\x98\\xee\\x90\\xf4 t#\\xa5k`\\x11\\xd2\\xa9\\xdc\\x19\\x12\\xe6\\xdfa;Ka\\x80>\\xd5\\x94\\x95\\x8aJ\\xc65\\xc4R\\tb\\xd8\\x99`\\xc0\\x10O\\xbdj\\xe8\\xf6\\x9fg\\x86V\\xe8d\\x91\\x8e=\\x06i\\xcbf\\x92\\xde\\x99\\xc0\\xe1NO=N+A\\x10\"\\xed\\x14\\xe8\\xc2\\xee\\xfd\\n\\x14\\x0cR\\xd1I\\x80k\\xb0\\x00\\xb0\\xc5S\\x92\"e$\\x0f\\x95\\xbfCW\\x02\\x81A\\x03\\x15\\x94\\xe0\\xe5\\xb8\\x8ab\"\\x14\\x83\\x9a\\x9dF\\x00\\xc7\\xa5\\x05q\\xc68\\xa7/J\\xe6j\\xce\\xc5\\xa6--%-R`\\x14QEZ\\x00\\xa5\\xa4\\xa5\\xaa\\x00\\xa2\\x8a(\\x03\\xc3\\xee\\xac\\xcd\\xa2\\x89\\xed\\xc8\\xdb\\x8e\\xdd\\xeb.Gy!VT\\xf9\\x8b\\x15\\xcdn\\xc8\\xf1\\xcbk\\x85Vl\\x0e\\x95\\x93f\\x01\\xd4b\\x8d\\x81\\xda\\t\\xe3\\x1dsW\\xd2\\xe7)\\x98\\xf6\\x12\\xa3\\x17c\\xc1\\xed\\xd6\\x9a\\xf6\\xfb\\x94\\xb8\\x05\\x00\\xea+\\xab{\\x05\\x99w\\xb7\\xddS\\xc8\\xaa\\xda\\x95\\xa4w!c\\xb6@\\xaa\\xa3\\xe6>\\xbe\\xf4=Xs3\\x9e\\x81\\x9b\\xa2\\x10\\xa0u5~\\x16\\x9bn7\\x9cz\\x03BZ\\x8bh\\x89d\\xf9\\x94\\x9cg\\xbdC\\x1b\\xb3\\xb8\\np\\xa3\\xb0\\xedY7\\xa9{\\x9aJ\\x87`\\xcfZ\\x92\\xdf\\x89@\\xef\\x9e\\x86\\xa1\\x87q\\x1c\\x82M\\\\\\t\\xb8+\\x01\\x83\\x9e\\xb5\\x0eC\\xb1\\xb9j\\xcb%\\xa8\\x91O\\xce\\x87\\x0c\\xa7\\xb8\\xab\\xd6\\xb3\\xbc/\\xb9NA\\xea\\rg\\xe9\\x8d\\x9f\\xdd62FW\\x1d\\xebA#\\xc8#\\x9cu\\x14\\xb7\\x13\\xd1\\x92]\\xe9\\xdfiV\\x9a,\\xf3\\xd4TvQI\\xb0*\\x0c\\xb2\\x7f\\x0f\\xaf\\xadho\\x92\\x05Y\\xa1\\xc1\\x04a\\x81\\xe8qE\\xbc\\xf0\\xbc\\xfer\\xc7\\xe50?8\\x07\\xf5\\xa6\\xd5\\xd6\\xa2\\xbb\\x19sl\\xef\\n\\xdd@\\xbb\\x8a\\xf3\\x8cu\\xc7Q\\xf5\\xac\\xe6\\xb3)p\\x1cd,\\x9f2\\x9f\\xe9]\\x82\"K\\x19x\\x19Hq\\xf3\\x01\\xd0\\xfe\\x15\\x9fuj\\\\20P\\x01\\xcf\\xa1\\x06\\x8d\\x05v`\\xdfX\\xb0Q*\\x82A\\x18lu\\xac\\xf8\\x1c\\xc7\\x84\\xcf\\npq\\xde\\xbaI\\\\\\x84U\\xc0\\xc8\\xeezUU\\xd1\\xe3\\xba\\xdd*\\xba\\xa3\\x0e\\xa0\\x1cVS\\x82\\x91\\xac\\'m\\xcc\\xbb\\xab\\x80T\\xc6\\x99\\x0c\\xc39\\xf4\\xa6\\xa0\\x91\\xd68\\xa3\\x1f(\\xe4\\x9cu4\\xc9\\xe0\\x11^J\\xa3\\xa2\\x0eA\\xe4\\x13\\xedH\\xb3K\\xb1\\x960\\x14\\x15\\xeaz\\xd74\\xbd\\xdd\\r\\xd6\\xaa\\xe4\\xafu\\xf2\\xf9{F\\xe0v\\xec#\\x04U\\xeb{y\\x16\\x1d\\xc1\\x13o\\xf1v?\\xafZ\\xcb\\xb7C>P\\xa2\\x96\\xee[\\xaf\\xd75=\\xca2*\\xab\\x16\\x90\\xf7\\x1b\\xcf4\\x95\\x86\\xcd\\xdbk\\x89\\n\\x0f\\xb3\\xdd\\x01\\x83\\xca\\xb5l\\xe9j\\xef\\x99\\xa4\\xed\\xc0$\\xf55\\xca\\xe9\\xb3G\\x1b.\\xcbuRG\\xcc\\xc7\\x9cV\\xc4z\\xca\\xa3\\x08\\xc2\\xb0\\x1f\\xec\\xd5FM;!J\\'H\\\\\\x00I\\xe0z\\xd5i\\x0e\\xe3\\xb9\\\\\\x8f@:\\x9a\\xa6n\\xc3\\x10\\x1c\\xb2\\x81\\xebM7\\xf0G\\xc9l\\xb3v\\xf6\\xad\\x14\\xbb\\x99\\xb8\\xb6s\\x9e2\\xd2.\\x14C\\xaa\\xda\\x86f\\x89\\x86\\xfd\\xbdTz\\xd7\\x01um%\\xf5\\xcbHH$\\xd7\\xb0&\\xa7\\x1a++\\x15 \\xf65\\x9dq\\x15\\x83\\xa9qgn\\x1c\\x9c\\x82\\x10f\\xba#QX\\xcdFI\\x9eja1\"\\xc7\\xb4\\x96~\\x06;T\\x86\\xd0\\xb4AG\\xca\\x1b\\xa9\\xc5w\\x89\\xa7XO\"\\xee\\xb7\\x8f9\\xec1Z\\x1f\\xf0\\x8fh7G\\xe6\\x80\\xa3\\x1f\\xee\\xc8G\\xf5\\xa6\\xa5\\x17\\xd45]\\x0e\\x1f\\xc3\\xb6\\x926\\xa0\\xd0\\xc0\\xa4\\xef\\x05K\\x91\\x8c-zu\\x8d\\xb4vV\\xab\\x1cq\\xe4(\\xf9\\xb1\\xde\\xa1\\xb1\\xd3l4\\xcd\\xd1\\xdb\\xa2\\xa2\\xb7\\xf1\\x13\\x96?\\x8dh@\\xcaC*\\xe0\\x95<\\xd4\\xceZ\\xd9\\x04cwvM\\x1b\\x02\\x99\\xc1\\x1e\\xc7\\xb5W\\x93\\x9b\\xc4\\nF\\xe2\\xa6\\x96I\\xfc\\xb9\\x02\\x91\\x92\\xcb\\xc2\\xaf$\\x9a\\x92\\x08J\\x93#\\x9c\\xc8\\xfd\\x7f\\xd9\\x1e\\x82\\x9cS\\xa8\\xd4z#M\\x91,q\\xacj\\x15F\\x05IE\\x15\\xda\\x95\\x84%\\x00QHN(m \\x1dI\\x8aM\\xd4d\\x9aWL\\x05\\xc0\\xa8]\\x951\\x93\\x80N*C\\x9e\\xf4\\xd2\\x03\\x0c\\x11\\x91Y\\xd4\\x8f2\\xb0\\xae\\x00\\xd3\\xaa\\xbf\\xcd\\x07\\xbc\\x7f\\xaa\\xff\\x00\\xf5\\xaa`r+\\x04\\xac\\xec\\xcbN\\xe3\\xa8\\xa2\\x8a\\xa4\\x01KIKT\\x80(\\xa2\\x8a`x]\\xb5\\xc1\\x8c\\x15\\x90\\xee\\\\`\\xd4\\x08B\\xde\\x89\\x10\\x00\\xa0\\xd4\\xd3I\\x12\\xa2\\x84L\\xf3\\xce\\rX\\xb7\\xb7\\x81\\xf0w(\\xca\\xf4<\\xd6\\x8e\\xd69|\\xcd8J\\xbc\\x0c\\xa1\\xfad\\x9a-b\\xcaI\\x18\\x00\\xb6\\x01\\xcf\\xa0\\xaaeZ\\x0c\\xaa3\\x12x8\\xefW4\\xa1\\xe5\\xb4\\xcc\\xe7\\xe6+\\xd0\\xd4j\\x80\\xcd\\xd4\\xd25\\x94\\x88\\xfe\\xea\\xf1\\x8fSY6\\x8a\\x039\\x0b\\xc0\\xf5\\x15\\xaf\\x1d\\xb5\\xc5\\xe5\\xc3\\x06\\xc0RysUn\"\\x8e\\xdeF\\x85\\x00l\\x1eH\\xa5%\\xd0qd\\x11]e\\xb0\\xe3i\\xcf\\x07\\xd2\\xb5\\xad\\xbeu\\xcfc\\xe9X\\xe5\\x0b\\xcc\\x02)\\xcc\\x87\\x1c\\xfbV\\xe6\\x98\\x85\\xd0\\x0c{\\x1e+)+lZ\\xdbR\\xd40\\xb22\\xc8\\x8f\\x80\\x0fS]\\x15\\xa3\\xc6a\\xf9\\x87\\'\\xbdc\\xbc\\x1b \\'\\x1c\\x0e\\xd5-\\xb5\\xc0HL.\\xc5r\\xb9SK`j\\xe5\\xb6\\xbf[K\\x83\\x0b\\x8d\\xd1?\\xa7j|\\x88\\xcaD\\x91\\x80\\xc8y\\x04VYe\\xb9\\x7f,\\xe1\\x9cp1Z\\xb6\\x92\\x0bkO&~\\x03t>\\x94\\xc5\\xb0\\xd5\\xb9\\x969U\\x94\\xb4L\\x7f\\xbaz\\xd6\\x80\\xfbT\\x9bD\\x923\\x0fS\\xdcV2\\xce\\xd2\\xbe\\xc6\\x03p`\\rt\\xb0\\xb2\\x94]\\xdcmP\\x05-\\x84\\xca3)\\x8d\\x80\\xcfQ\\xcej\\x8d\\xcd\\xfa\\xc6\\xac\\x91\\xfc\\xac}*\\xc6\\xb0\\xfb\\x83\\x15lz\\n\\xaf\\xa5i\\x86I\\x96Y\\xc1n~U4HqFl\\x1a}\\xd5\\xc4\\xad&\\x0e\\x0fPz\\x1a\\xb4\\xfae\\xd4q\\x95H\\xfeV\\x18\\xe4\\xd7\\\\R\\xda\\xd1KH\\xaa2\\x06\\x00\\xaa\\x17\\x9a\\x8a:\\x9d\\x88T\\n\\xe7\\x92W\\xb9\\xbcd\\xedc\\n+9-\\x97c\\xc4K\\x1e\\xe0\\x8at\\x90\\x8d\\x83r(\\xf7\\xa9\\xcb\\x96\\x93s\\xb1bz(\\xedS\\xc9mn\\xd0\\x0620s\\xfc\\x19\\xe2\\xb3IX\\xb7\\xb9\\x93+\\x88\\xd4*eGp=}h\\xb6\\x9c ,>\\xf7\\xa9\\xab\\xa2\\xc2O\\x98\\xed\\xf9q\\xc1&\\xa3{\\x18\\xf7\\xab\\xb2\\x93\\x93\\x82\\x05-\\x8a&\\xb4K\\x8dE\\xca$\\xca\\xa7<\\x03\\xc95u\\xf4\\x0b\\x8bq\\xbd\\xe52\\x92z-X\\xd2E\\xbd\\x8c\\x8c\\x8a\\x9f1\\xef\\x8a\\xd2\\xb9\\xd5\\xad\\xed\\x98+\\x06rW?(\\xcd\\\\y-\\xa9.\\xfd\\x0eR\\xe8\\xad\\x8d\\xc3$\\xb6\\xcd\\xb8\\x0c\\xfc\\xcf\\xc5Ri\\xae\\xe6\\x8c\\xf9j\\x14\\x13\\x91\\xfe\\x15\\xd2][\\x7fo7O/\\x03\\xe5?\\xe3T\\xff\\x00\\xe1\\x1c\\xbb\\x82M\\xbf+\\x83\\xc2\\x95l\\x03E\\xa4\\xf6\\x0b\\xae\\xa6\\x1cr\\xde\\xdb\\xb8vFl\\x1ejyu\\x1b\\x94\\x98\\xaaF\\xe4)\\xea\\x01\\xc1\\xae\\x81<=u\"*;\".rr\\xc5\\x8di\\xdbhPB\\x07\\x98K\\xe3\\xf0\\x15\\xb4iJ]\\tr]\\x0ez\\xdd\\xf5MKh\\x82\\xdeP:\\xefo\\x95G\\xe2k\\xa9\\xb1\\xb2kXp\\xef\\xe6H\\xc7,\\xdd?*\\xb6\\x91\\xacj\\x15@\\x00S\\xab\\xaa4\"\\xb5d\\xdd\\x8c\\x11\\xa0m\\xdbF\\xef^\\xf4\\xfa(\\xc8\\x15\\xbaI!\\x05\\x04\\xd3rOJ\\\\z\\x9aWoa\\\\C\\x93\\xd2\\x80\\xbe\\xb4\\xea(\\xb0X\\x00\\x02\\x90\\x9cR\\x93L\\xcd\\r\\xd8\\x1b\\x02ri)z\\xd0\\x14\\xe2\\xa6\\xd7\\'q1\\x91\\xcd5Wg\\x03\\xee\\xf6\\xf6\\xa9@\\x02\\x8a%\\x04\\xf7)h6\\x96\\x97\\x02\\x92\\xb1qq((\\xa4\\xcd-$\\xc6-\\x14\\x94U\\\\\\x0f\\x1d\\xba\\xd2\\x96\\xe6R\\xc9\\x1a\\x8fq\\xc52;\\x06\\x85\\xc2>\\n\\x8fZ\\xbb!\\xbb}\\xcb\\xc1\\x1e\\xa2\\x9a\\xb1\\x18\\xc6fr\\xe3\\xd7\\xd2\\xb4l\\xe6%\\x8d E\\xcba\\x87^j\\x16\\xbc\\x85IQ\\xb8d\\xf1\\x81\\xd4SY\\xad\\xb0\\xc5\\x1d\\x89\\x03={\\xd4\\xdau\\xa2\\xdf\\\\\\xaa\\xccYA\\xfe\\x0e\\x9f\\x95M\\xed\\xb8\\x87D\\xa2\\xfdZ\\x18\\x93a\\xc7\\x046\\xdc\\xd5\\x19\\xbc?t\\x1f`t_R\\x0ek\\xa3\\xb8\\xd2t\\xcb)\\x02J\\x1e&<\\xa3\\xab\\xf0\\x7f\\x0e\\xd5\\x15\\xbd\\xc5\\xa5\\x99\\x93x2\\x10\\xd9\\x07\\xd7\\xebR\\xe5`J\\xe7=.\\x93\\xf64\\x12JX\\xb7\\xae85sI\\x00H\\xa1\\xb8\\r\\x9c\\xd5\\xbb\\x8da\\xe7b\\x89\\x1a\\xaag\\x85a\\x9a\\x84\\x16fWD\\n\\xc0\\xe7\\x00Vr}\\x8d\"\\xb4\\xd4\\xbe\\xe4L\\x860\\xc0\\x10\\xbbj\\xb1\\x8eKr\\xb0\\xdcD\\xc0\\x1f\\xb8\\xe3\\xfa\\x1a#\\x90\\x97l\\xa6\\xd6n\\xfe\\xf5\\xa1\\r\\xcb\\xc8\\xaa\\xb2\\xb0`\\x9fw\\x8e\\x95.In\\t1\\xd6>\\x1e\\xbb\\xb8\\x91e\\x0e\\x8a\\xb9\\xca\\xb9\\xfb\\xd5kU\\xd2.\\x952\\xd2+\\x91\\xfd\\xd1\\x8as_\\xce\\x8e\\x15\\tA\\x8e\\x08\\xebR\\x19n\\x8a\\xb4\\x8c\\x1aB:\\xe6\\xa96\\xfa\\t\\x94\\xect\\x96R\\xb2N\\xdb[\\xa8\\xadY\"0E\\x95$\\xfb\\xd2Z\\xa4\\x8e\\xc2I\\x1b>\\x83\\x1c\\n\\xb1z\\xec-\\x1b`\\x04\\x81\\xc7\\x14Z\\xe4\\xdc\\xc5\\xb5\\x8b\\xed\\x9a\\x83o\\xc9\\x8e.I#\\x8c\\xd6\\xb3\\xdd\\x8b{vk`\\xbb\\x80\\xeaER\\xb0uk6\\xb7\\x88\\xe2i\\x1f\\xe65&\\xa3\\x12XZ\\xc6\\x8c\\xe7{\\x0eT\\x0e\\xb52\\xf24\\x89b\\xd1\\xed\\xda\\x0f>y\\x0c\\xb2\\xb8\\xe1s\\xf7j\\x9d\\xea\\x06\\xf9\\xc3\\x8cg;Gj\\x82k\\xdbX-\\x10F\\xe4\\xbb\\x9c\\x11\\xdcU{i\\xda\\xe1\\x9d\\x18\\x00\\xc7\\xee\\xfb\\xd6\\x12\\xbbF\\xc9X#\\xdf\\xe6\\x17a\\x95?\\x9dZy#h\\xd4\\x80C)\\xef\\xda\\xab<D\\x15\\xd8\\xdc\\x9f\\xe1#\\x18\\xa7Gk8\\xf9\\x9d\\tV\\xef\\x8a\\xca\\xcf\\xa1z\\x17\\xcc\\xf1\\xbck\\xbf\\x93\\xea\\xb9\\xa7G\\x01yB\\x82\\x14\\x1f\\xba\\xd8\\xc84\\xdb\\x0b7\\xdf\\x87BT\\xf7\\x1c\\xfe\\x95\\xb6\\x96^H\\r\\x11\\x04\\x0f\\xe1e\\xc05q\\xa6\\xde\\xe2r\\xb1H\\xe9\\xcf\\x102;\\x17\\xc8\\xe0%6\\xc6\\xc1%\\xba/ b\\x07\\xafz\\xbe\\xfa\\x94>[\\x02\\xad\\x91\\xc61U\\xa2\\xbb\\xde\\xdb\\xd3\\x92N\\x00\\x02\\xa9EE\\xe8M\\xee[\\x9a\\xd0&\\x1e\\x00U\\x81\\xe0(\\xabj\\xa4(\\xdd\\xc9\\x14\\xc8cd\\\\\\xb1,\\xe7\\xa958\\x18\\x1e\\xf5\\xdbJ\\x9f\\xdad7p\\x00\\xf7\\xa7QEt\\x80RR\\x16\\xf4\\xe6\\x93\\x04\\xf5\\xa5~\\xc2\\xb8\\x16\\xc9\\xc0\\xa5\\x0b\\xdc\\xf5\\xa5\\xc0\\x14Qn\\xe0\\x00b\\x96\\x8a)\\x8cJB\\xd45\\'\\xd2\\x93\\x13b\\x1c\\x9a\\x02\\xd3\\x80\\xc5-+\\x05\\x84\\x0bN\\xa2\\x8a\\xa1\\x85!\\x02\\x96\\x8a\\x00n\\xdaB\\xb9\\x184\\xfa*\\\\S\\x02\\x0f+o(H\\xf6\\'\\x8aayP\\x8d\\xf1\\x96\\x1e\\xab\\xfe\\x15f\\x8a\\xcd\\xd2C\\xb9\\x12\\xba\\xbev\\x9e\\x9d\\xbaQNx\\xd5\\xc7\"\\x8a\\x8eV\\x17<\\xceKX\\xa2R\\xf1\\xbb\\x1e:f\\xb3\\xc4\\x82\\xe42ga\\x1dw\\x1e\\xb4\\xdb\\x9b\\xe7f 8U\\xf4\\x1d\\xea\\xb3\\xdcF\\xef\\x8cm\\x03\\xa9\\xc5[g=\\x8d+M-\\xeeco\\'k:\\xb7\\xdd<n\\x15\\xa9olJ\\xa1{gW\\x1f|/o\\xa1\\xacX5D\\xb3\\xc3G+\\x97\\x1f\\xdd\\xad};\\xc5\\x8f\\x0c\\x9b\\xae \\x05[\\xbdD\\x9b\\x0b\\x0b\\xad>\\xf5UW3.0U\\xfe\\xfa\\xfe5\\x84\\xf1]\\xca\\xfb\\xe2\\x89\\x8a\\x81\\x8ex\\xae\\xe6\\xe1 \\xd5-R\\xec[lg\\xe8\\x08\\xe4\\xd65\\xe5\\x8c\\xf0\\xbe\\xe7>R\\xe7\\x80\\rg\"\\xa3\\xd8\\xc3\\x8d%@\\xa2X\\x8a\\x9e\\xbc\\x8a\\xd0\\x8aE\\x00\\x10\\x87\\xf9\\xd5\\xcbk\\t.\\xc1c!\\xda:\\x13\\xcdG>\\x9d$\\x13\\x00d\\xdc;m\\xa8E\\x86\\xf4s\\x87M\\xb9\\xe8\\xc0u\\xa0l\\xde\\xa07$\\xd4O\\x14\\x85\\xb9\\'\\x03\\xb14\\xe5A\\xb9w.H\\xe3\\xe6\\x15\\x9e\\xfb\\x95k#N\\xdd\\x90\\xcd\\x19r\\x00\\x03\\x04\\x93\\xd6\\xb6\\x01I\\xc8\\x8d\\x07\\xca>\\xf1\\x15\\x83\\x02n\\x91c`N\\xec\\x0c\\x9e\\xff\\x00\\xfdz\\xe8t\\xdbsm\\x01\\x8d\\x87 \\x9ekh\\xb3\\x19\"A\\x1e\\xd2\\x14v\\xa8\\xef\\xd1\\x16\\xceM\\xc4\\x8f\\x94\\xe0\\xd5\\xb8\\xd4\\x16\\xdc\\x7f\\n\\x86\\xfe\\xdd\\xee\\xad\\xda5\\'\\xa7\\x18\\xefZ\\x11s\\x1fJ\\x92\\x0b+F\\xbd\\x94\\x16\\x9b\\x1c/\\xadd__\\\\_]\\x92\\xec\\xc4\\x8eq\\x8f\\xba=*\\xcc\\xd2\\x1b\\x12\\xb1\\xca\\x99a\\xd07j\\x95\\xe4\\xddn\\x97\\x01b\\x95Y\\xb6\\x90\\x98\\x04VwW\\xb36[\\\\\\xa4\\x9ay\\x90ou\\xc0\\xc7\\x1e\\xf5\\x08\\x9a;[\\x86w%J\\xae0=kb\\xebS\\xb7\\x8ed\\x10\\x80\\xc1Tp}k\\nE\\x17\\x17RL\\xcb\\x81\\x9c\\x85\\xf4\\xacd\\x91\\xb2\\xb9f\\xc2\\xeaEr\\xcf\\xbaE\\'$\\xb5u\\xfaU\\xd2N\\xbeY@\\x08\\x19\\x19\\x15\\xc9[\\xcb\\x02p\\xc9\\x9e\\xe7\"\\xb7\\xf4\\x9dJ\\xd1\\xee\\x17\\xa4yM\\xb9\\'\\x8c\\xd4\\xad\\xee6o Ts\\x88\\xca\\x9e\\xe4\\x0e\\rHXb\\x902\\xb0\\x04\\x10A\\xe9\\x8a\\x86\\xeaH\\xd5>~\\x95\\xd1\\xa2[\\x90\\xd9N\\xe6\\xca\\x19\\xa5m\\xcc\\x14\\x9eA\\xcf\\x19\\xa8b\\x82\\xe6\\x0b\\x94H\\xd5X\\xfa\\x9eT\\n\\x96(\"\\x9d\\xd9\\xa1\\'j\\xf5\\x0cx?\\x85^\\xb5\\xb6HU\\xb0>f9cJ\\x10rvd\\xb7\\xd8\\xb0\\xab\\x81\\xcf\\'\\xd6\\x9d\\x9ai`8\\xa4\\xe4\\xf5\\xae\\xd5\\xa6\\x88W\\x14\\xb7\\xa5\\x00\\x13\\xd6\\x94(\\xa5\\xa7n\\xe3\\x00\\x00\\xa5\\xa2\\x8ac\\n(\\xa49\\xa0\\x00\\x9aL\\x92x\\xa5\\xc5-\\x02\\x1b\\x8fZZ(\\xa0b\\xd1E\\x14\\x00QE\\x14\\x00QE\\x14\\x00QE\\x14\\x00\\x94\\x1aZJM\\\\\\x04\\xa2\\x96\\x8aV\\x11\\xe1\\xf3\\xb0$\\x04%H=\\xf9\\xcdM\\x04\\x11\\xb8S1>\\xe0q\\x9aD\\xb7\\x9e\\xe6pD{Fx\\xc8\\xabW6\\xedm\\x19g%\\x9b\\xa6+\\x17\\xb9\\x9e\\x96#\\x91\\xa2_\\x92\\xda\\x1d\\xb8\\xef\\xd6\\xb5\\xb4M\\x1e;\\x88>\\xd3y\\xca\\x96\\xf9\\x14\\xf1\\x9a\\xcc\\xb3eN\\x19\\x01-\\xd4\\x9e\\xd5\\xb6\\x97\\x0e\\xec\\xa1\\x0f\\xc8\\x83\\n*\\x1c\\x87cZ\\xfbRkET\\x88\\x03\\xb5v\\xa8\\x1d\\xab\\x1a\\xe6\\xe2\\xe2\\xe6@\\xce\\xe4\\x8fOJ\\xbe#P\\xa5\\xdc\\xe5\\x8f\\xadA\\x1c\\x01\\xae\\x00\\x0b\\xc1\\x15\\x8bw\\xd8qV\\xdc|7\\x12C\\x18\\t\\xc1\\xefWbE\\x9e\\xdc\\xcd\\'U\\xe0\\n\\xa9q\\x06\\x01h\\x9b\\x81\\xc1\\x15\\x12]7\\x96\\xb1\\x86 \\xf7\\xc5f\\xb4.\\xd7\\'\\xf2]\\xe4;pGS\\x8e\\xf5\\x0c\\xb1\\x94\\x90\\x01\\x9e\\x0f~\\xd5f\\xd4\\xb6\\xf5\\xc7\\xafz\\xbf\\x7fj\\xa8C\\xed9a\\x921\\xd6\\x9a\\xd5\\t\\xe8\\xca\\xb6\\xc9\\xe6:\\x068 \\xf1\\x9fZ\\xe9\\x11[\\xcb\\x00\\x90I\\xebX\\x16\\xd0\\xab\\xba\\xa9,\\xa78\\x07\\x15\\xd1\\xa2lES\\xd4\\x0e\\xb5\\xa4\\x08\\x9a\\x05N)\\xf8\\x00R\\x81P\\xdc\\xc9\\xb2<\\x0e\\xad\\xc0\\xad\\xed\\xa1\\x071\\xaa\\xe8w:\\x9d\\xdb\\xc9\\x1c\\xa5\\xb6\\x9e\\x01\\xe9\\xf4\\xac\\x84cf\\x92C\"\\x12I\\xdb\\xb4\\x8e\\x95\\xdd\\xc4<\\xa8\\x82\\xa2\\xee\\'\\xadc\\xebZ4\\xb7*n\\x11\\x140\\xe5\\x82\\xf5\\xfa\\xd2p\\xe6\\xd4\\xa8\\xcd\\xc5X\\xe4br\\x8c~_\\x97\\xa0\\xc7j\\xb7\\x07\\xc8\\x8c$V\\x0cNA\\x15\\xab`4\\xc7F\\x8e\\xe7\\xf7r\\x81\\xc8>\\xbe\\xd5GV_\\xb3H\\xac\\x01+\\xdb\\x03\\xb5e\\xca\\xeej\\xa4\\xacP\\xbec\\x0e\\xd5\\\\3\\x1eN\\r]\\xb4\\xb5\\x90\\xc2\\xb2\\x05ny$\\xf6\\xacMKz_$\\xdb\\xf6\\xa1#\\x9e\\xc7\\xe9ZV\\xda\\xe2I\\xb2\\xcd\\xe5*\\xacv\\xef`v\\xa7\\xb9\\xc78\\xa9\\x94\\x1e\\x89\\x15\\x19-\\xd9\\xd0X\\xdf\\xcd\\x12\\xed\\x8em\\xca?\\x87=\\xea\\xfc\\xf3^\\xdc\\xdbo\\x10\\xb6GL\\n\\xa5\\xa6h\\xee\\x85d\\xb6\\xb9\\xb7\\xb9^\\xa4\\xed8\\x1f\\x8doEh\\x96\\xec$wb\\xc4chc\\xb7>\\xc2\\xaa4_]\\x89r]\\x084ky#\\xb7/#e\\x9b\\x9ekK<azz\\xd3T3\\xf2\\xdc\\x0fJ\\x94\\x00\\x05u\\xc66Z\\x10\\xb5\\x10-;\\x14QZ\\x14\\x90\\xb4QE\\x03\\n(\\xa2\\x80\\n(\\xa2\\x80\\n(\\xa2\\x80\\n(\\xa2\\x80\\n(\\xa2\\x80\\n(\\xa2\\x80\\n(\\xa2\\x80\\n(\\xa2\\x80\\n(\\xa2\\x80\\n(\\xa2\\x80<\\xb2\\xc0B!\\xda\\x01\\xdc{\\x1a\\xb2\\xfa%\\xf5\\xf1\\xdd\\x14{\\x97\\xd4\\x9e\\x95\\x1d\\x99\\x8d\\xa5/ \\n\\xbb\\xba\\xd7Q\\xf6\\xdb\\x18\\xed\\x80\\x82r\\x1b\\x1d\\x8dr\\xde\\xcc\\xcd\\xae\\xc7\\x1a\\xfa%\\xd4\\x0eD\\xa5c\\x19\\xfe\\xf6kr\\xca\\xc1V\\x08\\xfd\\x00\\xcb\\x1a|q\\xcb\\x7f1}\\xff\\x00\\xb9S\\xcb\\x9e\\xff\\x00J\\xbfxR\\xde%\\x86\\x1cp:\\xe7\\xadC\\x04\\xcc\\xe7Fy:`\\x03\\x81R\\xbc^T\\xab)\\x18P1\\x9a\\xb9k\\tp\\xa1\\x95\\x89\\xfaf\\xacOc\\x18Be$\\x9e\\xca*yB\\xfa\\x98\"ve\\x91\\xbdOqM\\x82\\x00\\xdf9\\\\\\x1a\\xd4:s\\xcc\\xa5\\xd9<\\xa8S\\xaex\\xcdC)D]\\xb1\\x8e+9.\\xe6\\x8bm\\x07Y(\\xceN1[\\x8e#xbM\\xdea\\x1f\\xca\\xb1-\\xb2\\x00\\x02\\xb5,2\\xf2\\xe3\\x07\\xa79\\xa2/RdhEm\\x1cd\\x15Q\\x9a\\x94\\xf5\\xa7v\\xa6\\xf58\\xae\\xa5\\x14\\x89`N\\x06j\\xaa\\x0f>s!\\x1f*\\xf0*K\\x87\\'\\x11\\xa7\\xdej\\x96$\\xd8\\xa1j\\xadr\\x1e\\xae\\xc3\\xd5@\\xa1\\x88\\x00\\xe6\\x94\\x90\\xa3\\'\\x8a\\x8c\\x837\\x1c\\xaa\\xfe\\xa6\\xb4\\xf2El\\xacr\\xde\"\\xd0\\xcb\\x95\\xb9\\xb1\\x86G\\x99\\xdb\\xe6D\\xe7>\\xfe\\xd5\\x18\\xf0\\xfe\\xafyo\\x1aH\\x12,(\\xcf\\x98\\xe1\\x88\\xfc\\xb3]\\x92\\xc6\\xa8\\x00P\\x00\\x14\\xecQ\\xc9\\x17\\xb8\\xe3\\x16\\xba\\x9c\\\\\\xbe\\x04\\x92e\\x05\\xeeb\\xdc\\x07\\x1f)\\xe0\\xfds\\xfd*\\xde\\x93\\xe0\\x9b\\x1b\\x06\\x12]9\\xb9\\x93\\xae\\x08\\xc2\\x8f\\xc3\\xbdu\\x0cqP\\x96$\\xe0t\\xf5\\xa5\\xa4tH$\\x95\\xee\\xc5,\\x11Dq \\x18\\x18\\x00p\\x00\\xa1\"\\xe7s\\x1d\\xc7\\xd6\\x9e\\xa8\\x00\\xc0\\xa7\\x80\\x054\\x9b\\xd5\\x8d+\\xee\\n\\xb8\\xa7QEYaE\\x14P\\x01E\\x14P\\x01E\\x14P\\x01E\\x14P\\x01E\\x14P\\x01E\\x14P\\x01E\\x14P\\x01E\\x14P\\x01E\\x14P\\x01E\\x14P\\x01E\\x14P\\x01E\\x14P\\x07\\x93%\\xc4\\x92\\xa2\\xc5\\x1a\\xfc\\x8ay\\xe3\\x195\\xa1\\x04$\\xaf\\xef\\x08\\xdb\\xfd\\xd1\\xde\\xa8\\xdb!\\x8cg\\xcc\\xfc\\xbb\\xd6\\xa5\\xb4e\\xd4d\\x8e\\x99\\xeb\\xd2\\xb8\\xdbv\"\\xc6\\xe6\\x98\\x85\\xe2U\\xd8\\x9b\\x14q\\xb8\\xe3\\x1f\\x85H\\xday\\xb9\\xb8fP\\xb1\\xaa\\x9e\\xa3\\xbdc\\xd8\\\\ \\x99\\x99\\x9b*:\\x0c\\xd6\\xc4W2\\\\6\\x10\\x10\\xbd\\x86*\\x1b\\xe8\\x1c\\xa3\\x84\\xc7O\\xdc7\\x83\\xe9D\\x17\\xbed\\xbel\\xf88\\xe8)M\\x87\\x98\\xdb_,\\xdf\\xca\\x98\\x96AY\\xb3\\xc2/\\x7fSI\\xdf\\xa0i\\xd4n\\xa1|\\xf7\\x11\\x18\\xd3\\x08\\x9d\\xfd\\xeb:8Y\\xc9\\xebZO\\x1cA\\xb2\\xeb\\xcfa\\x9e\\xb5j\\xd2\\xd9\\\\\\xee#\\x8a\\x8b]\\x97{\"\\x84\\x114|\\xe0c\\xd4\\xd6\\xcd\\x8c+\\x1c!\\xb1\\xcbsT\\xaf\\x15P\\xa4\\x0b\\xf7\\xa4p8\\xadtP\\xaa\\x00\\xe8\\x06+jq\\xd4\\x8b\\xdc\\x0f\\x02\\x98X(,\\xc7\\x00R\\xb3b\\xaaH\\xcd<\\xa24\\xfb\\xa0\\xfc\\xc6\\xb5oR\\x1b%\\x81w\\xb9\\x98\\xf7\\xe0}*\\xc6B\\x8c\\x9aj\\xa8U\\x00t\\x14\\x832\\x1c\\xff\\x00\\x08\\xfdkH\\xa0Z\\x00S#d\\xf4\\x1d\\x05N\\xa3\\x02\\x801KV\\x95\\x8b\\x8a\\xb6\\xa1H\\xcc\\x07&\\x9a\\xd2\\x05\\xe3\\xbf\\xa53\\x05\\x8e[\\xf2\\xa4\\xdfa\\xb7m\\x84b\\\\\\xfbzz\\xd3\\xd5p:R\\xaa`S\\xc0\\xc5\\t\\tG[\\xb1\\x00\\xa5\\xa2\\x8a\\xa2\\xc5\\xa2\\x8a(\\x00\\xa2\\x8a(\\x00\\xa4\\'\\x14\\x13H\\x05\\x02\\x17\\x9aZ(\\xa0aE\\x14P\\x01E\\x14P\\x01E\\x14P\\x01E\\x14P\\x01E\\x14P\\x01E\\x14P\\x01E\\x14P\\x01E\\x14P\\x01E\\x14P\\x07\\x99A\\x1a\\x86\\x1el\\x8a\\xbcp\\xac\\xc1sZ\\x96\\x16b\\xfe\\xd4N\\xb2\\x01j\\xcb\\xb9J\\xff\\x00\\x10\\xed\\\\\\xcc\\xf6\\xe2\\xeaT\\x92KW\\x95\\x0e\\xd5Y\\x16\\xd9e\\xdb\\x96\\xc1\\xe1\\xb8\\xc9\\xc8\\xc0=I\\xae\\xb3F\\x82Ht@\\x93\\xc5\\xe4F\\xa5\\xc0_)b%K\\x1d\\xacUx\\x0cG$q\\\\Ww\\xb1\\xbc\\xe9EQU/\\xab2l\\x083HCp\\x9c\\x01]LR\\xbc0,q\\xc6\\xa8B\\xfc\\xcek\\x92\\xb5S\\x15\\xd7<\\r\\xfd\\xeb\\xa1\\x9e\\xe5Y~\\xf1\\xf9\\xbf:\\xcd\\xfcM\\x98=\\x8bb\\xe5\\xb2\\x00c\\x96<\\xb7z\\x92\\xe2F8Px^@\\xac\\xc8\\xa7\\x8f\\xcd\\xcb\\x9e\\x00\\xfc\\xa9\\x1a\\xe9\\xa48\\x0f\\x8cs\\x9aN@\\xa2J\\x8e^fb\\xdd\\xebV\\xd2O,\\x1fN\\xb5\\x85j\\xed4\\xa5c\\x1b\\xbe\\\\\\x9fj\\xd3\\x12\\x04\\xb5\\x12n\\x1ct\\xc5%\\xdc\\x1fbuQ>\\xb2\\xad\\x8e\\x117\\x7f\\x85j\\x1e\\x95\\x9b\\xa4\\xb1\\x95ZF^z\\x03\\xedW\\xae$\\x11\\xc6X\\xd7D>\\x1b\\x99\\xbd\\n\\xd77\\x18%P\\xe4\\xd4\\xb6\\x91\\x14\\x8fq\\x1f3rj\\xad\\xbcfI\\x03\\x91\\xc5^f\\xc1\\x08\\xbdO\\xe8*\\xe2\\x88\\xebqO\\xccv\\x8e\\x83\\xa9\\xa9\\x94\\x00)\\xa8\\x81@\\x02\\x9cX(\\xc98\\x15\\xb2V.+\\xab\\x175\\x13K\\x93\\xb5\\x7f\\x13\\xe9M,\\xd2\\xf0\\tU\\xf5\\xeei\\xea\\x80\\x0c\\x01\\x81Cw\\xd8\\x1c\\x9b\\xd1\\x00\\\\\\x1c\\x9eI\\xa7\\x01F)\\xc0SH\\x14E\\x03\\x8aZ(\\xa6XQE\\x14\\x0c(\\xa2\\x8a\\x00)\\t\\xc5\\x19\\xa0\\x0fZ\\x04\\x02\\x96\\x8a(\\x18QE\\x14\\x00QE\\x14\\x00QE\\x14\\x00QE\\x14\\x00QE\\x14\\x00QE\\x14\\x00QE\\x14\\x00QE\\x14\\x00QE\\x14\\x00QE\\x14\\x01\\xe5\\xf7\\xf7\\r\\x1a\\xc7\\x0cS41\\xfc\\xae\\x02X\\x9b\\x8d\\xcc\\xac\\n\\xf4#n\\x08\\x07\\xdf\\xf0\\xab\\xc9\\xadO6\\x9b\\x1cw\\x07|\\xa5\\x983\\xf9~^\\xe0\\x18\\x85b\\xb9\\xf9I\\x1d\\xbbV]\\xce\\x9du\\x14i;\\xdc4N\\xcc\\xa8<\\xa2\\x1f\\xef0\\x1f2\\x9e0\\t\\x04\\x9e\\xa0\\n\\xb3c\\xa2\\xce\\xe5\\xb7\\xca\\x931vw(\\x08PI\\xcf\\xbf\\xf3\\xae\\x1bK\\x99\\x9dRpxx\\xed\\xbfm|\\xfazu\\xf9\\x12;\\'\\x9e\\x15\\x80R\\xfds\\xd2\\x98\\xf7RF\\xec\\xbb\\x8b*\\xf0\\x08\\xab\\x92\\xdb:\\x05\\x85\\xb1+t\\x04v\\xfcj\\x85\\xc5\\xb1V\\xdb\\xf3)\\xf4&\\xa2H\\xe7\\x89b\\t\\x98\\x86-\\x90Xq\\xedL\\x8d\\xe6\\xfb\\xa4\\x95\\x07\\xbd6%w\\xc6\\x0f\\x03\\xa0\\xf5\\xabv\\xf0<\\x8f\\x96\\xc9\\x03\\x93Y[B\\x8b\\xda9\\x92+\\xa5\\x90)+\\xf7\\\\{\\x1aK\\xf2`\\xb8\\x91w\\x91\\x11l\\x81\\xf5\\xa6[\\xcd%\\xa3oW\\x03=sKy0\\xbcL\\xb0\\xe7<\\x91N\\xea\\xd6\\x15\\xb5\\xb9\\xbd\\xa2\\xcd\\x1bX\\x85C\\xf3\\x03\\xc8\\xa7\\xdc9\\x9aa\\x18\\xfb\\xa0\\xd5\\r \\xf96\\x8e\\xe1\\x08\\xe7h\\xad\\x0bT\\xc0.\\xff\\x00RMtS\\xbbV0\\x9b\\xd4\\x99H\\x86?rp\\x00\\xeejXP\\xaa\\x96nY\\xb9&\\xa2\\x84\\x19d2\\xb7\\n>\\xe0?\\xce\\x95\\xa7i\\tX\\x06ppX\\xf4\\x1f\\xe3]1\\xd0\\x85\\xdd\\x93I0\\x8c\\x0e\\xe4\\xf4Q\\xde\\x99\\xb1\\x9c\\xe5\\xdb#\\xfb\\xa3\\xa0\\xa1\"\\nw\\x1eX\\xf5&\\xa6\\x0bM&\\xf7+Y\\r\\x0bN\\x00\\xd3\\xb1\\x8a@{UXiXp\\x1cQKE2\\xc2\\x8a(\\xa0aE%!\\xc9\\xa0W\\x17p\\xa4\\xe4\\xfbR\\xe3\\x14\\xb4\\x00\\x94\\xb4Q@\\xc2\\x8a(\\xa0\\x02\\x8a(\\xa0\\x02\\x8a(\\xa0\\x02\\x8a(\\xa0\\x02\\x8a(\\xa0\\x02\\x8a(\\xa0\\x02\\x8a(\\xa0\\x02\\x8a(\\xa0\\x02\\x8a(\\xa0\\x02\\x8a(\\xa0\\x02\\x8a(\\xa0\\x0f\"\\xba\\xb6\\x8ak\\xe8c\\x96K9e\\x95\\x0e\\xc5\\xbbG~\\xff\\x00\\xc3\\x82?/j\\xebt\\x08\\x96\\x1d\\x18\\xdbF\\xc8]\\'\\x95N\\xd4(\\x8aC\\x1c\\xaa\\xa9$\\xed\\x1d\\x06O\\xe5XR\\x88\\x06\\x05\\xd5\\xbe\\xfbFPev\\n\\xcb\\x18$\\x80YH\\xfb\\xb9\\x07-\\x9f\\x97#\\xb6H\\xd4\\xd1\\xa6\\x82+]\\xb6\\xc8\\xb1\\xc0\\xb3\\xba(\\x0cX1\\x0cAl\\xe4\\xf5<\\xf5\\xaf=i+\\x9d\\xb5e)a\\xe3\\x07{/Ku\\xfb\\x9f\\x95\\xbc\\xeeh5\\xa3\\xa3\\x10\\x18.~\\xf3\\x0e\\xf5Ve\\xb6\\x8d[\\xe4\\x0e\\xdd\\xcd>\\xebY\\x878X\\xcb*\\x9c\\x0c\\x1cf\\xb2\\xee\\xaeL\\xa0\\xff\\x00\\n\\xe7\\x95^\\xd4JG\\x14b\\x06p\\xb9\\xda\\xa3\\xe8\\x05]\\x86T\\x8e6\\x04\\x80\\xd2 \\xc1\\'\\xf1\\xacu\\x97\\xa8\\xef\\x9cqR\\xc9q\\xbc\\xa8\\xdd\\x8c\\n\\xc5nh\\xf6-<\\xa8\\xca\\xca\\x9c\\xe3\\xaf4\\xc8\\x01y\\n\\xa6Hc\\x80)m\\xad\\x9aH\\x9aFeP;\\x93W,Q\\x1a\\xe1Y\\x0e\\xe0\\x879\\xc7Z\\xae^\\x82\\xbd\\x8d\\xec|\\xb0\\xc0?\\x81F\\xef\\xad\\x13\\xdcD\\x98\\x8d\\x9c*\\x8f\\xbf\\x8e\\xfe\\xd5Jk\\xe3\\x1byp\\xaf\\x9b;\\x1e\\x14\\x7fZ\\xb7\\xa7\\xe9f6\\x13\\xdd7\\x99)\\xe7\\x9e\\x82\\xba\\xe3\\x13\\x96Z\\xb2u\\xf3\\xaf\\x00,\\xa6(\\x7f\\xbb\\xdd\\xc7\\xbf\\xa0\\xab\\x89\\x1a\\xaa\\x85Q\\x80:\\np\\x18\\x14\\xb5\\xb2V)G\\xb8b\\x9c8\\xa2\\x90\\x9cU\\x96)\\xa4^\\xa6\\x86<P\\xbdh\\x17Q\\xf4QHh,ZL\\xd2R\\x81@\\x80sKE\\x14\\x00QE\\x14\\x0c(\\xa2\\x8a\\x00(\\xa2\\x8a\\x00(\\xa2\\x8a\\x00(\\xa2\\x8a\\x00(\\xa2\\x8a\\x00(\\xa2\\x8a\\x00(\\xa2\\x8a\\x00(\\xa2\\x8a\\x00(\\xa2\\x8a\\x00(\\xa2\\x8a\\x00(\\xa2\\x8a\\x00(\\xa2\\x8a\\x00\\xf3\\xb1\\xf6\\xb8\\xe5Xm\\xa2\\xb6\\x91\\x8cE\\xdde\\x99\\x90\\xed\\x07\\x1caNFO\\xebSi\\xa8_L\\xb7\\xf3\\x92!\\xb5\\x03f\\x03\\x88\\xca\\x9eAQ\\x81\\x80G8\\xc5W\\xd7^\\xe8A\"\\xdb\\x88\\xbc\\xb9a\\x11H\\x18;H71\\x00\\xa2\\xa8\\xf9\\x8f\\'\\x8e:zS4\\xf9c\\xfb7\\x91l\\x8c\\x91\\xb4\\xf2\\x14FVVPX\\xe1HnA\\x15\\xe7^\\xcc\\xec\\x94\\x17\\xb0M.\\xbf\\xd5\\xf5\\xfd\\n\\xd2\\xdc\"\\xcb.\\x07s\\xb4g\\xb5Uk\\x96\\xc0Px\\xeak^\\xfa\\x0bu_\\xdd\\xaa\\x96\\x1fy\\xb3\\xd6\\xa8I`\\xe5U\\x95s\\x91\\x9a\\x97\\x1e\\xc7:hdR\\x02wt\\x07\\xf4\\xa9\\x9e&E\\x12pU\\xb8\\xcezT6\\xd1\\t\\x19\\xa1.\\x11\\xc0\\xca\\x87<\\x1fj\\xb7\\xa7\\xdc\\xc6\\xbb\\xad\\xeeP\\x159\\x18\\xc5\\tu`\\xfc\\x85\\x8aIY|\\x84p\\x07p9\\xfcj\\xde\\x9ef\\x96_\"\\xdc\\xe5\\xb1\\xb4\\x9cp\\xbe\\xf9\\xaa\\tiu\\xa8\\xdf\\x18l\\xce\"S\\xb4\\xc8\\xa3\\x80=3\\xfd+\\xb7\\xd2\\xb4\\xa8\\xb4\\xfbp\\x88\\xa3q\\xe5\\x89\\xeakh\\xc2\\xefS\\x19K\\xa2\\x1d\\xa7i\\xd1\\xda!c\\xf3\\xbbr\\xce\\xc3\\x93Z P\\x05(\\x15\\xd4\\x95\\x88\\x8a\\x17\\x14f\\x8c\\xd2\\x13TXQ\\x9a\\t\\xa4\\xcd+\\x92\\xd8R\\x8aJQ\\xc5\\x00\\x87\\xe6\\x83\\xd2\\x90R\\xe2\\xa8\\xb0\\x02\\x96\\x8a(\\x18QE\\x14\\x00QE\\x14\\x00QE\\x14\\x00QE\\x14\\x00QE\\x14\\x00QE\\x14\\x00QE\\x14\\x00QE\\x14\\x00QE\\x14\\x00QE%\\x00-\\x14Q@\\x05\\x14Q@\\x05\\x14Q@\\x05\\x14Q@\\x1eiwckwn\\'\\xb9\\x88\\xcb\"\\x83\\x82de\\xc7?\\xec\\x91U\"E\\xb6\"(\\x06\\xc4^\\x83$\\xf5>\\xa7\\x9a(\\xaf2[\\x9bJ\\xa4\\xf9c\\x0b\\xe9\\xd8\\xb4\\xbc\\x8e}EkY\\x80g(@\\xc6?\\xa5\\x14Q\\x1d\\x8c\\xa4Q\\xd5l\\xa1\\x13\\xb3\\x00A\\xf65B\\xe5@D\\x03\\xf8\\x88R{\\xe3\\x14QZ\\xf5\\x04w:5\\x95\\xbd\\xb5\\xaa,Q\\x85\\xe39\\xefZ\\xa2\\x8a+\\xa2&1\\x14R\\xd1EhX\\x82\\x92\\x8a)t%\\x81\\xa4\\xefE\\x14\\x07Q\\xd4\\x0e\\xa2\\x8a)\\x8d\\x0f\\xefKE\\x15E\\x85\\x14Q@\\x05\\x14Q@\\x05\\x14Q@\\x05\\x14Q@\\x05\\x14Q@\\x05\\x14Q@\\x05\\x14Q@\\x05\\x14Q@\\x05\\x14Q@\\x08j6&\\x8a*$K\\x02M\\x14QR&*\\x9ei\\xf4QZ-\\x8a[\\x0bE\\x14S\\x18QE\\x14\\x00QE\\x14\\x01\\xff\\xd9'>"
            ]
          },
          "metadata": {},
          "execution_count": 21
        }
      ]
    },
    {
      "cell_type": "code",
      "source": [
        "tensor = tf.image.decode_jpeg(tensor, channels=3)[:2]"
      ],
      "metadata": {
        "id": "EddH4BqmrUrU"
      },
      "execution_count": 22,
      "outputs": []
    },
    {
      "cell_type": "code",
      "source": [
        "tf.image.convert_image_dtype(tensor, tf.float32)"
      ],
      "metadata": {
        "colab": {
          "base_uri": "https://localhost:8080/"
        },
        "id": "7eKcF_05r2qJ",
        "outputId": "97301079-5c47-4362-cb09-909e4aa4468d"
      },
      "execution_count": 23,
      "outputs": [
        {
          "output_type": "execute_result",
          "data": {
            "text/plain": [
              "<tf.Tensor: shape=(2, 375, 3), dtype=float32, numpy=\n",
              "array([[[0.23137257, 0.26666668, 0.25490198],\n",
              "        [0.2509804 , 0.28627452, 0.27450982],\n",
              "        [0.2784314 , 0.3137255 , 0.3019608 ],\n",
              "        ...,\n",
              "        [0.45098042, 0.5019608 , 0.42352945],\n",
              "        [0.45098042, 0.5019608 , 0.42352945],\n",
              "        [0.43137258, 0.48235297, 0.4039216 ]],\n",
              "\n",
              "       [[0.25490198, 0.2901961 , 0.2784314 ],\n",
              "        [0.28235295, 0.31764707, 0.30588236],\n",
              "        [0.30980393, 0.34509805, 0.33333334],\n",
              "        ...,\n",
              "        [0.44705886, 0.49803925, 0.41960788],\n",
              "        [0.45882356, 0.50980395, 0.43137258],\n",
              "        [0.454902  , 0.5058824 , 0.427451  ]]], dtype=float32)>"
            ]
          },
          "metadata": {},
          "execution_count": 23
        }
      ]
    },
    {
      "cell_type": "markdown",
      "source": [
        "## Turning our data into Batches\n",
        "\n",
        "Why turn our data into batches?\n",
        "\n",
        "Let's say we're trying to process 10,000+ images in one go... they all might not fit into memory\n",
        "\n",
        "So, that's why we do about 32 (this is the batch size) images at a time (we can manually adjust the batch size if need be).\n",
        "\n",
        "In order to use TensorFlow effectively, we need our data in the form of Tensor tuples which look like this: (image, label)."
      ],
      "metadata": {
        "id": "WeNGVHEPqZhA"
      }
    },
    {
      "cell_type": "code",
      "source": [
        "# Create a simple function to return a tuple (image, label)\n",
        "\n",
        "def get_image_label(image_path, label):\n",
        "  \"\"\"\n",
        "  Takes an image file path name and the associated label, processess the image and return a tuple of (image, label).\n",
        "  \"\"\"\n",
        "  image = process_image(image_path)\n",
        "  return image, label "
      ],
      "metadata": {
        "id": "NOZe-AFaqRPl"
      },
      "execution_count": 24,
      "outputs": []
    },
    {
      "cell_type": "code",
      "source": [
        "# Demo of the above\n",
        "(process_image(X[42]), tf.constant(y[42]))"
      ],
      "metadata": {
        "colab": {
          "base_uri": "https://localhost:8080/"
        },
        "id": "lpjwIW-pr1EU",
        "outputId": "9ba09b4d-f6e1-4025-e83f-11a8c2fbb5ed"
      },
      "execution_count": 25,
      "outputs": [
        {
          "output_type": "execute_result",
          "data": {
            "text/plain": [
              "(<tf.Tensor: shape=(224, 224, 3), dtype=float32, numpy=\n",
              " array([[[0.3264178 , 0.5222886 , 0.3232816 ],\n",
              "         [0.2537167 , 0.44366494, 0.24117757],\n",
              "         [0.25699762, 0.4467087 , 0.23893751],\n",
              "         ...,\n",
              "         [0.29325107, 0.5189916 , 0.3215547 ],\n",
              "         [0.29721776, 0.52466875, 0.33030328],\n",
              "         [0.2948505 , 0.5223015 , 0.33406618]],\n",
              " \n",
              "        [[0.25903144, 0.4537807 , 0.27294815],\n",
              "         [0.24375686, 0.4407019 , 0.2554778 ],\n",
              "         [0.2838985 , 0.47213382, 0.28298813],\n",
              "         ...,\n",
              "         [0.2785345 , 0.5027992 , 0.31004712],\n",
              "         [0.28428748, 0.5108719 , 0.32523635],\n",
              "         [0.28821915, 0.5148036 , 0.32916805]],\n",
              " \n",
              "        [[0.20941195, 0.40692952, 0.25792548],\n",
              "         [0.24045378, 0.43900946, 0.2868911 ],\n",
              "         [0.29001117, 0.47937486, 0.32247734],\n",
              "         ...,\n",
              "         [0.26074055, 0.48414773, 0.30125174],\n",
              "         [0.27101526, 0.49454468, 0.32096273],\n",
              "         [0.27939945, 0.5029289 , 0.32934693]],\n",
              " \n",
              "        ...,\n",
              " \n",
              "        [[0.00634795, 0.03442048, 0.0258106 ],\n",
              "         [0.01408936, 0.04459917, 0.0301715 ],\n",
              "         [0.01385712, 0.04856448, 0.02839671],\n",
              "         ...,\n",
              "         [0.4220516 , 0.39761978, 0.21622123],\n",
              "         [0.47932503, 0.45370543, 0.2696505 ],\n",
              "         [0.48181024, 0.45828083, 0.27004552]],\n",
              " \n",
              "        [[0.00222061, 0.02262166, 0.03176915],\n",
              "         [0.01008397, 0.03669046, 0.02473482],\n",
              "         [0.00608852, 0.03890046, 0.01207283],\n",
              "         ...,\n",
              "         [0.36070833, 0.33803678, 0.16216145],\n",
              "         [0.42499566, 0.3976801 , 0.21701711],\n",
              "         [0.4405433 , 0.4139589 , 0.23183356]],\n",
              " \n",
              "        [[0.05608025, 0.06760229, 0.10401428],\n",
              "         [0.05441074, 0.07435255, 0.05428263],\n",
              "         [0.04734282, 0.07581793, 0.02060942],\n",
              "         ...,\n",
              "         [0.3397559 , 0.31265694, 0.14725602],\n",
              "         [0.387725  , 0.360274  , 0.18714729],\n",
              "         [0.43941984, 0.41196886, 0.23884216]]], dtype=float32)>,\n",
              " <tf.Tensor: shape=(120,), dtype=bool, numpy=\n",
              " array([False, False, False, False, False, False, False, False, False,\n",
              "        False, False, False, False, False, False, False, False, False,\n",
              "        False, False, False, False, False, False, False, False, False,\n",
              "        False, False, False, False, False, False, False, False, False,\n",
              "         True, False, False, False, False, False, False, False, False,\n",
              "        False, False, False, False, False, False, False, False, False,\n",
              "        False, False, False, False, False, False, False, False, False,\n",
              "        False, False, False, False, False, False, False, False, False,\n",
              "        False, False, False, False, False, False, False, False, False,\n",
              "        False, False, False, False, False, False, False, False, False,\n",
              "        False, False, False, False, False, False, False, False, False,\n",
              "        False, False, False, False, False, False, False, False, False,\n",
              "        False, False, False, False, False, False, False, False, False,\n",
              "        False, False, False])>)"
            ]
          },
          "metadata": {},
          "execution_count": 25
        }
      ]
    },
    {
      "cell_type": "markdown",
      "source": [
        "Now we've got a way to turn our data into tuples of Tensors in the form: `(image, label)`, let's make a function to turn all of our data (x & y) into batches."
      ],
      "metadata": {
        "id": "ZkjshyO2vo3z"
      }
    },
    {
      "cell_type": "code",
      "source": [
        "# Define the batch size, 32 is a good start\n",
        "BATCH_SIZE = 2\n",
        "\n",
        "# Create a function to turn data into batches\n",
        "def create_data_batches(X, y=None, batch_size=BATCH_SIZE, valid_data=False, test_data=False):\n",
        "  \"\"\"\n",
        "  Creates batches of data out of image (X) and label (y) pairs.\n",
        "  Shuffles the data if it's training data but doesn't shuffle if it's validation data.\n",
        "  Also accepts test data as input (no labels).\n",
        "  \"\"\"\n",
        "\n",
        "  # If the data is a test dataset, we probably don't have labels\n",
        "\n",
        "  if test_data:\n",
        "    print(\"Creating test data batches...\")\n",
        "    data = tf.data.Dataset.from_tensor_slices((tf.constant(X))) # only filepath (no labels)\n",
        "    data_batch = data.map(process_image).batch(BATCH_SIZE)\n",
        "    return data_batch\n",
        "\n",
        "  # If the data is a valid dataset, we don't need to shuffle it\n",
        "\n",
        "\n",
        "  elif valid_data:\n",
        "    print(\"Creating validation data batches...\")\n",
        "    data = tf.data.Dataset.from_tensor_slices((tf.constant(X), tf.constant(y)))\n",
        "\n",
        "    data_batch = data.map(get_image_label).batch(BATCH_SIZE)\n",
        "    return data_batch\n",
        "\n",
        "  else:\n",
        "    print(\"Creating training data batches...\")\n",
        "    # Turn filepaths and labels into Tensors\n",
        "    data = tf.data.Dataset.from_tensor_slices((tf.constant(X), tf.constant(y)))\n",
        "\n",
        "    # Shuffling pathnames and labels before mapping image processor function is faster than shuffling images\n",
        "    data = data.shuffle(buffer_size=len(X))\n",
        "\n",
        "    # Create (image,label) tuples (this also turns the image path into a preprocessed image)\n",
        "    data = data.map(get_image_label)\n",
        "\n",
        "    # Turn the training data into batches \n",
        "    data_batch = data.batch(BATCH_SIZE)\n",
        "  return data_batch"
      ],
      "metadata": {
        "id": "nk6l-_TSsLxY"
      },
      "execution_count": 26,
      "outputs": []
    },
    {
      "cell_type": "code",
      "source": [
        "train_data = create_data_batches(X_train, y_train)\n",
        "val_data = create_data_batches(X_val, y_val, valid_data=True)"
      ],
      "metadata": {
        "colab": {
          "base_uri": "https://localhost:8080/"
        },
        "id": "q7MXwLvRzbUM",
        "outputId": "04988228-7ade-4bc6-9510-1ba34c1b616a"
      },
      "execution_count": 27,
      "outputs": [
        {
          "output_type": "stream",
          "name": "stdout",
          "text": [
            "Creating training data batches...\n",
            "Creating validation data batches...\n"
          ]
        }
      ]
    },
    {
      "cell_type": "code",
      "source": [
        "# Check out the different attributes of our data batches\n",
        "train_data.element_spec, val_data.element_spec"
      ],
      "metadata": {
        "colab": {
          "base_uri": "https://localhost:8080/"
        },
        "id": "cpS9eA56zvmV",
        "outputId": "57c90907-0f0a-436b-c2b5-1b89f5b62f4b"
      },
      "execution_count": 28,
      "outputs": [
        {
          "output_type": "execute_result",
          "data": {
            "text/plain": [
              "((TensorSpec(shape=(None, 224, 224, 3), dtype=tf.float32, name=None),\n",
              "  TensorSpec(shape=(None, 120), dtype=tf.bool, name=None)),\n",
              " (TensorSpec(shape=(None, 224, 224, 3), dtype=tf.float32, name=None),\n",
              "  TensorSpec(shape=(None, 120), dtype=tf.bool, name=None)))"
            ]
          },
          "metadata": {},
          "execution_count": 28
        }
      ]
    },
    {
      "cell_type": "code",
      "source": [
        ""
      ],
      "metadata": {
        "id": "s41ox_Vi0r7a"
      },
      "execution_count": 28,
      "outputs": []
    }
  ]
}